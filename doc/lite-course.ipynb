{
 "cells": [
  {
   "cell_type": "markdown",
   "metadata": {},
   "source": [
    "# Origin and goals of commonlib"
   ]
  },
  {
   "cell_type": "markdown",
   "metadata": {},
   "source": [
    "1. commonlib was written as a basis for a future lite version of the engine, with no dependency on Postgresql, Django and Celery\n",
    "2. the idea is to move in commonlib *everything* which does not depend on Postgresql, Django and Celery\n",
    "3. the engine *must* become small\n",
    "4. it must be possible to write hazard/risk calculators entirely in commonlib\n",
    "5. sooner or later the engine QA test will be moved in commonlib\n",
    "6. hazardlib, risklib, commonlib might become a single repository (oq-lite)"
   ]
  },
  {
   "cell_type": "markdown",
   "metadata": {},
   "source": [
    "# Use of commonlib: reading the engine input files"
   ]
  },
  {
   "cell_type": "code",
   "execution_count": 1,
   "metadata": {
    "collapsed": false
   },
   "outputs": [
    {
     "name": "stdout",
     "output_type": "stream",
     "text": [
      "/home/michele/oq-risklib/doc\n",
      "['fragility_model.xml', 'job_hc_from_csv.ini', 'job_usa.ini', 'source_model_logic_tree.xml', 'NSHMP2008US_micro.xml', 'fault_rupture.xml', 'hello_test.py', 'exposure_model.xml', 'gmpe_logic_tree.xml', 'expected.xml', 'rupture_model.xml', 'job_gmvs_from_csv.ini', 'job_risk.ini', 'job.ini', 'riskinput.py', 'conf.py', 'hello.ini', 'test.py', 'job_damage.ini', 'vulnerability_model.xml']\n"
     ]
    }
   ],
   "source": [
    "import os; print os.getcwd()\n",
    "print [f for f in os.listdir('.') if f.endswith(('.py', '.ini', '.xml'))]"
   ]
  },
  {
   "cell_type": "code",
   "execution_count": 2,
   "metadata": {
    "collapsed": false
   },
   "outputs": [
    {
     "name": "stdout",
     "output_type": "stream",
     "text": [
      "[general]\n",
      "description = Scenario QA Test, Case 1\n",
      "calculation_mode = my_scenario\n",
      "export_dir = /tmp\n",
      "random_seed = 3\n",
      "sites = 0.0 0.0, 0.0 0.1, 0.0 0.2\n",
      "rupture_mesh_spacing = 1.0\n",
      "reference_vs30_type = measured\n",
      "reference_vs30_value = 800.0\n",
      "reference_depth_to_2pt5km_per_sec = 2.5\n",
      "reference_depth_to_1pt0km_per_sec = 100.0\n",
      "rupture_model_file = rupture_model.xml\n",
      "intensity_measure_types = PGA\n",
      "truncation_level = 1.0\n",
      "maximum_distance = 200\n",
      "gsim = BooreAtkinson2008\n",
      "number_of_ground_motion_fields = 5\n",
      "\n"
     ]
    }
   ],
   "source": [
    "print open('job.ini').read()"
   ]
  },
  {
   "cell_type": "code",
   "execution_count": 4,
   "metadata": {
    "collapsed": false
   },
   "outputs": [
    {
     "data": {
      "text/plain": [
       "set()"
      ]
     },
     "execution_count": 4,
     "metadata": {},
     "output_type": "execute_result"
    }
   ],
   "source": [
    "from openquake.baselib.general import import_all; import_all('my_calculators')"
   ]
  },
  {
   "cell_type": "code",
   "execution_count": 5,
   "metadata": {
    "collapsed": false
   },
   "outputs": [],
   "source": [
    "from openquake.commonlib import readinput"
   ]
  },
  {
   "cell_type": "code",
   "execution_count": 6,
   "metadata": {
    "collapsed": false
   },
   "outputs": [
    {
     "data": {
      "text/plain": [
       "<OqParam base_path=u'/home/michele/oq-risklib/doc', calculation_mode='my_scenario', complex_fault_mesh_spacing=1.0, description=u'Scenario QA Test, Case 1', export_dir=u'/tmp', gsim='BooreAtkinson2008()', hazard_imtls={'PGA': None}, inputs={'rupture_model': '/home/michele/oq-risklib/doc/rupture_model.xml', 'job_ini': '/home/michele/oq-risklib/doc/job.ini'}, maximum_distance=200.0, number_of_ground_motion_fields=5, random_seed=3, reference_depth_to_1pt0km_per_sec=100.0, reference_depth_to_2pt5km_per_sec=2.5, reference_vs30_type='measured', reference_vs30_value=800.0, risk_investigation_time=None, rupture_mesh_spacing=1.0, sites=[(0.0, 0.0), (0.0, 0.1), (0.0, 0.2)], truncation_level=1.0>"
      ]
     },
     "execution_count": 6,
     "metadata": {},
     "output_type": "execute_result"
    }
   ],
   "source": [
    "oqparam = readinput.get_oqparam('job.ini'); oqparam"
   ]
  },
  {
   "cell_type": "code",
   "execution_count": 7,
   "metadata": {
    "collapsed": false
   },
   "outputs": [
    {
     "name": "stdout",
     "output_type": "stream",
     "text": [
      "base_path = u'/home/michele/oq-risklib/doc'\n",
      "calculation_mode = 'my_scenario'\n",
      "complex_fault_mesh_spacing = 1.0\n",
      "description = u'Scenario QA Test, Case 1'\n",
      "export_dir = u'/tmp'\n",
      "gsim = 'BooreAtkinson2008()'\n",
      "hazard_imtls = {'PGA': None}\n",
      "inputs = {'rupture_model': '/home/michele/oq-risklib/doc/rupture_model.xml', 'job_ini': '/home/michele/oq-risklib/doc/job.ini'}\n",
      "maximum_distance = 200.0\n",
      "number_of_ground_motion_fields = 5\n",
      "random_seed = 3\n",
      "reference_depth_to_1pt0km_per_sec = 100.0\n",
      "reference_depth_to_2pt5km_per_sec = 2.5\n",
      "reference_vs30_type = 'measured'\n",
      "reference_vs30_value = 800.0\n",
      "risk_investigation_time = None\n",
      "rupture_mesh_spacing = 1.0\n",
      "sites = [(0.0, 0.0), (0.0, 0.1), (0.0, 0.2)]\n",
      "truncation_level = 1.0\n"
     ]
    }
   ],
   "source": [
    "for name, value in oqparam:\n",
    "    print name, '=', repr(value)"
   ]
  },
  {
   "cell_type": "code",
   "execution_count": 8,
   "metadata": {
    "collapsed": false
   },
   "outputs": [
    {
     "name": "stdout",
     "output_type": "stream",
     "text": [
      "(0.0, 0.0)\n",
      "(0.0, 0.1)\n",
      "(0.0, 0.2)\n"
     ]
    }
   ],
   "source": [
    "for coords in oqparam.sites: print coords"
   ]
  },
  {
   "cell_type": "code",
   "execution_count": 9,
   "metadata": {
    "collapsed": false
   },
   "outputs": [
    {
     "name": "stdout",
     "output_type": "stream",
     "text": [
      "<Latitude=0.000000, Longitude=0.000000, Depth=0.0000>\n",
      "<Latitude=0.100000, Longitude=0.000000, Depth=0.0000>\n",
      "<Latitude=0.200000, Longitude=0.000000, Depth=0.0000>\n"
     ]
    }
   ],
   "source": [
    "mesh = readinput.get_mesh(oqparam)\n",
    "for site in mesh: print site"
   ]
  },
  {
   "cell_type": "code",
   "execution_count": 27,
   "metadata": {
    "collapsed": false
   },
   "outputs": [
    {
     "data": {
      "text/plain": [
       "'BooreAtkinson2008()'"
      ]
     },
     "execution_count": 27,
     "metadata": {},
     "output_type": "execute_result"
    }
   ],
   "source": [
    "[gsim] = readinput.get_gsims(oqparam); gsim"
   ]
  },
  {
   "cell_type": "code",
   "execution_count": 12,
   "metadata": {
    "collapsed": false
   },
   "outputs": [
    {
     "name": "stdout",
     "output_type": "stream",
     "text": [
      "<?xml version='1.0' encoding='utf-8'?>\n",
      "<nrml xmlns:gml=\"http://www.opengis.net/gml\"\n",
      "      xmlns=\"http://openquake.org/xmlns/nrml/0.4\">\n",
      "    <simpleFaultRupture>\n",
      "        <magnitude>7.0</magnitude>\n",
      "        <rake>90.0</rake>\n",
      "        <hypocenter lat=\"0.0\" lon=\"0.0\" depth=\"10.0\"/>\n",
      "        <simpleFaultGeometry>\n",
      "            <gml:LineString>\n",
      "                <gml:posList>\n",
      "                    28 80.3\n",
      "                    28  80.6\n",
      "                </gml:posList>\n",
      "            </gml:LineString>\n",
      "            <dip>90.0</dip>\n",
      "            <upperSeismoDepth>2.0</upperSeismoDepth>\n",
      "            <lowerSeismoDepth>20.0</lowerSeismoDepth>\n",
      "        </simpleFaultGeometry>\n",
      "    </simpleFaultRupture>\n",
      "</nrml>\n",
      "\n"
     ]
    }
   ],
   "source": [
    "print open('rupture_model.xml').read()"
   ]
  },
  {
   "cell_type": "code",
   "execution_count": 13,
   "metadata": {
    "collapsed": false
   },
   "outputs": [
    {
     "data": {
      "text/plain": [
       "<openquake.hazardlib.source.rupture.Rupture at 0x7f0ed6af1130>"
      ]
     },
     "execution_count": 13,
     "metadata": {},
     "output_type": "execute_result"
    }
   ],
   "source": [
    "rupture = readinput.get_rupture(oqparam); rupture"
   ]
  },
  {
   "cell_type": "code",
   "execution_count": 14,
   "metadata": {
    "collapsed": false
   },
   "outputs": [
    {
     "data": {
      "text/plain": [
       "(7.0,\n",
       " 90.0,\n",
       " <openquake.hazardlib.geo.surface.simple_fault.SimpleFaultSurface at 0x7f0ed6b06050>)"
      ]
     },
     "execution_count": 14,
     "metadata": {},
     "output_type": "execute_result"
    }
   ],
   "source": [
    "rupture.mag, rupture.rake, rupture.surface"
   ]
  },
  {
   "cell_type": "code",
   "execution_count": 15,
   "metadata": {
    "collapsed": false
   },
   "outputs": [
    {
     "data": {
      "text/plain": [
       "[PGA()]"
      ]
     },
     "execution_count": 15,
     "metadata": {},
     "output_type": "execute_result"
    }
   ],
   "source": [
    "imts = readinput.get_imts(oqparam); imts"
   ]
  },
  {
   "cell_type": "code",
   "execution_count": 16,
   "metadata": {
    "collapsed": false
   },
   "outputs": [
    {
     "data": {
      "text/plain": [
       "openquake.hazardlib.imt.PGA"
      ]
     },
     "execution_count": 16,
     "metadata": {},
     "output_type": "execute_result"
    }
   ],
   "source": [
    "type(imts[0])"
   ]
  },
  {
   "cell_type": "code",
   "execution_count": 17,
   "metadata": {
    "collapsed": false
   },
   "outputs": [
    {
     "data": {
      "text/plain": [
       "<SiteCollection with 3 sites>"
      ]
     },
     "execution_count": 17,
     "metadata": {},
     "output_type": "execute_result"
    }
   ],
   "source": [
    "sitecol = readinput.get_site_collection(oqparam); sitecol"
   ]
  },
  {
   "cell_type": "code",
   "execution_count": 18,
   "metadata": {
    "collapsed": false
   },
   "outputs": [
    {
     "data": {
      "text/plain": [
       "[<Location=<Latitude=0.000000, Longitude=0.000000, Depth=0.0000>, Vs30=800.0000, Vs30Measured=True, Depth1.0km=100.0000, Depth2.5km=2.5000, Backarc=False>,\n",
       " <Location=<Latitude=0.100000, Longitude=0.000000, Depth=0.0000>, Vs30=800.0000, Vs30Measured=True, Depth1.0km=100.0000, Depth2.5km=2.5000, Backarc=False>,\n",
       " <Location=<Latitude=0.200000, Longitude=0.000000, Depth=0.0000>, Vs30=800.0000, Vs30Measured=True, Depth1.0km=100.0000, Depth2.5km=2.5000, Backarc=False>]"
      ]
     },
     "execution_count": 18,
     "metadata": {},
     "output_type": "execute_result"
    }
   ],
   "source": [
    "list(sitecol)"
   ]
  },
  {
   "cell_type": "markdown",
   "metadata": {},
   "source": [
    "## This is enough for performing simple hazard calculations"
   ]
  },
  {
   "cell_type": "code",
   "execution_count": 19,
   "metadata": {
    "collapsed": false
   },
   "outputs": [],
   "source": [
    "from openquake.hazardlib.calc.gmf import ground_motion_fields"
   ]
  },
  {
   "cell_type": "code",
   "execution_count": 20,
   "metadata": {
    "collapsed": false
   },
   "outputs": [],
   "source": [
    "ground_motion_fields?"
   ]
  },
  {
   "cell_type": "code",
   "execution_count": 28,
   "metadata": {
    "collapsed": false,
    "scrolled": false
   },
   "outputs": [
    {
     "data": {
      "text/plain": [
       "{PGA(): array([[  1.29778834e-47,   1.12319707e-47,   1.01915100e-47,\n",
       "           1.07825099e-47,   1.65947553e-47],\n",
       "        [  2.04784726e-47,   7.51203345e-48,   1.06991019e-47,\n",
       "           7.86882106e-48,   1.24054768e-47],\n",
       "        [  1.01174143e-47,   1.16454566e-47,   1.80072257e-47,\n",
       "           1.13539698e-47,   1.73028861e-47]])}"
      ]
     },
     "execution_count": 28,
     "metadata": {},
     "output_type": "execute_result"
    }
   ],
   "source": [
    "ground_motion_fields(rupture, sitecol, imts, gsim, oqparam.truncation_level, \n",
    "                     oqparam.number_of_ground_motion_fields,\n",
    "                     correlation_model=readinput.get_correl_model(oqparam),\n",
    "                     seed=oqparam.random_seed) "
   ]
  },
  {
   "cell_type": "markdown",
   "metadata": {},
   "source": [
    "# Reading risk input files"
   ]
  },
  {
   "cell_type": "code",
   "execution_count": 29,
   "metadata": {
    "collapsed": false
   },
   "outputs": [
    {
     "name": "stdout",
     "output_type": "stream",
     "text": [
      "base_path /home/michele/oq-risklib/doc\n",
      "calculation_mode scenario_damage\n",
      "complex_fault_mesh_spacing 10.0\n",
      "description Scenario Damage Example\n",
      "export_dir /tmp\n",
      "ground_motion_correlation_model None\n",
      "ground_motion_correlation_params {}\n",
      "gsim ChiouYoungs2008\n",
      "inputs {'rupture_model': '/home/michele/oq-risklib/doc/fault_rupture.xml', 'fragility': '/home/michele/oq-risklib/doc/fragility_model.xml', 'job_ini': '/home/michele/oq-risklib/doc/job_damage.ini', 'exposure': '/home/michele/oq-risklib/doc/exposure_model.xml'}\n",
      "maximum_distance 300.0\n",
      "number_of_ground_motion_fields 5\n",
      "random_seed 3\n",
      "reference_depth_to_1pt0km_per_sec 100.0\n",
      "reference_depth_to_2pt5km_per_sec 5.0\n",
      "reference_vs30_type measured\n",
      "reference_vs30_value 760.0\n",
      "region_constraint POLYGON((78.0 31.5, 89.5 31.5, 89.5 25.5, 78.0 25.5, 78.0 31.5))\n",
      "risk_imtls {'SA(0.5)': [0.02, 0.09789473684210527, 0.17578947368421052, 0.25368421052631579, 0.33157894736842108, 0.40947368421052632, 0.48736842105263162, 0.56526315789473691, 0.64315789473684215, 0.72105263157894739, 0.79894736842105263, 0.87684210526315798, 0.95473684210526322, 1.0326315789473686, 1.1105263157894738, 1.188421052631579, 1.2663157894736843, 1.3442105263157895, 1.4221052631578948, 1.5], 'SA(0.2)': [0.02, 0.09789473684210527, 0.17578947368421052, 0.25368421052631579, 0.33157894736842108, 0.40947368421052632, 0.48736842105263162, 0.56526315789473691, 0.64315789473684215, 0.72105263157894739, 0.79894736842105263, 0.87684210526315798, 0.95473684210526322, 1.0326315789473686, 1.1105263157894738, 1.188421052631579, 1.2663157894736843, 1.3442105263157895, 1.4221052631578948, 1.5], 'PGA': [0.02, 0.09789473684210527, 0.17578947368421052, 0.25368421052631579, 0.33157894736842108, 0.40947368421052632, 0.48736842105263162, 0.56526315789473691, 0.64315789473684215, 0.72105263157894739, 0.79894736842105263, 0.87684210526315798, 0.95473684210526322, 1.0326315789473686, 1.1105263157894738, 1.188421052631579, 1.2663157894736843, 1.3442105263157895, 1.4221052631578948, 1.5]}\n",
      "risk_investigation_time None\n",
      "rupture_mesh_spacing 10.0\n",
      "truncation_level 3.0\n"
     ]
    }
   ],
   "source": [
    "oqp = readinput.get_oqparam('job_damage.ini')\n",
    "for name, value in oqp:\n",
    "    print name, value"
   ]
  },
  {
   "cell_type": "code",
   "execution_count": 30,
   "metadata": {
    "collapsed": false
   },
   "outputs": [
    {
     "data": {
      "text/plain": [
       "Exposure(id='ep', category='buildings', description=u'Exposure model for buildings', cost_types=[{'type': 'per_asset', 'name': 'structural', 'unit': 'USD'}], insurance_limit_is_absolute=True, deductible_is_absolute=True, area={'type': ''}, assets=[<Asset a1>, <Asset a2>, <Asset a3>], taxonomies=set(['RM', 'W', 'RC']))"
      ]
     },
     "execution_count": 30,
     "metadata": {},
     "output_type": "execute_result"
    }
   ],
   "source": [
    "exposure = readinput.get_exposure(oqp); exposure"
   ]
  },
  {
   "cell_type": "code",
   "execution_count": 31,
   "metadata": {
    "collapsed": false
   },
   "outputs": [],
   "source": [
    "a1 = exposure.assets[0]"
   ]
  },
  {
   "cell_type": "code",
   "execution_count": 32,
   "metadata": {
    "collapsed": false
   },
   "outputs": [
    {
     "data": {
      "text/plain": [
       "3000.0"
      ]
     },
     "execution_count": 32,
     "metadata": {},
     "output_type": "execute_result"
    }
   ],
   "source": [
    "a1.number"
   ]
  },
  {
   "cell_type": "code",
   "execution_count": 33,
   "metadata": {
    "collapsed": false
   },
   "outputs": [
    {
     "data": {
      "text/plain": [
       "(81.2985, 29.1098)"
      ]
     },
     "execution_count": 33,
     "metadata": {},
     "output_type": "execute_result"
    }
   ],
   "source": [
    "a1.location"
   ]
  },
  {
   "cell_type": "code",
   "execution_count": 34,
   "metadata": {
    "collapsed": false
   },
   "outputs": [
    {
     "name": "stdout",
     "output_type": "stream",
     "text": [
      "Help on function get_exposure in module openquake.commonlib.readinput:\n",
      "\n",
      "get_exposure(oqparam)\n",
      "    Read the full exposure in memory and build a list of\n",
      "    :class:`openquake.risklib.workflows.Asset` instances.\n",
      "    If you don't want to keep everything in memory, use\n",
      "    get_exposure_lazy instead (for experts only).\n",
      "    \n",
      "    :param oqparam:\n",
      "        an :class:`openquake.commonlib.oqvalidation.OqParam` instance\n",
      "    :returns:\n",
      "        an :class:`Exposure` instance\n",
      "\n"
     ]
    }
   ],
   "source": [
    "help(readinput.get_exposure)"
   ]
  },
  {
   "cell_type": "code",
   "execution_count": 35,
   "metadata": {
    "collapsed": false
   },
   "outputs": [
    {
     "data": {
      "text/plain": [
       "(<SiteCollection with 3 sites>, array([[<Asset a1>],\n",
       "        [<Asset a2>],\n",
       "        [<Asset a3>]], dtype=object))"
      ]
     },
     "execution_count": 35,
     "metadata": {},
     "output_type": "execute_result"
    }
   ],
   "source": [
    "sitecol, assets_by_site = readinput.get_sitecol_assets(oqp, exposure)\n",
    "sitecol, assets_by_site"
   ]
  },
  {
   "cell_type": "code",
   "execution_count": 36,
   "metadata": {
    "collapsed": false
   },
   "outputs": [
    {
     "data": {
      "text/plain": [
       "<RiskModel(3, 0)\n",
       "('PGA', 'RM'): <Damage['damage']>\n",
       "('SA(0.2)', 'RC'): <Damage['damage']>\n",
       "('SA(0.5)', 'W'): <Damage['damage']>>"
      ]
     },
     "execution_count": 36,
     "metadata": {},
     "output_type": "execute_result"
    }
   ],
   "source": [
    "risk_model = readinput.get_risk_model(oqp); risk_model"
   ]
  },
  {
   "cell_type": "code",
   "execution_count": 37,
   "metadata": {
    "collapsed": false
   },
   "outputs": [
    {
     "data": {
      "text/plain": [
       "[('PGA', 'RM'), ('SA(0.2)', 'RC'), ('SA(0.5)', 'W')]"
      ]
     },
     "execution_count": 37,
     "metadata": {},
     "output_type": "execute_result"
    }
   ],
   "source": [
    "risk_model.keys()"
   ]
  },
  {
   "cell_type": "code",
   "execution_count": 38,
   "metadata": {
    "collapsed": false
   },
   "outputs": [
    {
     "data": {
      "text/plain": [
       "<Damage['damage']>"
      ]
     },
     "execution_count": 38,
     "metadata": {},
     "output_type": "execute_result"
    }
   ],
   "source": [
    "workflow = risk_model['PGA', 'RM']; workflow"
   ]
  },
  {
   "cell_type": "code",
   "execution_count": 39,
   "metadata": {
    "collapsed": false
   },
   "outputs": [
    {
     "data": {
      "text/plain": [
       "{'damage': <FragilityFunctionList steps_per_interval=0, continuous_fragility_discretization=20, no_damage_limit=None, imt=PGA, imls=[0.02, 0.09789473684210527, 0.17578947368421052, 0.25368421052631579, 0.33157894736842108, 0.40947368421052632, 0.48736842105263162, 0.56526315789473691, 0.64315789473684215, 0.72105263157894739, 0.79894736842105263, 0.87684210526315798, 0.95473684210526322, 1.0326315789473686, 1.1105263157894738, 1.188421052631579, 1.2663157894736843, 1.3442105263157895, 1.4221052631578948, 1.5]>}"
      ]
     },
     "execution_count": 39,
     "metadata": {},
     "output_type": "execute_result"
    }
   ],
   "source": [
    "workflow.risk_functions"
   ]
  },
  {
   "cell_type": "code",
   "execution_count": 40,
   "metadata": {
    "collapsed": false
   },
   "outputs": [
    {
     "name": "stdout",
     "output_type": "stream",
     "text": [
      "<?xml version='1.0' encoding='utf-8'?>\r\n",
      "<nrml xmlns=\"http://openquake.org/xmlns/nrml/0.4\">\r\n",
      "  <fragilityModel format=\"continuous\">\r\n",
      "    <description>Fragility model for buildings</description>\r\n",
      "    <limitStates>\r\n",
      "      LS1\r\n",
      "      LS2\r\n",
      "    </limitStates>\r\n",
      "    <ffs type=\"lognormal\">\r\n",
      "      <taxonomy>RM</taxonomy>\r\n",
      "      <IML IMT=\"PGA\" imlUnit=\"g\" minIML=\"0.02\" maxIML=\"1.5\"/>\r\n",
      "      <ffc ls=\"LS1\">\r\n",
      "\t<params mean=\"0.15\" stddev=\"0.10\" />\r\n",
      "      </ffc>\r\n",
      "      <ffc ls=\"LS2\">\r\n",
      "\t<params mean=\"0.30\" stddev=\"0.16\" />\r\n",
      "      </ffc>\r\n",
      "    </ffs>\r\n",
      "    <ffs type=\"lognormal\">\r\n",
      "      <taxonomy>RC</taxonomy>\r\n",
      "      <IML IMT=\"SA(0.2)\" imlUnit=\"g\" minIML=\"0.02\" maxIML=\"1.5\"/>\r\n",
      "      <ffc ls=\"LS1\">\r\n",
      "\t<params mean=\"0.25\" stddev=\"0.08\" />\r\n",
      "      </ffc>\r\n",
      "      <ffc ls=\"LS2\">\r\n",
      "\t<params mean=\"0.55\" stddev=\"0.16\" />\r\n",
      "      </ffc>\r\n",
      "    </ffs>\r\n",
      "    <ffs type=\"lognormal\">\r\n",
      "      <taxonomy>W</taxonomy>\r\n",
      "      <IML IMT=\"SA(0.5)\" imlUnit=\"g\" minIML=\"0.02\" maxIML=\"1.5\"/>\r\n",
      "      <ffc ls=\"LS1\">\r\n",
      "\t<params mean=\"0.35\" stddev=\"0.12\" />\r\n",
      "      </ffc>\r\n",
      "      <ffc ls=\"LS2\">\r\n",
      "\t<params mean=\"0.70\" stddev=\"0.20\" />\r\n",
      "      </ffc>\r\n",
      "    </ffs>\r\n",
      "  </fragilityModel>\r\n",
      "</nrml>\r\n",
      "\n"
     ]
    }
   ],
   "source": [
    "print open('fragility_model.xml').read()"
   ]
  },
  {
   "cell_type": "code",
   "execution_count": 41,
   "metadata": {
    "collapsed": false
   },
   "outputs": [
    {
     "data": {
      "text/plain": [
       "(<FragilityFunctionContinuous(LS1, 0.15, 0.1)>,\n",
       " <FragilityFunctionContinuous(LS2, 0.3, 0.16)>)"
      ]
     },
     "execution_count": 41,
     "metadata": {},
     "output_type": "execute_result"
    }
   ],
   "source": [
    "workflow.risk_functions['damage'][0], workflow.risk_functions['damage'][1]"
   ]
  },
  {
   "cell_type": "code",
   "execution_count": 42,
   "metadata": {
    "collapsed": false
   },
   "outputs": [
    {
     "data": {
      "text/plain": [
       "['no_damage', 'LS1', 'LS2']"
      ]
     },
     "execution_count": 42,
     "metadata": {},
     "output_type": "execute_result"
    }
   ],
   "source": [
    "risk_model.damage_states"
   ]
  },
  {
   "cell_type": "code",
   "execution_count": 43,
   "metadata": {
    "collapsed": false
   },
   "outputs": [],
   "source": [
    "?workflow"
   ]
  },
  {
   "cell_type": "code",
   "execution_count": 44,
   "metadata": {
    "collapsed": false
   },
   "outputs": [
    {
     "data": {
      "text/plain": [
       "[('PGA', 'RM'), ('SA(0.2)', 'RC'), ('SA(0.5)', 'W')]"
      ]
     },
     "execution_count": 44,
     "metadata": {},
     "output_type": "execute_result"
    }
   ],
   "source": [
    "oqr = readinput.get_oqparam('job_risk.ini')\n",
    "rm = readinput.get_risk_model(oqr)\n",
    "rm.keys()"
   ]
  },
  {
   "cell_type": "code",
   "execution_count": 45,
   "metadata": {
    "collapsed": false
   },
   "outputs": [
    {
     "data": {
      "text/plain": [
       "{'structural': <VulnerabilityFunction(RC, SA(0.2))>}"
      ]
     },
     "execution_count": 45,
     "metadata": {},
     "output_type": "execute_result"
    }
   ],
   "source": [
    "rm['SA(0.2)', 'RC'].risk_functions"
   ]
  },
  {
   "cell_type": "markdown",
   "metadata": {},
   "source": [
    "# Reading sources"
   ]
  },
  {
   "cell_type": "code",
   "execution_count": 46,
   "metadata": {
    "collapsed": false
   },
   "outputs": [],
   "source": [
    "from openquake.commonlib import readinput\n",
    "usparam = readinput.get_oqparam('job_usa.ini')\n",
    "sitecol = readinput.get_site_collection(usparam)"
   ]
  },
  {
   "cell_type": "code",
   "execution_count": 47,
   "metadata": {
    "collapsed": false
   },
   "outputs": [
    {
     "name": "stderr",
     "output_type": "stream",
     "text": [
      "WARNING:root:Processing 1008 slow sources...\n"
     ]
    },
    {
     "data": {
      "text/plain": [
       "[SourceModel(name='NSHMP2008US_micro.xml', weight=Decimal('1.00'), path=('b1',), trt_models=[<TrtModel #0 Active Shallow Crust, 5378 source(s), 9310 rupture(s)>], gsim_lt=<openquake.commonlib.logictree.GsimLogicTree object at 0x7f0ed65b2410>, ordinal=0, samples=1, num_sources=None)]"
      ]
     },
     "execution_count": 47,
     "metadata": {},
     "output_type": "execute_result"
    }
   ],
   "source": [
    "source_models = list(readinput.get_composite_source_model(usparam, sitecol))  # slow\n",
    "source_models"
   ]
  },
  {
   "cell_type": "code",
   "execution_count": 48,
   "metadata": {
    "collapsed": false
   },
   "outputs": [
    {
     "data": {
      "text/plain": [
       "(5.369, 8.42, 9310)"
      ]
     },
     "execution_count": 48,
     "metadata": {},
     "output_type": "execute_result"
    }
   ],
   "source": [
    "trt_model = source_models[0].trt_models[0]\n",
    "trt_model.min_mag, trt_model.max_mag, trt_model.num_ruptures"
   ]
  },
  {
   "cell_type": "code",
   "execution_count": 49,
   "metadata": {
    "collapsed": false
   },
   "outputs": [
    {
     "data": {
      "text/plain": [
       "([<CharacteristicFaultSource 1>,\n",
       "  <CharacteristicFaultSource 100>,\n",
       "  <CharacteristicFaultSource 1000>],\n",
       " [<CharacteristicFaultSource 997>,\n",
       "  <CharacteristicFaultSource 998>,\n",
       "  <CharacteristicFaultSource 999>])"
      ]
     },
     "execution_count": 49,
     "metadata": {},
     "output_type": "execute_result"
    }
   ],
   "source": [
    "trt_model.sources[:3], trt_model.sources[-3:]"
   ]
  },
  {
   "cell_type": "code",
   "execution_count": 50,
   "metadata": {
    "collapsed": false
   },
   "outputs": [
    {
     "data": {
      "text/plain": [
       "[<openquake.hazardlib.source.rupture.ParametricProbabilisticRupture at 0x7f0ed5315ae0>,\n",
       " <openquake.hazardlib.source.rupture.ParametricProbabilisticRupture at 0x7f0ed5315bb0>,\n",
       " <openquake.hazardlib.source.rupture.ParametricProbabilisticRupture at 0x7f0ed5315c80>,\n",
       " <openquake.hazardlib.source.rupture.ParametricProbabilisticRupture at 0x7f0ed5315d50>,\n",
       " <openquake.hazardlib.source.rupture.ParametricProbabilisticRupture at 0x7f0ed5315e20>,\n",
       " <openquake.hazardlib.source.rupture.ParametricProbabilisticRupture at 0x7f0ed5315ef0>,\n",
       " <openquake.hazardlib.source.rupture.ParametricProbabilisticRupture at 0x7f0ed5b88050>,\n",
       " <openquake.hazardlib.source.rupture.ParametricProbabilisticRupture at 0x7f0ed5b88120>,\n",
       " <openquake.hazardlib.source.rupture.ParametricProbabilisticRupture at 0x7f0ed5b881f0>,\n",
       " <openquake.hazardlib.source.rupture.ParametricProbabilisticRupture at 0x7f0ed5b882c0>,\n",
       " <openquake.hazardlib.source.rupture.ParametricProbabilisticRupture at 0x7f0ed5b88390>,\n",
       " <openquake.hazardlib.source.rupture.ParametricProbabilisticRupture at 0x7f0ed5b88460>,\n",
       " <openquake.hazardlib.source.rupture.ParametricProbabilisticRupture at 0x7f0ed5b88530>,\n",
       " <openquake.hazardlib.source.rupture.ParametricProbabilisticRupture at 0x7f0ed5b88600>,\n",
       " <openquake.hazardlib.source.rupture.ParametricProbabilisticRupture at 0x7f0ed5b886d0>]"
      ]
     },
     "execution_count": 50,
     "metadata": {},
     "output_type": "execute_result"
    }
   ],
   "source": [
    "list(trt_model.sources[0].iter_ruptures())"
   ]
  },
  {
   "cell_type": "code",
   "execution_count": 51,
   "metadata": {
    "collapsed": false
   },
   "outputs": [
    {
     "data": {
      "text/plain": [
       "<EvenlyDiscretizedMFD>"
      ]
     },
     "execution_count": 51,
     "metadata": {},
     "output_type": "execute_result"
    }
   ],
   "source": [
    "src = trt_model.sources[0]\n",
    "src.mfd"
   ]
  },
  {
   "cell_type": "markdown",
   "metadata": {},
   "source": [
    "# Reading CSV files"
   ]
  },
  {
   "cell_type": "code",
   "execution_count": 52,
   "metadata": {
    "collapsed": false
   },
   "outputs": [
    {
     "ename": "ValueError",
     "evalue": "It is possible to infer the geometry only if exactly         one of\nsites, sites_csv, hazard_curves_csv, gmfs_csv,         region and\nexposure_file is set. You did set more than         one, or nothing.\nGot:\nbase_path=/home/michele/oq-risklib/doc\ncalculation_mode=scenario\ndescription=Example of CSV reading\nexport_dir=/tmp\nhazard_imtls={'PGV': [0.1, 0.2, 0.3], 'PGA': [0.1, 0.2, 0.3]}\ninputs={'job_ini': '/home/michele/oq-risklib/doc/job_gmvs_from_csv.ini', 'gmfs': '/home/michele/oq-risklib/doc/gmf.csv'}\nmaximum_distance=200.0\nnumber_of_ground_motion_fields=3\nrandom_seed=3\nreference_depth_to_1pt0km_per_sec=100.0\nreference_depth_to_2pt5km_per_sec=2.5\nreference_vs30_type=measured\nreference_vs30_value=800.0\nrisk_investigation_time=None",
     "output_type": "error",
     "traceback": [
      "\u001b[1;31m---------------------------------------------------------------------------\u001b[0m",
      "\u001b[1;31mValueError\u001b[0m                                Traceback (most recent call last)",
      "\u001b[1;32m<ipython-input-52-ee85d04ccc99>\u001b[0m in \u001b[0;36m<module>\u001b[1;34m()\u001b[0m\n\u001b[1;32m----> 1\u001b[1;33m \u001b[0mo\u001b[0m \u001b[1;33m=\u001b[0m \u001b[0mreadinput\u001b[0m\u001b[1;33m.\u001b[0m\u001b[0mget_oqparam\u001b[0m\u001b[1;33m(\u001b[0m\u001b[1;34m'job_gmvs_from_csv.ini'\u001b[0m\u001b[1;33m)\u001b[0m\u001b[1;33m\u001b[0m\u001b[0m\n\u001b[0m\u001b[0;32m      2\u001b[0m \u001b[0mreadinput\u001b[0m\u001b[1;33m.\u001b[0m\u001b[0mget_sitecol_gmfs\u001b[0m\u001b[1;33m(\u001b[0m\u001b[0mo\u001b[0m\u001b[1;33m)\u001b[0m\u001b[1;33m\u001b[0m\u001b[0m\n",
      "\u001b[1;32m/home/michele/oq-risklib/openquake/commonlib/readinput.pyc\u001b[0m in \u001b[0;36mget_oqparam\u001b[1;34m(job_ini, pkg, calculators, hc_id)\u001b[0m\n\u001b[0;32m    174\u001b[0m \u001b[1;33m\u001b[0m\u001b[0m\n\u001b[0;32m    175\u001b[0m     \u001b[0moqparam\u001b[0m \u001b[1;33m=\u001b[0m \u001b[0mOqParam\u001b[0m\u001b[1;33m(\u001b[0m\u001b[1;33m**\u001b[0m\u001b[0mjob_ini\u001b[0m\u001b[1;33m)\u001b[0m\u001b[1;33m\u001b[0m\u001b[0m\n\u001b[1;32m--> 176\u001b[1;33m     \u001b[0moqparam\u001b[0m\u001b[1;33m.\u001b[0m\u001b[0mvalidate\u001b[0m\u001b[1;33m(\u001b[0m\u001b[1;33m)\u001b[0m\u001b[1;33m\u001b[0m\u001b[0m\n\u001b[0m\u001b[0;32m    177\u001b[0m     \u001b[1;32mreturn\u001b[0m \u001b[0moqparam\u001b[0m\u001b[1;33m\u001b[0m\u001b[0m\n\u001b[0;32m    178\u001b[0m \u001b[1;33m\u001b[0m\u001b[0m\n",
      "\u001b[1;32m/home/michele/oq-risklib/openquake/commonlib/valid.pyc\u001b[0m in \u001b[0;36mvalidate\u001b[1;34m(self)\u001b[0m\n\u001b[0;32m    943\u001b[0m                 \u001b[0mdocstring\u001b[0m \u001b[1;33m=\u001b[0m \u001b[0mis_valid\u001b[0m\u001b[1;33m.\u001b[0m\u001b[0m__doc__\u001b[0m\u001b[1;33m.\u001b[0m\u001b[0mstrip\u001b[0m\u001b[1;33m(\u001b[0m\u001b[1;33m)\u001b[0m\u001b[1;33m\u001b[0m\u001b[0m\n\u001b[0;32m    944\u001b[0m                 \u001b[0mdoc\u001b[0m \u001b[1;33m=\u001b[0m \u001b[0mtextwrap\u001b[0m\u001b[1;33m.\u001b[0m\u001b[0mfill\u001b[0m\u001b[1;33m(\u001b[0m\u001b[0mdocstring\u001b[0m\u001b[1;33m.\u001b[0m\u001b[0mformat\u001b[0m\u001b[1;33m(\u001b[0m\u001b[1;33m**\u001b[0m\u001b[0mvars\u001b[0m\u001b[1;33m(\u001b[0m\u001b[0mself\u001b[0m\u001b[1;33m)\u001b[0m\u001b[1;33m)\u001b[0m\u001b[1;33m)\u001b[0m\u001b[1;33m\u001b[0m\u001b[0m\n\u001b[1;32m--> 945\u001b[1;33m                 \u001b[1;32mraise\u001b[0m \u001b[0mValueError\u001b[0m\u001b[1;33m(\u001b[0m\u001b[0mdoc\u001b[0m \u001b[1;33m+\u001b[0m \u001b[1;34m'\\nGot:\\n'\u001b[0m \u001b[1;33m+\u001b[0m \u001b[0mdump\u001b[0m\u001b[1;33m)\u001b[0m\u001b[1;33m\u001b[0m\u001b[0m\n\u001b[0m\u001b[0;32m    946\u001b[0m \u001b[1;33m\u001b[0m\u001b[0m\n\u001b[0;32m    947\u001b[0m     \u001b[1;32mdef\u001b[0m \u001b[0m__iter__\u001b[0m\u001b[1;33m(\u001b[0m\u001b[0mself\u001b[0m\u001b[1;33m)\u001b[0m\u001b[1;33m:\u001b[0m\u001b[1;33m\u001b[0m\u001b[0m\n",
      "\u001b[1;31mValueError\u001b[0m: It is possible to infer the geometry only if exactly         one of\nsites, sites_csv, hazard_curves_csv, gmfs_csv,         region and\nexposure_file is set. You did set more than         one, or nothing.\nGot:\nbase_path=/home/michele/oq-risklib/doc\ncalculation_mode=scenario\ndescription=Example of CSV reading\nexport_dir=/tmp\nhazard_imtls={'PGV': [0.1, 0.2, 0.3], 'PGA': [0.1, 0.2, 0.3]}\ninputs={'job_ini': '/home/michele/oq-risklib/doc/job_gmvs_from_csv.ini', 'gmfs': '/home/michele/oq-risklib/doc/gmf.csv'}\nmaximum_distance=200.0\nnumber_of_ground_motion_fields=3\nrandom_seed=3\nreference_depth_to_1pt0km_per_sec=100.0\nreference_depth_to_2pt5km_per_sec=2.5\nreference_vs30_type=measured\nreference_vs30_value=800.0\nrisk_investigation_time=None"
     ]
    }
   ],
   "source": [
    "o = readinput.get_oqparam('job_gmvs_from_csv.ini')\n",
    "readinput.get_sitecol_gmfs(o)"
   ]
  },
  {
   "cell_type": "code",
   "execution_count": 53,
   "metadata": {
    "collapsed": false
   },
   "outputs": [
    {
     "data": {
      "text/plain": [
       "(<SiteCollection with 3 sites>,\n",
       " {'PGA': array([[ 0.4891846 ,  0.45525296,  0.39313824],\n",
       "         [ 0.30783781,  0.24033782,  0.13052459],\n",
       "         [ 0.9977148 ,  0.87679151,  0.20852236]]),\n",
       "  'SA(0.2)': array([[ 0.414227  ,  0.19310681,  0.16763226],\n",
       "         [ 0.17196265,  0.05421363,  0.02879748],\n",
       "         [ 0.81992743,  0.61794658,  0.55046728]]),\n",
       "  'SA(0.5)': array([[ 0.0414227 ,  0.01931068,  0.01676323],\n",
       "         [ 0.0171965 ,  0.00542136,  0.00287974],\n",
       "         [ 0.8199274 ,  0.61794658,  0.55046728]])})"
      ]
     },
     "execution_count": 53,
     "metadata": {},
     "output_type": "execute_result"
    }
   ],
   "source": [
    "o = readinput.get_oqparam('job_hc_from_csv.ini')\n",
    "readinput.get_sitecol_hcurves(o)"
   ]
  },
  {
   "cell_type": "markdown",
   "metadata": {},
   "source": [
    "# Writing a HelloWorld calculator"
   ]
  },
  {
   "cell_type": "code",
   "execution_count": 54,
   "metadata": {
    "collapsed": false
   },
   "outputs": [],
   "source": [
    "from openquake.calculators import base"
   ]
  },
  {
   "cell_type": "code",
   "execution_count": 55,
   "metadata": {
    "collapsed": false
   },
   "outputs": [
    {
     "data": {
      "text/plain": [
       "my_calculators.hello.HelloCalculator"
      ]
     },
     "execution_count": 55,
     "metadata": {},
     "output_type": "execute_result"
    }
   ],
   "source": [
    "HelloCalculator = base.calculators['hello']; HelloCalculator"
   ]
  },
  {
   "cell_type": "code",
   "execution_count": 56,
   "metadata": {
    "collapsed": false
   },
   "outputs": [
    {
     "name": "stdout",
     "output_type": "stream",
     "text": [
      "[general]\n",
      "calculation_mode = hello\n",
      "maximum_distance = 200\n",
      "intensity_measure_types = PGA\n",
      "export_dir = /tmp\n",
      "\n"
     ]
    }
   ],
   "source": [
    "print open('hello.ini').read()\n",
    "oqp = readinput.get_oqparam('hello.ini')"
   ]
  },
  {
   "cell_type": "code",
   "execution_count": 57,
   "metadata": {
    "collapsed": false
   },
   "outputs": [],
   "source": [
    "from openquake.baselib.performance import PerformanceMonitor\n",
    "calc = HelloCalculator(oqp, PerformanceMonitor('hello'))"
   ]
  },
  {
   "cell_type": "code",
   "execution_count": 58,
   "metadata": {
    "collapsed": false
   },
   "outputs": [
    {
     "name": "stderr",
     "output_type": "stream",
     "text": [
      "ERROR:root:Cleanup error\n",
      "Traceback (most recent call last):\n",
      "  File \"/home/michele/oq-risklib/openquake/calculators/base.py\", line 135, in run\n",
      "    self.clean_up()\n",
      "  File \"/home/michele/oq-risklib/openquake/calculators/base.py\", line 200, in clean_up\n",
      "    [(r.uid, r.weight) for r in self.rlzs_assoc.realizations], rlz_dt)\n",
      "  File \"/home/michele/oq-risklib/openquake/commonlib/datastore.py\", line 400, in getter\n",
      "    value = self.datastore[key]\n",
      "  File \"/home/michele/oq-risklib/openquake/commonlib/datastore.py\", line 305, in __getitem__\n",
      "    raise KeyError('No %r found in %s' % (key, self))\n",
      "KeyError: \"No 'rlzs_assoc' found in <DataStore 252>\"\n"
     ]
    },
    {
     "data": {
      "text/plain": [
       "{}"
      ]
     },
     "execution_count": 58,
     "metadata": {},
     "output_type": "execute_result"
    }
   ],
   "source": [
    "calc.run()"
   ]
  },
  {
   "cell_type": "markdown",
   "metadata": {},
   "source": [
    "In the export_dir there will be a file `performance.csv` with some interesting information about time spent and memory allocated"
   ]
  },
  {
   "cell_type": "markdown",
   "metadata": {},
   "source": [
    "## Testing the calculator"
   ]
  },
  {
   "cell_type": "code",
   "execution_count": 228,
   "metadata": {
    "collapsed": false
   },
   "outputs": [],
   "source": [
    "from hello_test import HelloTestCase\n",
    "HelloTestCase??"
   ]
  },
  {
   "cell_type": "markdown",
   "metadata": {},
   "source": [
    "==================================================================================================================================="
   ]
  },
  {
   "cell_type": "markdown",
   "metadata": {},
   "source": [
    "#     Parallel execution with apply_reduce"
   ]
  },
  {
   "cell_type": "markdown",
   "metadata": {},
   "source": [
    "Example: building a frequency hystogram"
   ]
  },
  {
   "cell_type": "code",
   "execution_count": 59,
   "metadata": {
    "collapsed": false
   },
   "outputs": [],
   "source": [
    "from collections import Counter"
   ]
  },
  {
   "cell_type": "code",
   "execution_count": 60,
   "metadata": {
    "collapsed": false
   },
   "outputs": [
    {
     "data": {
      "text/plain": [
       "Counter({'i': 2, 'l': 1, 'o': 2, 'p': 5})"
      ]
     },
     "execution_count": 60,
     "metadata": {},
     "output_type": "execute_result"
    }
   ],
   "source": [
    "Counter('pippolippo')"
   ]
  },
  {
   "cell_type": "code",
   "execution_count": 61,
   "metadata": {
    "collapsed": false
   },
   "outputs": [],
   "source": [
    "def frequencyhisto(fnames):\n",
    "    \"Compute the character frequency hystogram of a set of files\"\n",
    "    c = Counter()\n",
    "    for fname in fnames:\n",
    "        c += Counter(open(fname).read().upper())\n",
    "    return c"
   ]
  },
  {
   "cell_type": "code",
   "execution_count": 62,
   "metadata": {
    "collapsed": false
   },
   "outputs": [],
   "source": [
    "from openquake.commonlib import nrml_examples"
   ]
  },
  {
   "cell_type": "code",
   "execution_count": 63,
   "metadata": {
    "collapsed": false
   },
   "outputs": [],
   "source": [
    "DIR = nrml_examples.__path__[0]"
   ]
  },
  {
   "cell_type": "code",
   "execution_count": 64,
   "metadata": {
    "collapsed": false
   },
   "outputs": [
    {
     "data": {
      "text/plain": [
       "'/home/michele/oq-risklib/openquake/commonlib/nrml_examples'"
      ]
     },
     "execution_count": 64,
     "metadata": {},
     "output_type": "execute_result"
    }
   ],
   "source": [
    "DIR"
   ]
  },
  {
   "cell_type": "code",
   "execution_count": 65,
   "metadata": {
    "collapsed": false
   },
   "outputs": [
    {
     "data": {
      "text/plain": [
       "['/home/michele/oq-risklib/openquake/commonlib/nrml_examples/hazard-map.xml',\n",
       " '/home/michele/oq-risklib/openquake/commonlib/nrml_examples/hazard-map-mean.xml',\n",
       " '/home/michele/oq-risklib/openquake/commonlib/nrml_examples/fragm_c.xml',\n",
       " '/home/michele/oq-risklib/openquake/commonlib/nrml_examples/ses.xml',\n",
       " '/home/michele/oq-risklib/openquake/commonlib/nrml_examples/hazard-curves-mean.xml',\n",
       " '/home/michele/oq-risklib/openquake/commonlib/nrml_examples/uhs-mean.xml',\n",
       " '/home/michele/oq-risklib/openquake/commonlib/nrml_examples/uhs.xml',\n",
       " '/home/michele/oq-risklib/openquake/commonlib/nrml_examples/logic-tree-gmpe.xml',\n",
       " '/home/michele/oq-risklib/openquake/commonlib/nrml_examples/exposure-portfolio.xml',\n",
       " '/home/michele/oq-risklib/openquake/commonlib/nrml_examples/uhs-quantile.xml',\n",
       " '/home/michele/oq-risklib/openquake/commonlib/nrml_examples/bcr-map.xml',\n",
       " '/home/michele/oq-risklib/openquake/commonlib/nrml_examples/loss-map-quantile.xml',\n",
       " '/home/michele/oq-risklib/openquake/commonlib/nrml_examples/site_model.xml',\n",
       " '/home/michele/oq-risklib/openquake/commonlib/nrml_examples/hazard-curves-quantile.xml',\n",
       " '/home/michele/oq-risklib/openquake/commonlib/nrml_examples/complex-fault-rupture.xml',\n",
       " '/home/michele/oq-risklib/openquake/commonlib/nrml_examples/agg-loss-curve.xml',\n",
       " '/home/michele/oq-risklib/openquake/commonlib/nrml_examples/vulnerability-model-discrete.xml',\n",
       " '/home/michele/oq-risklib/openquake/commonlib/nrml_examples/gmf-event-based.xml',\n",
       " '/home/michele/oq-risklib/openquake/commonlib/nrml_examples/fragm_d.xml',\n",
       " '/home/michele/oq-risklib/openquake/commonlib/nrml_examples/loss-map-scenario-risk.xml',\n",
       " '/home/michele/oq-risklib/openquake/commonlib/nrml_examples/loss-fractions-taxonomies.xml',\n",
       " '/home/michele/oq-risklib/openquake/commonlib/nrml_examples/hazard-map-quantile.xml',\n",
       " '/home/michele/oq-risklib/openquake/commonlib/nrml_examples/collapse-map.xml',\n",
       " '/home/michele/oq-risklib/openquake/commonlib/nrml_examples/bcr-map-quantile.xml',\n",
       " '/home/michele/oq-risklib/openquake/commonlib/nrml_examples/hazard-curves-pga.xml',\n",
       " '/home/michele/oq-risklib/openquake/commonlib/nrml_examples/dmg-dist-per-taxonomy.xml',\n",
       " '/home/michele/oq-risklib/openquake/commonlib/nrml_examples/dmg-dist-total.xml',\n",
       " '/home/michele/oq-risklib/openquake/commonlib/nrml_examples/hazard-curves-multi.xml',\n",
       " '/home/michele/oq-risklib/openquake/commonlib/nrml_examples/hazard-curves-sa.xml',\n",
       " '/home/michele/oq-risklib/openquake/commonlib/nrml_examples/loss-curves.xml',\n",
       " '/home/michele/oq-risklib/openquake/commonlib/nrml_examples/simple-fault-rupture.xml',\n",
       " '/home/michele/oq-risklib/openquake/commonlib/nrml_examples/loss-map.xml',\n",
       " '/home/michele/oq-risklib/openquake/commonlib/nrml_examples/loss-curves-quantile.xml',\n",
       " '/home/michele/oq-risklib/openquake/commonlib/nrml_examples/dmg-dist-per-asset.xml',\n",
       " '/home/michele/oq-risklib/openquake/commonlib/nrml_examples/logic-tree-source-model.xml',\n",
       " '/home/michele/oq-risklib/openquake/commonlib/nrml_examples/exposure-population.xml',\n",
       " '/home/michele/oq-risklib/openquake/commonlib/nrml_examples/disaggregation.xml']"
      ]
     },
     "execution_count": 65,
     "metadata": {},
     "output_type": "execute_result"
    }
   ],
   "source": [
    "import os; xmlfiles = [os.path.join(DIR, f) for f in os.listdir(DIR) if f.endswith('.xml')]; xmlfiles"
   ]
  },
  {
   "cell_type": "code",
   "execution_count": 66,
   "metadata": {
    "collapsed": false
   },
   "outputs": [
    {
     "data": {
      "text/plain": [
       "37"
      ]
     },
     "execution_count": 66,
     "metadata": {},
     "output_type": "execute_result"
    }
   ],
   "source": [
    "len(xmlfiles)"
   ]
  },
  {
   "cell_type": "code",
   "execution_count": 67,
   "metadata": {
    "collapsed": false
   },
   "outputs": [
    {
     "data": {
      "text/plain": [
       "Counter({'\\n': 1154,\n",
       "         ' ': 12304,\n",
       "         '!': 40,\n",
       "         '\"': 1726,\n",
       "         \"'\": 92,\n",
       "         '(': 6,\n",
       "         ')': 6,\n",
       "         '+': 41,\n",
       "         ',': 53,\n",
       "         '-': 363,\n",
       "         '.': 1049,\n",
       "         '/': 861,\n",
       "         '0': 1383,\n",
       "         '1': 586,\n",
       "         '2': 405,\n",
       "         '3': 275,\n",
       "         '4': 257,\n",
       "         '5': 246,\n",
       "         '6': 167,\n",
       "         '7': 167,\n",
       "         '8': 177,\n",
       "         '9': 181,\n",
       "         ':': 286,\n",
       "         '<': 1052,\n",
       "         '=': 940,\n",
       "         '>': 1052,\n",
       "         '?': 72,\n",
       "         'A': 1339,\n",
       "         'B': 269,\n",
       "         'C': 699,\n",
       "         'D': 761,\n",
       "         'E': 2177,\n",
       "         'F': 312,\n",
       "         'G': 781,\n",
       "         'H': 353,\n",
       "         'I': 1300,\n",
       "         'K': 52,\n",
       "         'L': 1389,\n",
       "         'M': 1102,\n",
       "         'N': 1410,\n",
       "         'O': 1368,\n",
       "         'P': 747,\n",
       "         'Q': 53,\n",
       "         'R': 1159,\n",
       "         'S': 1545,\n",
       "         'T': 1799,\n",
       "         'U': 559,\n",
       "         'V': 329,\n",
       "         'W': 147,\n",
       "         'X': 219,\n",
       "         'Y': 211,\n",
       "         'Z': 70,\n",
       "         '_': 94,\n",
       "         '`': 16,\n",
       "         '|': 30})"
      ]
     },
     "execution_count": 67,
     "metadata": {},
     "output_type": "execute_result"
    }
   ],
   "source": [
    "apply(frequencyhisto, (xmlfiles,))"
   ]
  },
  {
   "cell_type": "code",
   "execution_count": 68,
   "metadata": {
    "collapsed": false
   },
   "outputs": [],
   "source": [
    "from openquake.commonlib.parallel import apply_reduce\n",
    "import operator"
   ]
  },
  {
   "cell_type": "code",
   "execution_count": null,
   "metadata": {
    "collapsed": false
   },
   "outputs": [],
   "source": [
    "apply_reduce(frequencyhisto, (xmlfiles,), agg=operator.add, acc=Counter(), concurrent_tasks=4)"
   ]
  },
  {
   "cell_type": "code",
   "execution_count": null,
   "metadata": {
    "collapsed": false
   },
   "outputs": [],
   "source": [
    "[len(chunk) for chunk in apply_reduce._chunks]"
   ]
  },
  {
   "cell_type": "code",
   "execution_count": null,
   "metadata": {
    "collapsed": false
   },
   "outputs": [],
   "source": [
    "apply_reduce(frequencyhisto, (xmlfiles,), agg=operator.add, acc=Counter(), concurrent_tasks=4,\n",
    "             weight=os.path.getsize)"
   ]
  },
  {
   "cell_type": "code",
   "execution_count": null,
   "metadata": {
    "collapsed": false
   },
   "outputs": [],
   "source": [
    "[chunk.weight for chunk in apply_reduce._chunks]"
   ]
  },
  {
   "cell_type": "code",
   "execution_count": 243,
   "metadata": {
    "collapsed": false
   },
   "outputs": [
    {
     "data": {
      "text/plain": [
       "[7, 10, 7, 8, 5]"
      ]
     },
     "execution_count": 243,
     "metadata": {},
     "output_type": "execute_result"
    }
   ],
   "source": [
    "[len(chunk) for chunk in apply_reduce._chunks]"
   ]
  },
  {
   "cell_type": "code",
   "execution_count": 244,
   "metadata": {
    "collapsed": false
   },
   "outputs": [
    {
     "data": {
      "text/plain": [
       "<WeightedSequence ['/home/ubuntu/oq-risklib/openquake/commonlib/nrml_examples/logic-tree-gmpe.xml', '/home/ubuntu/oq-risklib/openquake/commonlib/nrml_examples/logic-tree-source-model.xml', '/home/ubuntu/oq-risklib/openquake/commonlib/nrml_examples/complex-fault-rupture.xml', '/home/ubuntu/oq-risklib/openquake/commonlib/nrml_examples/loss-fractions-taxonomies.xml', '/home/ubuntu/oq-risklib/openquake/commonlib/nrml_examples/hazard-curves-mean.xml', '/home/ubuntu/oq-risklib/openquake/commonlib/nrml_examples/uhs-quantile.xml', '/home/ubuntu/oq-risklib/openquake/commonlib/nrml_examples/collapse-map.xml'], weight=8742>"
      ]
     },
     "execution_count": 244,
     "metadata": {},
     "output_type": "execute_result"
    }
   ],
   "source": [
    "apply_reduce._chunks[0]"
   ]
  },
  {
   "cell_type": "code",
   "execution_count": 245,
   "metadata": {
    "collapsed": false
   },
   "outputs": [],
   "source": [
    "from openquake.baselib.general import split_in_blocks"
   ]
  },
  {
   "cell_type": "code",
   "execution_count": 246,
   "metadata": {
    "collapsed": false
   },
   "outputs": [],
   "source": [
    "split_in_blocks??"
   ]
  },
  {
   "cell_type": "markdown",
   "metadata": {},
   "source": [
    "# Accumulating dictionaries"
   ]
  },
  {
   "cell_type": "code",
   "execution_count": 247,
   "metadata": {
    "collapsed": false
   },
   "outputs": [],
   "source": [
    "from openquake.baselib.general import AccumDict\n",
    "AccumDict??"
   ]
  },
  {
   "cell_type": "code",
   "execution_count": 248,
   "metadata": {
    "collapsed": false
   },
   "outputs": [
    {
     "data": {
      "text/plain": [
       "{}"
      ]
     },
     "execution_count": 248,
     "metadata": {},
     "output_type": "execute_result"
    }
   ],
   "source": [
    "acc = AccumDict()\n",
    "acc"
   ]
  },
  {
   "cell_type": "code",
   "execution_count": 249,
   "metadata": {
    "collapsed": false
   },
   "outputs": [],
   "source": [
    "acc2 = acc + {'a': 1}"
   ]
  },
  {
   "cell_type": "code",
   "execution_count": 250,
   "metadata": {
    "collapsed": false
   },
   "outputs": [],
   "source": [
    "acc3 = acc2 + {'a': 1}"
   ]
  },
  {
   "cell_type": "code",
   "execution_count": 251,
   "metadata": {
    "collapsed": false
   },
   "outputs": [
    {
     "data": {
      "text/plain": [
       "{'a': 2}"
      ]
     },
     "execution_count": 251,
     "metadata": {},
     "output_type": "execute_result"
    }
   ],
   "source": [
    "acc3"
   ]
  },
  {
   "cell_type": "code",
   "execution_count": 252,
   "metadata": {
    "collapsed": false
   },
   "outputs": [
    {
     "data": {
      "text/plain": [
       "{'a': 2, 'b': 0}"
      ]
     },
     "execution_count": 252,
     "metadata": {},
     "output_type": "execute_result"
    }
   ],
   "source": [
    "acc4 = acc3 + {'b': 0}\n",
    "acc4"
   ]
  },
  {
   "cell_type": "markdown",
   "metadata": {},
   "source": [
    "# Sequential scenario hazard calculator"
   ]
  },
  {
   "cell_type": "code",
   "execution_count": 253,
   "metadata": {
    "collapsed": false
   },
   "outputs": [],
   "source": [
    "from my_calculators import scenario\n",
    "scenario??"
   ]
  },
  {
   "cell_type": "markdown",
   "metadata": {},
   "source": [
    "# Parallel scenario hazard calculator"
   ]
  },
  {
   "cell_type": "code",
   "execution_count": 254,
   "metadata": {
    "collapsed": false
   },
   "outputs": [],
   "source": [
    "from openquake.calculators.hazard import ScenarioCalculator"
   ]
  },
  {
   "cell_type": "code",
   "execution_count": 255,
   "metadata": {
    "collapsed": false
   },
   "outputs": [],
   "source": [
    "ScenarioCalculator??"
   ]
  },
  {
   "cell_type": "markdown",
   "metadata": {},
   "source": [
    "# Caveats and notes"
   ]
  },
  {
   "cell_type": "markdown",
   "metadata": {},
   "source": [
    "1. is the parallel calculator faster than the sequential one?\n",
    "2. is the export faster than the calculation?\n",
    "3. how much the results depend on the seed?\n",
    "4. is the memory occupation an issue?\n",
    "5. do we really need a scenario hazard calculator?"
   ]
  },
  {
   "cell_type": "code",
   "execution_count": 256,
   "metadata": {
    "collapsed": false
   },
   "outputs": [],
   "source": [
    "from openquake.baselib.performance import PerformanceMonitor\n",
    "PerformanceMonitor?"
   ]
  },
  {
   "cell_type": "markdown",
   "metadata": {},
   "source": [
    "# Towards a Scenario Damage Calculator"
   ]
  },
  {
   "cell_type": "code",
   "execution_count": 257,
   "metadata": {
    "collapsed": false
   },
   "outputs": [],
   "source": [
    "from openquake.commonlib import readinput\n",
    "from openquake.calculators.calc import calc_gmfs"
   ]
  },
  {
   "cell_type": "code",
   "execution_count": 258,
   "metadata": {
    "collapsed": false
   },
   "outputs": [],
   "source": [
    "o = readinput.get_oqparam('job_damage.ini')\n",
    "exposure = readinput.get_exposure(o)\n",
    "sitecol, assets_by_site = readinput.get_sitecol_assets(o, exposure)\n",
    "risk_model = readinput.get_risk_model(o)\n",
    "gmfs_by_imt = calc_gmfs(o, sitecol)"
   ]
  },
  {
   "cell_type": "code",
   "execution_count": 259,
   "metadata": {
    "collapsed": false
   },
   "outputs": [
    {
     "data": {
      "text/plain": [
       "<RiskInput IMT=PGA, taxonomy=RM, weight=1>"
      ]
     },
     "execution_count": 259,
     "metadata": {},
     "output_type": "execute_result"
    }
   ],
   "source": [
    "ri = risk_model.build_input('PGA', gmfs_by_imt['PGA'], assets_by_site)\n",
    "ri"
   ]
  },
  {
   "cell_type": "code",
   "execution_count": 260,
   "metadata": {
    "collapsed": false
   },
   "outputs": [
    {
     "name": "stdout",
     "output_type": "stream",
     "text": [
      "{'RM': [<Asset a1>]}\n",
      "{'RM': [array([ 0.06108985,  0.02149156,  0.09326082,  0.017891  ,  0.06110326])]}\n",
      "{'RM': [None]}\n"
     ]
    }
   ],
   "source": [
    "assets, hazards, epsilons = ri.get_all()\n",
    "print assets\n",
    "print hazards\n",
    "print epsilons"
   ]
  },
  {
   "cell_type": "code",
   "execution_count": 261,
   "metadata": {
    "collapsed": false
   },
   "outputs": [
    {
     "data": {
      "text/plain": [
       "openquake.risklib.riskinput.RiskInput"
      ]
     },
     "execution_count": 261,
     "metadata": {},
     "output_type": "execute_result"
    }
   ],
   "source": [
    "from openquake.risklib.riskinput import RiskInput; RiskInput"
   ]
  }
 ],
 "metadata": {
  "kernelspec": {
   "display_name": "Python 2",
   "language": "python",
   "name": "python2"
  },
  "language_info": {
   "codemirror_mode": {
    "name": "ipython",
    "version": 2
   },
   "file_extension": ".py",
   "mimetype": "text/x-python",
   "name": "python",
   "nbconvert_exporter": "python",
   "pygments_lexer": "ipython2",
   "version": "2.7.9"
  }
 },
 "nbformat": 4,
 "nbformat_minor": 0
}
