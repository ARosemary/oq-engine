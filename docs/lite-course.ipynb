{
 "metadata": {
  "name": "",
  "signature": "sha256:cd2adff3931bdf4d82b859a87b5332c507810290b9bbea2293e8b7c5a95e7305"
 },
 "nbformat": 3,
 "nbformat_minor": 0,
 "worksheets": [
  {
   "cells": [
    {
     "cell_type": "heading",
     "level": 1,
     "metadata": {},
     "source": [
      "Origin and goals of commonlib"
     ]
    },
    {
     "cell_type": "markdown",
     "metadata": {},
     "source": [
      "1. commonlib was written as a basis for a future lite version of the engine, with no dependency on Postgresql, Django and Celery\n",
      "2. the idea is to move in commonlib *everything* which does not depend on Postgresql, Django and Celery\n",
      "3. the engine *must* become small\n",
      "4. it must be possible to write hazard/risk calculators entirely in commonlib\n",
      "5. sooner or later the engine QA test will be moved in commonlib\n",
      "6. hazardlib, risklib, commonlib might become a single repository (oq-lite)"
     ]
    },
    {
     "cell_type": "heading",
     "level": 1,
     "metadata": {},
     "source": [
      "Use of commonlib: reading the engine input files"
     ]
    },
    {
     "cell_type": "code",
     "collapsed": false,
     "input": [
      "import os; print os.getcwd()\n",
      "print [f for f in os.listdir('.') if f.endswith(('.py', '.ini', '.xml'))]"
     ],
     "language": "python",
     "metadata": {},
     "outputs": [
      {
       "output_type": "stream",
       "stream": "stdout",
       "text": [
        "/home/ubuntu/oq-commonlib/docs\n",
        "['fault_rupture.xml', 'NSHMP2008US_micro.xml', 'test.py', 'job_usa.ini', 'job_hc_from_csv.ini', 'source_model_logic_tree.xml', 'classical.ini', 'classical_risk_from_csv.ini', 'job_gmvs_from_csv.ini', 'job_damage.ini', 'job.ini', 'source_model.xml', 'freqhisto.py', 'vulnerability_model.xml', 'riskinput.py', 'conf.py', 'job_risk.ini', 'rupture_model.xml', 'fragility_model.xml', 'expected.xml', 'classical.py', 'hello_test.py', 'hello.ini', 'exposure_model.xml', 'distribute_epsilons.py']\n"
       ]
      }
     ],
     "prompt_number": 1
    },
    {
     "cell_type": "code",
     "collapsed": false,
     "input": [
      "print open('job.ini').read()"
     ],
     "language": "python",
     "metadata": {},
     "outputs": [
      {
       "output_type": "stream",
       "stream": "stdout",
       "text": [
        "[general]\n",
        "description = Scenario QA Test, Case 1\n",
        "calculation_mode = my_scenario\n",
        "export_dir = /tmp\n",
        "random_seed = 3\n",
        "sites = 0.0 0.0, 0.0 0.1, 0.0 0.2\n",
        "rupture_mesh_spacing = 1.0\n",
        "reference_vs30_type = measured\n",
        "reference_vs30_value = 800.0\n",
        "reference_depth_to_2pt5km_per_sec = 2.5\n",
        "reference_depth_to_1pt0km_per_sec = 100.0\n",
        "rupture_model_file = rupture_model.xml\n",
        "intensity_measure_types = PGA\n",
        "truncation_level = 1.0\n",
        "maximum_distance = 200\n",
        "gsim = BooreAtkinson2008\n",
        "number_of_ground_motion_fields = 5\n",
        "\n"
       ]
      }
     ],
     "prompt_number": 2
    },
    {
     "cell_type": "code",
     "collapsed": false,
     "input": [
      "from openquake.baselib.general import import_all; import_all('my_calculators')"
     ],
     "language": "python",
     "metadata": {},
     "outputs": [
      {
       "metadata": {},
       "output_type": "pyout",
       "prompt_number": 3,
       "text": [
        "{'ConfigParser',\n",
        " 'FixTk',\n",
        " 'Image',\n",
        " 'ImageColor',\n",
        " 'ImageFilter',\n",
        " 'ImageMode',\n",
        " 'ImagePalette',\n",
        " '__umfpack',\n",
        " '_bsr',\n",
        " '_coo',\n",
        " '_csc',\n",
        " '_csgraph',\n",
        " '_csr',\n",
        " '_csv',\n",
        " '_dia',\n",
        " '_imaging',\n",
        " '_psutil_linux',\n",
        " '_psutil_posix',\n",
        " 'csv',\n",
        " 'decimal',\n",
        " 'gzip',\n",
        " 'lxml',\n",
        " 'lxml.__builtin__',\n",
        " 'lxml._elementpath',\n",
        " 'lxml.etree',\n",
        " 'lxml.gzip',\n",
        " 'lxml.inspect',\n",
        " 'lxml.io',\n",
        " 'lxml.os',\n",
        " 'lxml.re',\n",
        " 'lxml.sys',\n",
        " 'multiprocessing.Queue',\n",
        " 'multiprocessing.collections',\n",
        " 'multiprocessing.connection',\n",
        " 'multiprocessing.errno',\n",
        " 'multiprocessing.forking',\n",
        " 'multiprocessing.functools',\n",
        " 'multiprocessing.pickle',\n",
        " 'multiprocessing.queues',\n",
        " 'multiprocessing.socket',\n",
        " 'multiprocessing.synchronize',\n",
        " 'multiprocessing.tempfile',\n",
        " 'multiprocessing.time',\n",
        " 'my_calculators',\n",
        " 'my_calculators.__init__',\n",
        " 'my_calculators.hello',\n",
        " 'my_calculators.openquake',\n",
        " 'my_calculators.os',\n",
        " 'my_calculators.scenario',\n",
        " 'my_calculators.scenario_damage',\n",
        " 'new',\n",
        " 'numpy.core.math',\n",
        " 'numpy.dual',\n",
        " 'numpy.glob',\n",
        " 'numpy.imp',\n",
        " 'numpy.oldnumeric',\n",
        " 'numpy.oldnumeric.StringIO',\n",
        " 'numpy.oldnumeric.array_printer',\n",
        " 'numpy.oldnumeric.cPickle',\n",
        " 'numpy.oldnumeric.compat',\n",
        " 'numpy.oldnumeric.copy',\n",
        " 'numpy.oldnumeric.copy_reg',\n",
        " 'numpy.oldnumeric.functions',\n",
        " 'numpy.oldnumeric.math',\n",
        " 'numpy.oldnumeric.misc',\n",
        " 'numpy.oldnumeric.numpy',\n",
        " 'numpy.oldnumeric.pickle',\n",
        " 'numpy.oldnumeric.precision',\n",
        " 'numpy.oldnumeric.string',\n",
        " 'numpy.oldnumeric.sys',\n",
        " 'numpy.oldnumeric.typeconv',\n",
        " 'numpy.oldnumeric.types',\n",
        " 'numpy.oldnumeric.ufuncs',\n",
        " 'openquake.commonlib.ConfigParser',\n",
        " 'openquake.commonlib.abc',\n",
        " 'openquake.commonlib.ast',\n",
        " 'openquake.commonlib.cPickle',\n",
        " 'openquake.commonlib.cStringIO',\n",
        " 'openquake.commonlib.calculators',\n",
        " 'openquake.commonlib.calculators.__init__',\n",
        " 'openquake.commonlib.calculators.abc',\n",
        " 'openquake.commonlib.calculators.base',\n",
        " 'openquake.commonlib.calculators.calc',\n",
        " 'openquake.commonlib.calculators.classical_damage',\n",
        " 'openquake.commonlib.calculators.classical_risk',\n",
        " 'openquake.commonlib.calculators.collections',\n",
        " 'openquake.commonlib.calculators.hazard',\n",
        " 'openquake.commonlib.calculators.itertools',\n",
        " 'openquake.commonlib.calculators.logging',\n",
        " 'openquake.commonlib.calculators.numpy',\n",
        " 'openquake.commonlib.calculators.openquake',\n",
        " 'openquake.commonlib.calculators.operator',\n",
        " 'openquake.commonlib.calculators.os',\n",
        " 'openquake.commonlib.calculators.random',\n",
        " 'openquake.commonlib.calculators.scenario_damage',\n",
        " 'openquake.commonlib.calculators.scenario_risk',\n",
        " 'openquake.commonlib.concurrent',\n",
        " 'openquake.commonlib.contextlib',\n",
        " 'openquake.commonlib.copy',\n",
        " 'openquake.commonlib.csv',\n",
        " 'openquake.commonlib.datetime',\n",
        " 'openquake.commonlib.decimal',\n",
        " 'openquake.commonlib.export',\n",
        " 'openquake.commonlib.export.__init__',\n",
        " 'openquake.commonlib.export.collections',\n",
        " 'openquake.commonlib.export.csv',\n",
        " 'openquake.commonlib.export.hazard',\n",
        " 'openquake.commonlib.export.openquake',\n",
        " 'openquake.commonlib.export.os',\n",
        " 'openquake.commonlib.export.risk',\n",
        " 'openquake.commonlib.hazard_writers',\n",
        " 'openquake.commonlib.json',\n",
        " 'openquake.commonlib.logging',\n",
        " 'openquake.commonlib.logictree',\n",
        " 'openquake.commonlib.lxml',\n",
        " 'openquake.commonlib.node',\n",
        " 'openquake.commonlib.nrml',\n",
        " 'openquake.commonlib.obsolete',\n",
        " 'openquake.commonlib.openquake',\n",
        " 'openquake.commonlib.operator',\n",
        " 'openquake.commonlib.oqvalidation',\n",
        " 'openquake.commonlib.parallel',\n",
        " 'openquake.commonlib.pprint',\n",
        " 'openquake.commonlib.psutil',\n",
        " 'openquake.commonlib.random',\n",
        " 'openquake.commonlib.re',\n",
        " 'openquake.commonlib.readinput',\n",
        " 'openquake.commonlib.risk_writers',\n",
        " 'openquake.commonlib.riskmodels',\n",
        " 'openquake.commonlib.shapely',\n",
        " 'openquake.commonlib.source',\n",
        " 'openquake.commonlib.textwrap',\n",
        " 'openquake.commonlib.time',\n",
        " 'openquake.commonlib.traceback',\n",
        " 'openquake.commonlib.valid',\n",
        " 'openquake.commonlib.writers',\n",
        " 'openquake.commonlib.xml',\n",
        " 'openquake.hazardlib',\n",
        " 'openquake.hazardlib.abc',\n",
        " 'openquake.hazardlib.calc',\n",
        " 'openquake.hazardlib.calc.collections',\n",
        " 'openquake.hazardlib.calc.disagg',\n",
        " 'openquake.hazardlib.calc.filters',\n",
        " 'openquake.hazardlib.calc.gmf',\n",
        " 'openquake.hazardlib.calc.hazard_curve',\n",
        " 'openquake.hazardlib.calc.itertools',\n",
        " 'openquake.hazardlib.calc.numpy',\n",
        " 'openquake.hazardlib.calc.openquake',\n",
        " 'openquake.hazardlib.calc.scipy',\n",
        " 'openquake.hazardlib.calc.stochastic',\n",
        " 'openquake.hazardlib.calc.sys',\n",
        " 'openquake.hazardlib.calc.warnings',\n",
        " 'openquake.hazardlib.const',\n",
        " 'openquake.hazardlib.correlation',\n",
        " 'openquake.hazardlib.functools',\n",
        " 'openquake.hazardlib.geo',\n",
        " 'openquake.hazardlib.geo._geodetic_speedups',\n",
        " 'openquake.hazardlib.geo._utils_speedups',\n",
        " 'openquake.hazardlib.geo.geodetic',\n",
        " 'openquake.hazardlib.geo.line',\n",
        " 'openquake.hazardlib.geo.mesh',\n",
        " 'openquake.hazardlib.geo.nodalplane',\n",
        " 'openquake.hazardlib.geo.numpy',\n",
        " 'openquake.hazardlib.geo.openquake',\n",
        " 'openquake.hazardlib.geo.operator',\n",
        " 'openquake.hazardlib.geo.point',\n",
        " 'openquake.hazardlib.geo.polygon',\n",
        " 'openquake.hazardlib.geo.shapely',\n",
        " 'openquake.hazardlib.geo.surface',\n",
        " 'openquake.hazardlib.geo.surface.abc',\n",
        " 'openquake.hazardlib.geo.surface.base',\n",
        " 'openquake.hazardlib.geo.surface.complex_fault',\n",
        " 'openquake.hazardlib.geo.surface.math',\n",
        " 'openquake.hazardlib.geo.surface.multi',\n",
        " 'openquake.hazardlib.geo.surface.numpy',\n",
        " 'openquake.hazardlib.geo.surface.openquake',\n",
        " 'openquake.hazardlib.geo.surface.planar',\n",
        " 'openquake.hazardlib.geo.surface.shapely',\n",
        " 'openquake.hazardlib.geo.surface.simple_fault',\n",
        " 'openquake.hazardlib.geo.utils',\n",
        " 'openquake.hazardlib.gsim',\n",
        " 'openquake.hazardlib.gsim.__future__',\n",
        " 'openquake.hazardlib.gsim.__init__',\n",
        " 'openquake.hazardlib.gsim.abc',\n",
        " 'openquake.hazardlib.gsim.abrahamson_silva_1997',\n",
        " 'openquake.hazardlib.gsim.abrahamson_silva_2008',\n",
        " 'openquake.hazardlib.gsim.akkar_2013',\n",
        " 'openquake.hazardlib.gsim.akkar_2014',\n",
        " 'openquake.hazardlib.gsim.akkar_bommer_2010',\n",
        " 'openquake.hazardlib.gsim.akkar_bommer_2010_swiss_coeffs',\n",
        " 'openquake.hazardlib.gsim.akkar_cagnan_2010',\n",
        " 'openquake.hazardlib.gsim.allen_2012',\n",
        " 'openquake.hazardlib.gsim.atkinson_boore_1995',\n",
        " 'openquake.hazardlib.gsim.atkinson_boore_2003',\n",
        " 'openquake.hazardlib.gsim.atkinson_boore_2006',\n",
        " 'openquake.hazardlib.gsim.base',\n",
        " 'openquake.hazardlib.gsim.berge_thierry_2003',\n",
        " 'openquake.hazardlib.gsim.boore_1993',\n",
        " 'openquake.hazardlib.gsim.boore_1997',\n",
        " 'openquake.hazardlib.gsim.boore_2014',\n",
        " 'openquake.hazardlib.gsim.boore_atkinson_2008',\n",
        " 'openquake.hazardlib.gsim.boore_atkinson_2011',\n",
        " 'openquake.hazardlib.gsim.bradley_2013',\n",
        " 'openquake.hazardlib.gsim.campbell_2003',\n",
        " 'openquake.hazardlib.gsim.campbell_bozorgnia_2003',\n",
        " 'openquake.hazardlib.gsim.campbell_bozorgnia_2008',\n",
        " 'openquake.hazardlib.gsim.cauzzi_faccioli_2008',\n",
        " 'openquake.hazardlib.gsim.cauzzi_faccioli_2008_swiss',\n",
        " 'openquake.hazardlib.gsim.cauzzi_faccioli_2008_swiss_coeffs',\n",
        " 'openquake.hazardlib.gsim.chiou_youngs_2008',\n",
        " 'openquake.hazardlib.gsim.chiou_youngs_2008_swiss',\n",
        " 'openquake.hazardlib.gsim.chiou_youngs_2008_swiss_coeffs',\n",
        " 'openquake.hazardlib.gsim.chiou_youngs_2014',\n",
        " 'openquake.hazardlib.gsim.climent_1994',\n",
        " 'openquake.hazardlib.gsim.collections',\n",
        " 'openquake.hazardlib.gsim.convertito_2012',\n",
        " 'openquake.hazardlib.gsim.copy',\n",
        " 'openquake.hazardlib.gsim.douglas_stochastic_2013',\n",
        " 'openquake.hazardlib.gsim.edwards_fah_2013a',\n",
        " 'openquake.hazardlib.gsim.edwards_fah_2013a_coeffs',\n",
        " 'openquake.hazardlib.gsim.edwards_fah_2013f',\n",
        " 'openquake.hazardlib.gsim.edwards_fah_2013f_coeffs',\n",
        " 'openquake.hazardlib.gsim.faccioli_2010',\n",
        " 'openquake.hazardlib.gsim.frankel_1996',\n",
        " 'openquake.hazardlib.gsim.fukushima_tanaka_1990',\n",
        " 'openquake.hazardlib.gsim.functools',\n",
        " 'openquake.hazardlib.gsim.garcia_2005',\n",
        " 'openquake.hazardlib.gsim.geomatrix_1993',\n",
        " 'openquake.hazardlib.gsim.importlib',\n",
        " 'openquake.hazardlib.gsim.inspect',\n",
        " 'openquake.hazardlib.gsim.lin_2009',\n",
        " 'openquake.hazardlib.gsim.lin_lee_2008',\n",
        " 'openquake.hazardlib.gsim.math',\n",
        " 'openquake.hazardlib.gsim.mcverry_2006',\n",
        " 'openquake.hazardlib.gsim.megawati_pan_2010',\n",
        " 'openquake.hazardlib.gsim.numpy',\n",
        " 'openquake.hazardlib.gsim.openquake',\n",
        " 'openquake.hazardlib.gsim.os',\n",
        " 'openquake.hazardlib.gsim.pezeshk_2011',\n",
        " 'openquake.hazardlib.gsim.sadigh_1997',\n",
        " 'openquake.hazardlib.gsim.scipy',\n",
        " 'openquake.hazardlib.gsim.si_midorikawa_1999',\n",
        " 'openquake.hazardlib.gsim.silva_2002',\n",
        " 'openquake.hazardlib.gsim.somerville_2001',\n",
        " 'openquake.hazardlib.gsim.somerville_2009',\n",
        " 'openquake.hazardlib.gsim.tavakoli_pezeshk_2005',\n",
        " 'openquake.hazardlib.gsim.toro_1997',\n",
        " 'openquake.hazardlib.gsim.toro_2002',\n",
        " 'openquake.hazardlib.gsim.utils',\n",
        " 'openquake.hazardlib.gsim.utils_swiss_gmpe',\n",
        " 'openquake.hazardlib.gsim.warnings',\n",
        " 'openquake.hazardlib.gsim.youngs_1997',\n",
        " 'openquake.hazardlib.gsim.zhao_2006',\n",
        " 'openquake.hazardlib.gsim.zhao_2006_swiss',\n",
        " 'openquake.hazardlib.gsim.zhao_2006_swiss_coeffs',\n",
        " 'openquake.hazardlib.imt',\n",
        " 'openquake.hazardlib.inspect',\n",
        " 'openquake.hazardlib.math',\n",
        " 'openquake.hazardlib.mfd',\n",
        " 'openquake.hazardlib.mfd.abc',\n",
        " 'openquake.hazardlib.mfd.base',\n",
        " 'openquake.hazardlib.mfd.evenly_discretized',\n",
        " 'openquake.hazardlib.mfd.math',\n",
        " 'openquake.hazardlib.mfd.numpy',\n",
        " 'openquake.hazardlib.mfd.openquake',\n",
        " 'openquake.hazardlib.mfd.truncated_gr',\n",
        " 'openquake.hazardlib.mfd.youngs_coppersmith_1985',\n",
        " 'openquake.hazardlib.numpy',\n",
        " 'openquake.hazardlib.openquake',\n",
        " 'openquake.hazardlib.operator',\n",
        " 'openquake.hazardlib.pmf',\n",
        " 'openquake.hazardlib.re',\n",
        " 'openquake.hazardlib.scalerel',\n",
        " 'openquake.hazardlib.scalerel.__init__',\n",
        " 'openquake.hazardlib.scalerel.abc',\n",
        " 'openquake.hazardlib.scalerel.base',\n",
        " 'openquake.hazardlib.scalerel.ceus2011',\n",
        " 'openquake.hazardlib.scalerel.collections',\n",
        " 'openquake.hazardlib.scalerel.importlib',\n",
        " 'openquake.hazardlib.scalerel.inspect',\n",
        " 'openquake.hazardlib.scalerel.math',\n",
        " 'openquake.hazardlib.scalerel.openquake',\n",
        " 'openquake.hazardlib.scalerel.os',\n",
        " 'openquake.hazardlib.scalerel.peer',\n",
        " 'openquake.hazardlib.scalerel.point',\n",
        " 'openquake.hazardlib.scalerel.wc1994',\n",
        " 'openquake.hazardlib.scipy',\n",
        " 'openquake.hazardlib.site',\n",
        " 'openquake.hazardlib.slots',\n",
        " 'openquake.hazardlib.source',\n",
        " 'openquake.hazardlib.source.abc',\n",
        " 'openquake.hazardlib.source.area',\n",
        " 'openquake.hazardlib.source.base',\n",
        " 'openquake.hazardlib.source.characteristic',\n",
        " 'openquake.hazardlib.source.complex_fault',\n",
        " 'openquake.hazardlib.source.math',\n",
        " 'openquake.hazardlib.source.non_parametric',\n",
        " 'openquake.hazardlib.source.numpy',\n",
        " 'openquake.hazardlib.source.openquake',\n",
        " 'openquake.hazardlib.source.point',\n",
        " 'openquake.hazardlib.source.rupture',\n",
        " 'openquake.hazardlib.source.simple_fault',\n",
        " 'openquake.hazardlib.speedups',\n",
        " 'openquake.hazardlib.tom',\n",
        " 'openquake.nrmllib',\n",
        " 'openquake.nrmllib.collections',\n",
        " 'openquake.nrmllib.lxml',\n",
        " 'openquake.nrmllib.models',\n",
        " 'openquake.nrmllib.os',\n",
        " 'openquake.risklib',\n",
        " 'openquake.risklib.abc',\n",
        " 'openquake.risklib.bisect',\n",
        " 'openquake.risklib.calculators',\n",
        " 'openquake.risklib.collections',\n",
        " 'openquake.risklib.copy',\n",
        " 'openquake.risklib.functools',\n",
        " 'openquake.risklib.inspect',\n",
        " 'openquake.risklib.itertools',\n",
        " 'openquake.risklib.numpy',\n",
        " 'openquake.risklib.openquake',\n",
        " 'openquake.risklib.operator',\n",
        " 'openquake.risklib.scientific',\n",
        " 'openquake.risklib.scipy',\n",
        " 'openquake.risklib.utils',\n",
        " 'openquake.risklib.workflows',\n",
        " 'psutil',\n",
        " 'psutil.__builtin__',\n",
        " 'psutil._common',\n",
        " 'psutil._compat',\n",
        " 'psutil._pslinux',\n",
        " 'psutil._psposix',\n",
        " 'psutil._psutil_linux',\n",
        " 'psutil._psutil_posix',\n",
        " 'psutil.base64',\n",
        " 'psutil.collections',\n",
        " 'psutil.errno',\n",
        " 'psutil.error',\n",
        " 'psutil.glob',\n",
        " 'psutil.keyword',\n",
        " 'psutil.operator',\n",
        " 'psutil.os',\n",
        " 'psutil.psutil',\n",
        " 'psutil.pwd',\n",
        " 'psutil.re',\n",
        " 'psutil.signal',\n",
        " 'psutil.socket',\n",
        " 'psutil.struct',\n",
        " 'psutil.subprocess',\n",
        " 'psutil.sys',\n",
        " 'psutil.time',\n",
        " 'psutil.warnings',\n",
        " 'scipy',\n",
        " 'scipy.__config__',\n",
        " 'scipy.cluster.info',\n",
        " 'scipy.constants',\n",
        " 'scipy.constants.codata',\n",
        " 'scipy.constants.constants',\n",
        " 'scipy.constants.math',\n",
        " 'scipy.constants.numpy',\n",
        " 'scipy.fftpack.info',\n",
        " 'scipy.integrate',\n",
        " 'scipy.integrate._dop',\n",
        " 'scipy.integrate._odepack',\n",
        " 'scipy.integrate._quadpack',\n",
        " 'scipy.integrate.copy',\n",
        " 'scipy.integrate.info',\n",
        " 'scipy.integrate.math',\n",
        " 'scipy.integrate.numpy',\n",
        " 'scipy.integrate.ode',\n",
        " 'scipy.integrate.odepack',\n",
        " 'scipy.integrate.quadpack',\n",
        " 'scipy.integrate.quadrature',\n",
        " 'scipy.integrate.re',\n",
        " 'scipy.integrate.scipy',\n",
        " 'scipy.integrate.sys',\n",
        " 'scipy.integrate.vode',\n",
        " 'scipy.integrate.warnings',\n",
        " 'scipy.interpolate',\n",
        " 'scipy.interpolate._fitpack',\n",
        " 'scipy.interpolate.dfitpack',\n",
        " 'scipy.interpolate.fitpack',\n",
        " 'scipy.interpolate.fitpack2',\n",
        " 'scipy.interpolate.info',\n",
        " 'scipy.interpolate.interpnd',\n",
        " 'scipy.interpolate.interpolate',\n",
        " 'scipy.interpolate.math',\n",
        " 'scipy.interpolate.ndgriddata',\n",
        " 'scipy.interpolate.numpy',\n",
        " 'scipy.interpolate.polyint',\n",
        " 'scipy.interpolate.rbf',\n",
        " 'scipy.interpolate.scipy',\n",
        " 'scipy.interpolate.warnings',\n",
        " 'scipy.io.info',\n",
        " 'scipy.lib',\n",
        " 'scipy.lib.blas',\n",
        " 'scipy.lib.blas.cblas',\n",
        " 'scipy.lib.blas.fblas',\n",
        " 'scipy.lib.blas.info',\n",
        " 'scipy.lib.blas.numpy',\n",
        " 'scipy.lib.info',\n",
        " 'scipy.lib.lapack.info',\n",
        " 'scipy.lib.numpy',\n",
        " 'scipy.linalg',\n",
        " 'scipy.linalg._flinalg',\n",
        " 'scipy.linalg.basic',\n",
        " 'scipy.linalg.blas',\n",
        " 'scipy.linalg.calc_lwork',\n",
        " 'scipy.linalg.cblas',\n",
        " 'scipy.linalg.clapack',\n",
        " 'scipy.linalg.decomp',\n",
        " 'scipy.linalg.decomp_cholesky',\n",
        " 'scipy.linalg.decomp_lu',\n",
        " 'scipy.linalg.decomp_qr',\n",
        " 'scipy.linalg.decomp_schur',\n",
        " 'scipy.linalg.decomp_svd',\n",
        " 'scipy.linalg.fblas',\n",
        " 'scipy.linalg.flapack',\n",
        " 'scipy.linalg.flinalg',\n",
        " 'scipy.linalg.info',\n",
        " 'scipy.linalg.lapack',\n",
        " 'scipy.linalg.linalg_version',\n",
        " 'scipy.linalg.matfuncs',\n",
        " 'scipy.linalg.math',\n",
        " 'scipy.linalg.misc',\n",
        " 'scipy.linalg.numpy',\n",
        " 'scipy.linalg.scipy',\n",
        " 'scipy.linalg.special_matrices',\n",
        " 'scipy.linalg.types',\n",
        " 'scipy.linalg.warnings',\n",
        " 'scipy.maxentropy.info',\n",
        " 'scipy.misc',\n",
        " 'scipy.misc.Image',\n",
        " 'scipy.misc.ImageFilter',\n",
        " 'scipy.misc.common',\n",
        " 'scipy.misc.doccer',\n",
        " 'scipy.misc.info',\n",
        " 'scipy.misc.numpy',\n",
        " 'scipy.misc.pilutil',\n",
        " 'scipy.misc.sys',\n",
        " 'scipy.misc.tempfile',\n",
        " 'scipy.ndimage.info',\n",
        " 'scipy.numpy',\n",
        " 'scipy.odr.info',\n",
        " 'scipy.optimize',\n",
        " 'scipy.optimize.__builtin__',\n",
        " 'scipy.optimize._cobyla',\n",
        " 'scipy.optimize._lbfgsb',\n",
        " 'scipy.optimize._minpack',\n",
        " 'scipy.optimize._nnls',\n",
        " 'scipy.optimize._slsqp',\n",
        " 'scipy.optimize._zeros',\n",
        " 'scipy.optimize.anneal',\n",
        " 'scipy.optimize.cobyla',\n",
        " 'scipy.optimize.info',\n",
        " 'scipy.optimize.inspect',\n",
        " 'scipy.optimize.lbfgsb',\n",
        " 'scipy.optimize.linesearch',\n",
        " 'scipy.optimize.minpack',\n",
        " 'scipy.optimize.minpack2',\n",
        " 'scipy.optimize.moduleTNC',\n",
        " 'scipy.optimize.nnls',\n",
        " 'scipy.optimize.nonlin',\n",
        " 'scipy.optimize.numpy',\n",
        " 'scipy.optimize.optimize',\n",
        " 'scipy.optimize.scipy',\n",
        " 'scipy.optimize.slsqp',\n",
        " 'scipy.optimize.sys',\n",
        " 'scipy.optimize.tnc',\n",
        " 'scipy.optimize.warnings',\n",
        " 'scipy.optimize.zeros',\n",
        " 'scipy.os',\n",
        " 'scipy.scipy',\n",
        " 'scipy.signal.info',\n",
        " 'scipy.sparse',\n",
        " 'scipy.sparse.base',\n",
        " 'scipy.sparse.bisect',\n",
        " 'scipy.sparse.bsr',\n",
        " 'scipy.sparse.compressed',\n",
        " 'scipy.sparse.construct',\n",
        " 'scipy.sparse.coo',\n",
        " 'scipy.sparse.csc',\n",
        " 'scipy.sparse.csgraph',\n",
        " 'scipy.sparse.csr',\n",
        " 'scipy.sparse.data',\n",
        " 'scipy.sparse.dia',\n",
        " 'scipy.sparse.dok',\n",
        " 'scipy.sparse.extract',\n",
        " 'scipy.sparse.info',\n",
        " 'scipy.sparse.itertools',\n",
        " 'scipy.sparse.lil',\n",
        " 'scipy.sparse.linalg',\n",
        " 'scipy.sparse.linalg.dsolve',\n",
        " 'scipy.sparse.linalg.dsolve._superlu',\n",
        " 'scipy.sparse.linalg.dsolve.info',\n",
        " 'scipy.sparse.linalg.dsolve.linsolve',\n",
        " 'scipy.sparse.linalg.dsolve.numpy',\n",
        " 'scipy.sparse.linalg.dsolve.scipy',\n",
        " 'scipy.sparse.linalg.dsolve.umfpack',\n",
        " 'scipy.sparse.linalg.dsolve.umfpack._umfpack',\n",
        " 'scipy.sparse.linalg.dsolve.umfpack.imp',\n",
        " 'scipy.sparse.linalg.dsolve.umfpack.info',\n",
        " 'scipy.sparse.linalg.dsolve.umfpack.numpy',\n",
        " 'scipy.sparse.linalg.dsolve.umfpack.os',\n",
        " 'scipy.sparse.linalg.dsolve.umfpack.re',\n",
        " 'scipy.sparse.linalg.dsolve.umfpack.scipy',\n",
        " 'scipy.sparse.linalg.dsolve.umfpack.sys',\n",
        " 'scipy.sparse.linalg.dsolve.umfpack.umfpack',\n",
        " 'scipy.sparse.linalg.dsolve.warnings',\n",
        " 'scipy.sparse.linalg.eigen',\n",
        " 'scipy.sparse.linalg.eigen.arpack',\n",
        " 'scipy.sparse.linalg.eigen.arpack._arpack',\n",
        " 'scipy.sparse.linalg.eigen.arpack.arpack',\n",
        " 'scipy.sparse.linalg.eigen.arpack.info',\n",
        " 'scipy.sparse.linalg.eigen.arpack.numpy',\n",
        " 'scipy.sparse.linalg.eigen.arpack.scipy',\n",
        " 'scipy.sparse.linalg.eigen.info',\n",
        " 'scipy.sparse.linalg.eigen.lobpcg',\n",
        " 'scipy.sparse.linalg.eigen.lobpcg.info',\n",
        " 'scipy.sparse.linalg.eigen.lobpcg.lobpcg',\n",
        " 'scipy.sparse.linalg.eigen.lobpcg.numpy',\n",
        " 'scipy.sparse.linalg.eigen.lobpcg.scipy',\n",
        " 'scipy.sparse.linalg.eigen.lobpcg.sys',\n",
        " 'scipy.sparse.linalg.eigen.numpy',\n",
        " 'scipy.sparse.linalg.info',\n",
        " 'scipy.sparse.linalg.interface',\n",
        " 'scipy.sparse.linalg.isolve',\n",
        " 'scipy.sparse.linalg.isolve._iterative',\n",
        " 'scipy.sparse.linalg.isolve.iterative',\n",
        " 'scipy.sparse.linalg.isolve.lgmres',\n",
        " 'scipy.sparse.linalg.isolve.lsqr',\n",
        " 'scipy.sparse.linalg.isolve.math',\n",
        " 'scipy.sparse.linalg.isolve.minres',\n",
        " 'scipy.sparse.linalg.isolve.numpy',\n",
        " 'scipy.sparse.linalg.isolve.scipy',\n",
        " 'scipy.sparse.linalg.isolve.utils',\n",
        " 'scipy.sparse.linalg.isolve.warnings',\n",
        " 'scipy.sparse.linalg.numpy',\n",
        " 'scipy.sparse.linalg.scipy',\n",
        " 'scipy.sparse.numpy',\n",
        " 'scipy.sparse.operator',\n",
        " 'scipy.sparse.sparsetools',\n",
        " 'scipy.sparse.sparsetools.bsr',\n",
        " 'scipy.sparse.sparsetools.coo',\n",
        " 'scipy.sparse.sparsetools.csc',\n",
        " 'scipy.sparse.sparsetools.csgraph',\n",
        " 'scipy.sparse.sparsetools.csr',\n",
        " 'scipy.sparse.sparsetools.dia',\n",
        " 'scipy.sparse.sparsetools.imp',\n",
        " 'scipy.sparse.sparsetools.os',\n",
        " 'scipy.sparse.sparsetools.sys',\n",
        " 'scipy.sparse.sputils',\n",
        " 'scipy.sparse.warnings',\n",
        " 'scipy.spatial',\n",
        " 'scipy.spatial._distance_wrap',\n",
        " 'scipy.spatial.ckdtree',\n",
        " 'scipy.spatial.distance',\n",
        " 'scipy.spatial.heapq',\n",
        " 'scipy.spatial.info',\n",
        " 'scipy.spatial.kdtree',\n",
        " 'scipy.spatial.numpy',\n",
        " 'scipy.spatial.qhull',\n",
        " 'scipy.spatial.scipy',\n",
        " 'scipy.spatial.sys',\n",
        " 'scipy.spatial.threading',\n",
        " 'scipy.spatial.warnings',\n",
        " 'scipy.special',\n",
        " 'scipy.special._cephes',\n",
        " 'scipy.special.basic',\n",
        " 'scipy.special.info',\n",
        " 'scipy.special.lambertw',\n",
        " 'scipy.special.numpy',\n",
        " 'scipy.special.orthogonal',\n",
        " 'scipy.special.orthogonal_eval',\n",
        " 'scipy.special.scipy',\n",
        " 'scipy.special.specfun',\n",
        " 'scipy.special.spfun_stats',\n",
        " 'scipy.special.types',\n",
        " 'scipy.special.warnings',\n",
        " 'scipy.stats',\n",
        " 'scipy.stats._support',\n",
        " 'scipy.stats.copy',\n",
        " 'scipy.stats.distributions',\n",
        " 'scipy.stats.futil',\n",
        " 'scipy.stats.info',\n",
        " 'scipy.stats.inspect',\n",
        " 'scipy.stats.itertools',\n",
        " 'scipy.stats.kde',\n",
        " 'scipy.stats.math',\n",
        " 'scipy.stats.morestats',\n",
        " 'scipy.stats.mstats',\n",
        " 'scipy.stats.mstats_basic',\n",
        " 'scipy.stats.mstats_extras',\n",
        " 'scipy.stats.mvn',\n",
        " 'scipy.stats.new',\n",
        " 'scipy.stats.numpy',\n",
        " 'scipy.stats.rv',\n",
        " 'scipy.stats.scipy',\n",
        " 'scipy.stats.statlib',\n",
        " 'scipy.stats.stats',\n",
        " 'scipy.stats.types',\n",
        " 'scipy.stats.vonmises_cython',\n",
        " 'scipy.stats.warnings',\n",
        " 'scipy.version',\n",
        " 'scipy.weave.info',\n",
        " 'shapely',\n",
        " 'shapely.algorithms',\n",
        " 'shapely.algorithms.cga',\n",
        " 'shapely.algorithms.itertools',\n",
        " 'shapely.array',\n",
        " 'shapely.atexit',\n",
        " 'shapely.coords',\n",
        " 'shapely.ctypes',\n",
        " 'shapely.ctypes_declarations',\n",
        " 'shapely.ftools',\n",
        " 'shapely.functools',\n",
        " 'shapely.geometry',\n",
        " 'shapely.geometry.base',\n",
        " 'shapely.geometry.collection',\n",
        " 'shapely.geometry.ctypes',\n",
        " 'shapely.geometry.geo',\n",
        " 'shapely.geometry.linestring',\n",
        " 'shapely.geometry.multilinestring',\n",
        " 'shapely.geometry.multipoint',\n",
        " 'shapely.geometry.multipolygon',\n",
        " 'shapely.geometry.point',\n",
        " 'shapely.geometry.polygon',\n",
        " 'shapely.geometry.proxy',\n",
        " 'shapely.geometry.shapely',\n",
        " 'shapely.geometry.sys',\n",
        " 'shapely.geometry.warnings',\n",
        " 'shapely.geometry.weakref',\n",
        " 'shapely.geos',\n",
        " 'shapely.impl',\n",
        " 'shapely.linref',\n",
        " 'shapely.logging',\n",
        " 'shapely.ops',\n",
        " 'shapely.os',\n",
        " 'shapely.predicates',\n",
        " 'shapely.shapely',\n",
        " 'shapely.sys',\n",
        " 'shapely.threading',\n",
        " 'shapely.topology',\n",
        " 'shapely.wkb',\n",
        " 'shapely.wkt',\n",
        " 'swig_runtime_data4',\n",
        " 'xml',\n",
        " 'xml.sax',\n",
        " 'xml.sax._exceptions',\n",
        " 'xml.sax.codecs',\n",
        " 'xml.sax.handler',\n",
        " 'xml.sax.os',\n",
        " 'xml.sax.saxutils',\n",
        " 'xml.sax.sys',\n",
        " 'xml.sax.types',\n",
        " 'xml.sax.urllib',\n",
        " 'xml.sax.urlparse',\n",
        " 'xml.sax.xmlreader'}"
       ]
      }
     ],
     "prompt_number": 3
    },
    {
     "cell_type": "code",
     "collapsed": false,
     "input": [
      "from openquake.commonlib import readinput"
     ],
     "language": "python",
     "metadata": {},
     "outputs": [],
     "prompt_number": 4
    },
    {
     "cell_type": "code",
     "collapsed": false,
     "input": [
      "oqparam = readinput.get_oqparam('job.ini'); oqparam"
     ],
     "language": "python",
     "metadata": {},
     "outputs": [
      {
       "metadata": {},
       "output_type": "pyout",
       "prompt_number": 5,
       "text": [
        "<OqParam base_path=/home/ubuntu/oq-commonlib/docs, calculation_mode=my_scenario, description=Scenario QA Test, Case 1, export_dir=/tmp, gsim=BooreAtkinson2008, inputs={'rupture_model': '/home/ubuntu/oq-commonlib/docs/rupture_model.xml'}, intensity_measure_types_and_levels={'PGA': None}, maximum_distance=200.0, number_of_ground_motion_fields=5, random_seed=3, reference_depth_to_1pt0km_per_sec=100.0, reference_depth_to_2pt5km_per_sec=2.5, reference_vs30_type=measured, reference_vs30_value=800.0, rupture_mesh_spacing=1.0, sites=[(0.0, 0.0), (0.0, 0.1), (0.0, 0.2)], truncation_level=1.0>"
       ]
      }
     ],
     "prompt_number": 5
    },
    {
     "cell_type": "code",
     "collapsed": false,
     "input": [
      "for name, value in oqparam:\n",
      "    print name, '=', repr(value)"
     ],
     "language": "python",
     "metadata": {},
     "outputs": [
      {
       "output_type": "stream",
       "stream": "stdout",
       "text": [
        "base_path = '/home/ubuntu/oq-commonlib/docs'\n",
        "calculation_mode = 'my_scenario'\n",
        "description = 'Scenario QA Test, Case 1'\n",
        "export_dir = '/tmp'\n",
        "gsim = 'BooreAtkinson2008'\n",
        "inputs = {'rupture_model': '/home/ubuntu/oq-commonlib/docs/rupture_model.xml'}\n",
        "intensity_measure_types_and_levels = {'PGA': None}\n",
        "maximum_distance = 200.0\n",
        "number_of_ground_motion_fields = 5\n",
        "random_seed = 3\n",
        "reference_depth_to_1pt0km_per_sec = 100.0\n",
        "reference_depth_to_2pt5km_per_sec = 2.5\n",
        "reference_vs30_type = 'measured'\n",
        "reference_vs30_value = 800.0\n",
        "rupture_mesh_spacing = 1.0\n",
        "sites = [(0.0, 0.0), (0.0, 0.1), (0.0, 0.2)]\n",
        "truncation_level = 1.0\n"
       ]
      }
     ],
     "prompt_number": 6
    },
    {
     "cell_type": "code",
     "collapsed": true,
     "input": [
      "for coords in oqparam.sites: print coords"
     ],
     "language": "python",
     "metadata": {},
     "outputs": [
      {
       "output_type": "stream",
       "stream": "stdout",
       "text": [
        "(0.0, 0.0)\n",
        "(0.0, 0.1)\n",
        "(0.0, 0.2)\n"
       ]
      }
     ],
     "prompt_number": 7
    },
    {
     "cell_type": "code",
     "collapsed": false,
     "input": [
      "mesh = readinput.get_mesh(oqparam)\n",
      "for site in mesh: print site"
     ],
     "language": "python",
     "metadata": {},
     "outputs": [
      {
       "output_type": "stream",
       "stream": "stdout",
       "text": [
        "<Latitude=0.000000, Longitude=0.000000, Depth=0.0000>\n",
        "<Latitude=0.100000, Longitude=0.000000, Depth=0.0000>\n",
        "<Latitude=0.200000, Longitude=0.000000, Depth=0.0000>\n"
       ]
      }
     ],
     "prompt_number": 8
    },
    {
     "cell_type": "code",
     "collapsed": false,
     "input": [
      "gsim = readinput.get_gsim(oqparam); gsim"
     ],
     "language": "python",
     "metadata": {},
     "outputs": [
      {
       "metadata": {},
       "output_type": "pyout",
       "prompt_number": 9,
       "text": [
        "<openquake.hazardlib.gsim.boore_atkinson_2008.BooreAtkinson2008 at 0x3f5e290>"
       ]
      }
     ],
     "prompt_number": 9
    },
    {
     "cell_type": "code",
     "collapsed": false,
     "input": [
      "print open('rupture_model.xml').read()"
     ],
     "language": "python",
     "metadata": {},
     "outputs": [
      {
       "output_type": "stream",
       "stream": "stdout",
       "text": [
        "<?xml version='1.0' encoding='utf-8'?>\n",
        "<nrml xmlns:gml=\"http://www.opengis.net/gml\"\n",
        "      xmlns=\"http://openquake.org/xmlns/nrml/0.4\">\n",
        "\n",
        "    <simpleFaultRupture>\n",
        "        <magnitude>6.5</magnitude>\n",
        "        <rake>0</rake>\n",
        "        <hypocenter lat=\"0.0\" lon=\"0.0\" depth=\"6.0\"/>\n",
        "        <simpleFaultGeometry>\n",
        "                <gml:LineString>\n",
        "                    <gml:posList>\n",
        "                        -0.104328 -0.104328\n",
        "                         0.104328  0.104328\n",
        "                    </gml:posList>\n",
        "                </gml:LineString>\n",
        "            <dip>90.0</dip>\n",
        "            <upperSeismoDepth>2.0</upperSeismoDepth>\n",
        "            <lowerSeismoDepth>10.0</lowerSeismoDepth>\n",
        "        </simpleFaultGeometry>\n",
        "    </simpleFaultRupture>\n",
        "</nrml>\n",
        "\n"
       ]
      }
     ],
     "prompt_number": 10
    },
    {
     "cell_type": "code",
     "collapsed": false,
     "input": [
      "rupture = readinput.get_rupture(oqparam); rupture"
     ],
     "language": "python",
     "metadata": {},
     "outputs": [
      {
       "metadata": {},
       "output_type": "pyout",
       "prompt_number": 11,
       "text": [
        "<openquake.hazardlib.source.rupture.Rupture at 0x3f4e4d0>"
       ]
      }
     ],
     "prompt_number": 11
    },
    {
     "cell_type": "code",
     "collapsed": false,
     "input": [
      "rupture.mag, rupture.rake, rupture.surface"
     ],
     "language": "python",
     "metadata": {},
     "outputs": [
      {
       "metadata": {},
       "output_type": "pyout",
       "prompt_number": 12,
       "text": [
        "(6.5,\n",
        " 0.0,\n",
        " <openquake.hazardlib.geo.surface.simple_fault.SimpleFaultSurface at 0x3f5eed0>)"
       ]
      }
     ],
     "prompt_number": 12
    },
    {
     "cell_type": "code",
     "collapsed": false,
     "input": [
      "imts = readinput.get_imts(oqparam); imts"
     ],
     "language": "python",
     "metadata": {},
     "outputs": [
      {
       "metadata": {},
       "output_type": "pyout",
       "prompt_number": 13,
       "text": [
        "[PGA()]"
       ]
      }
     ],
     "prompt_number": 13
    },
    {
     "cell_type": "code",
     "collapsed": false,
     "input": [
      "type(imts[0])"
     ],
     "language": "python",
     "metadata": {},
     "outputs": [
      {
       "metadata": {},
       "output_type": "pyout",
       "prompt_number": 14,
       "text": [
        "openquake.hazardlib.imt.PGA"
       ]
      }
     ],
     "prompt_number": 14
    },
    {
     "cell_type": "code",
     "collapsed": false,
     "input": [
      "sitecol = readinput.get_site_collection(oqparam); sitecol"
     ],
     "language": "python",
     "metadata": {},
     "outputs": [
      {
       "metadata": {},
       "output_type": "pyout",
       "prompt_number": 15,
       "text": [
        "<SiteCollection with 3 sites>"
       ]
      }
     ],
     "prompt_number": 15
    },
    {
     "cell_type": "code",
     "collapsed": false,
     "input": [
      "list(sitecol)"
     ],
     "language": "python",
     "metadata": {},
     "outputs": [
      {
       "metadata": {},
       "output_type": "pyout",
       "prompt_number": 16,
       "text": [
        "[<Location=<Latitude=0.000000, Longitude=0.000000, Depth=0.0000>, Vs30=800.0000, Vs30Measured=True, Depth1.0km=100.0000, Depth2.5km=2.5000>,\n",
        " <Location=<Latitude=0.100000, Longitude=0.000000, Depth=0.0000>, Vs30=800.0000, Vs30Measured=True, Depth1.0km=100.0000, Depth2.5km=2.5000>,\n",
        " <Location=<Latitude=0.200000, Longitude=0.000000, Depth=0.0000>, Vs30=800.0000, Vs30Measured=True, Depth1.0km=100.0000, Depth2.5km=2.5000>]"
       ]
      }
     ],
     "prompt_number": 16
    },
    {
     "cell_type": "heading",
     "level": 2,
     "metadata": {},
     "source": [
      "This is enough for performing simple hazard calculations"
     ]
    },
    {
     "cell_type": "code",
     "collapsed": false,
     "input": [
      "from openquake.hazardlib.calc.gmf import ground_motion_fields"
     ],
     "language": "python",
     "metadata": {},
     "outputs": [],
     "prompt_number": 17
    },
    {
     "cell_type": "code",
     "collapsed": false,
     "input": [
      "ground_motion_fields?"
     ],
     "language": "python",
     "metadata": {},
     "outputs": [],
     "prompt_number": 18
    },
    {
     "cell_type": "code",
     "collapsed": false,
     "input": [
      "ground_motion_fields(rupture, sitecol, imts, gsim, oqparam.truncation_level, \n",
      "                     oqparam.number_of_ground_motion_fields,\n",
      "                     correlation_model=readinput.get_correl_model(oqparam),\n",
      "                     seed=oqparam.random_seed) "
     ],
     "language": "python",
     "metadata": {},
     "outputs": [
      {
       "metadata": {},
       "output_type": "pyout",
       "prompt_number": 19,
       "text": [
        "OrderedDict([(PGA(), array([[ 0.52390294,  0.45342236,  0.4114201 ,  0.43527812,  0.6699121 ],\n",
        "       [ 0.31904892,  0.1170354 ,  0.16668904,  0.12259405,  0.19327389],\n",
        "       [ 0.0951002 ,  0.10946327,  0.1692617 ,  0.10672339,  0.16264115]]))])"
       ]
      }
     ],
     "prompt_number": 19
    },
    {
     "cell_type": "heading",
     "level": 1,
     "metadata": {},
     "source": [
      "Reading risk input files"
     ]
    },
    {
     "cell_type": "code",
     "collapsed": true,
     "input": [
      "oqp = readinput.get_oqparam('job_damage.ini')\n",
      "for name, value in oqp:\n",
      "    print name, value"
     ],
     "language": "python",
     "metadata": {},
     "outputs": [
      {
       "output_type": "stream",
       "stream": "stdout",
       "text": [
        "base_path /home/ubuntu/oq-commonlib/docs\n",
        "calculation_mode scenario_damage\n",
        "description Scenario Damage Example\n",
        "export_dir /tmp\n",
        "ground_motion_correlation_model None\n",
        "ground_motion_correlation_params {}\n",
        "gsim ChiouYoungs2008\n",
        "inputs {'rupture_model': '/home/ubuntu/oq-commonlib/docs/fault_rupture.xml', 'fragility': '/home/ubuntu/oq-commonlib/docs/fragility_model.xml', 'exposure': '/home/ubuntu/oq-commonlib/docs/exposure_model.xml'}\n",
        "intensity_measure_types_and_levels {'SA(0.5)': None, 'SA(0.2)': None, 'PGA': None}\n",
        "maximum_distance 300.0\n",
        "number_of_ground_motion_fields 5\n",
        "random_seed 3\n",
        "reference_depth_to_1pt0km_per_sec 100.0\n",
        "reference_depth_to_2pt5km_per_sec 5.0\n",
        "reference_vs30_type measured\n",
        "reference_vs30_value 760.0\n",
        "region_constraint POLYGON((78.0 31.5, 89.5 31.5, 89.5 25.5, 78.0 25.5, 78.0 31.5))\n",
        "rupture_mesh_spacing 10.0\n",
        "truncation_level 3.0\n"
       ]
      }
     ],
     "prompt_number": 20
    },
    {
     "cell_type": "code",
     "collapsed": false,
     "input": [
      "exposure = readinput.get_exposure(oqp); exposure"
     ],
     "language": "python",
     "metadata": {},
     "outputs": [
      {
       "metadata": {},
       "output_type": "pyout",
       "prompt_number": 21,
       "text": [
        "Exposure(id='ep', category='buildings', description='Exposure model for buildings', cost_types=[{'type': 'per_asset', 'name': 'structural', 'unit': 'USD'}], insurance_limit_is_absolute=None, deductible_is_absolute=None, assets=[<Asset a1>, <Asset a2>, <Asset a3>], taxonomies=set(['RM', 'W', 'RC']))"
       ]
      }
     ],
     "prompt_number": 21
    },
    {
     "cell_type": "code",
     "collapsed": false,
     "input": [
      "a1 = exposure.assets[0]"
     ],
     "language": "python",
     "metadata": {},
     "outputs": [],
     "prompt_number": 22
    },
    {
     "cell_type": "code",
     "collapsed": false,
     "input": [
      "a1.number"
     ],
     "language": "python",
     "metadata": {},
     "outputs": [
      {
       "metadata": {},
       "output_type": "pyout",
       "prompt_number": 23,
       "text": [
        "3000.0"
       ]
      }
     ],
     "prompt_number": 23
    },
    {
     "cell_type": "code",
     "collapsed": false,
     "input": [
      "a1.location"
     ],
     "language": "python",
     "metadata": {},
     "outputs": [
      {
       "metadata": {},
       "output_type": "pyout",
       "prompt_number": 24,
       "text": [
        "(81.2985, 29.1098)"
       ]
      }
     ],
     "prompt_number": 24
    },
    {
     "cell_type": "code",
     "collapsed": true,
     "input": [
      "help(readinput.get_exposure)"
     ],
     "language": "python",
     "metadata": {},
     "outputs": [
      {
       "output_type": "stream",
       "stream": "stdout",
       "text": [
        "Help on function get_exposure in module openquake.commonlib.readinput:\n",
        "\n",
        "get_exposure(oqparam)\n",
        "    Read the full exposure in memory and build a list of\n",
        "    :class:`openquake.risklib.workflows.Asset` instances.\n",
        "    If you don't want to keep everything in memory, use\n",
        "    get_exposure_lazy instead (for experts only).\n",
        "    \n",
        "    :param oqparam:\n",
        "        an :class:`openquake.commonlib.oqvalidation.OqParam` instance\n",
        "    :returns:\n",
        "        an :class:`Exposure` instance\n",
        "\n"
       ]
      }
     ],
     "prompt_number": 25
    },
    {
     "cell_type": "code",
     "collapsed": false,
     "input": [
      "sitecol, assets_by_site = readinput.get_sitecol_assets(oqp, exposure)\n",
      "sitecol, assets_by_site"
     ],
     "language": "python",
     "metadata": {},
     "outputs": [
      {
       "metadata": {},
       "output_type": "pyout",
       "prompt_number": 26,
       "text": [
        "(<SiteCollection with 3 sites>, array([[<Asset a1>],\n",
        "        [<Asset a2>],\n",
        "        [<Asset a3>]], dtype=object))"
       ]
      }
     ],
     "prompt_number": 26
    },
    {
     "cell_type": "code",
     "collapsed": false,
     "input": [
      "risk_model = readinput.get_risk_model(oqp); risk_model"
     ],
     "language": "python",
     "metadata": {},
     "outputs": [
      {
       "metadata": {},
       "output_type": "pyout",
       "prompt_number": 27,
       "text": [
        "<openquake.risklib.workflows.RiskModel at 0x3f5e5d0>"
       ]
      }
     ],
     "prompt_number": 27
    },
    {
     "cell_type": "code",
     "collapsed": false,
     "input": [
      "risk_model.keys()"
     ],
     "language": "python",
     "metadata": {},
     "outputs": [
      {
       "metadata": {},
       "output_type": "pyout",
       "prompt_number": 28,
       "text": [
        "[('PGA', 'RM'), ('SA(0.2)', 'RC'), ('SA(0.5)', 'W')]"
       ]
      }
     ],
     "prompt_number": 28
    },
    {
     "cell_type": "code",
     "collapsed": false,
     "input": [
      "workflow = risk_model['PGA', 'RM']; workflow"
     ],
     "language": "python",
     "metadata": {},
     "outputs": [
      {
       "metadata": {},
       "output_type": "pyout",
       "prompt_number": 29,
       "text": [
        "<openquake.risklib.workflows.Damage at 0x1522810>"
       ]
      }
     ],
     "prompt_number": 29
    },
    {
     "cell_type": "code",
     "collapsed": false,
     "input": [
      "workflow.risk_functions"
     ],
     "language": "python",
     "metadata": {},
     "outputs": [
      {
       "metadata": {},
       "output_type": "pyout",
       "prompt_number": 30,
       "text": [
        "{'damage': <FragilityFunctionList imls=None, imt=PGA>}"
       ]
      }
     ],
     "prompt_number": 30
    },
    {
     "cell_type": "code",
     "collapsed": false,
     "input": [
      "print open('fragility_model.xml').read()"
     ],
     "language": "python",
     "metadata": {},
     "outputs": [
      {
       "output_type": "stream",
       "stream": "stdout",
       "text": [
        "<?xml version='1.0' encoding='utf-8'?>\r\n",
        "<nrml xmlns=\"http://openquake.org/xmlns/nrml/0.4\">\r\n",
        "  <fragilityModel format=\"continuous\">\r\n",
        "    <description>Fragility model for buildings</description>\r\n",
        "    <limitStates>\r\n",
        "      LS1\r\n",
        "      LS2\r\n",
        "    </limitStates>\r\n",
        "    <ffs type=\"lognormal\">\r\n",
        "      <taxonomy>RM</taxonomy>\r\n",
        "      <IML IMT=\"PGA\" imlUnit=\"g\" minIML=\"0.02\" maxIML=\"1.5\"/>\r\n",
        "      <ffc ls=\"LS1\">\r\n",
        "\t<params mean=\"0.15\" stddev=\"0.10\" />\r\n",
        "      </ffc>\r\n",
        "      <ffc ls=\"LS2\">\r\n",
        "\t<params mean=\"0.30\" stddev=\"0.16\" />\r\n",
        "      </ffc>\r\n",
        "    </ffs>\r\n",
        "    <ffs type=\"lognormal\">\r\n",
        "      <taxonomy>RC</taxonomy>\r\n",
        "      <IML IMT=\"SA(0.2)\" imlUnit=\"g\" minIML=\"0.02\" maxIML=\"1.5\"/>\r\n",
        "      <ffc ls=\"LS1\">\r\n",
        "\t<params mean=\"0.25\" stddev=\"0.08\" />\r\n",
        "      </ffc>\r\n",
        "      <ffc ls=\"LS2\">\r\n",
        "\t<params mean=\"0.55\" stddev=\"0.16\" />\r\n",
        "      </ffc>\r\n",
        "    </ffs>\r\n",
        "    <ffs type=\"lognormal\">\r\n",
        "      <taxonomy>W</taxonomy>\r\n",
        "      <IML IMT=\"SA(0.5)\" imlUnit=\"g\" minIML=\"0.02\" maxIML=\"1.5\"/>\r\n",
        "      <ffc ls=\"LS1\">\r\n",
        "\t<params mean=\"0.35\" stddev=\"0.12\" />\r\n",
        "      </ffc>\r\n",
        "      <ffc ls=\"LS2\">\r\n",
        "\t<params mean=\"0.70\" stddev=\"0.20\" />\r\n",
        "      </ffc>\r\n",
        "    </ffs>\r\n",
        "  </fragilityModel>\r\n",
        "</nrml>\r\n",
        "\n"
       ]
      }
     ],
     "prompt_number": 31
    },
    {
     "cell_type": "code",
     "collapsed": false,
     "input": [
      "workflow.risk_functions['damage'][0], workflow.risk_functions['damage'][1]"
     ],
     "language": "python",
     "metadata": {},
     "outputs": [
      {
       "metadata": {},
       "output_type": "pyout",
       "prompt_number": 32,
       "text": [
        "(<FragilityFunctionContinuous(LS1, 0.15, 0.1)>,\n",
        " <FragilityFunctionContinuous(LS2, 0.3, 0.16)>)"
       ]
      }
     ],
     "prompt_number": 32
    },
    {
     "cell_type": "code",
     "collapsed": false,
     "input": [
      "risk_model.damage_states"
     ],
     "language": "python",
     "metadata": {},
     "outputs": [
      {
       "metadata": {},
       "output_type": "pyout",
       "prompt_number": 33,
       "text": [
        "['no_damage', 'LS1', 'LS2']"
       ]
      }
     ],
     "prompt_number": 33
    },
    {
     "cell_type": "code",
     "collapsed": false,
     "input": [
      "?workflow"
     ],
     "language": "python",
     "metadata": {},
     "outputs": [],
     "prompt_number": 34
    },
    {
     "cell_type": "code",
     "collapsed": true,
     "input": [
      "oqr = readinput.get_oqparam('job_risk.ini')\n",
      "rm = readinput.get_risk_model(oqr)\n",
      "rm.keys()"
     ],
     "language": "python",
     "metadata": {},
     "outputs": [
      {
       "metadata": {},
       "output_type": "pyout",
       "prompt_number": 35,
       "text": [
        "[('PGA', 'RM'), ('SA(0.2)', 'RC'), ('SA(0.5)', 'W')]"
       ]
      }
     ],
     "prompt_number": 35
    },
    {
     "cell_type": "code",
     "collapsed": false,
     "input": [
      "rm['SA(0.2)', 'RC'].risk_functions"
     ],
     "language": "python",
     "metadata": {},
     "outputs": [
      {
       "metadata": {},
       "output_type": "pyout",
       "prompt_number": 36,
       "text": [
        "{'structural': <VulnerabilityFunction(SA(0.2))>}"
       ]
      }
     ],
     "prompt_number": 36
    },
    {
     "cell_type": "heading",
     "level": 1,
     "metadata": {},
     "source": [
      "Reading sources"
     ]
    },
    {
     "cell_type": "code",
     "collapsed": false,
     "input": [
      "from openquake.commonlib import readinput\n",
      "usparam = readinput.get_oqparam('job_usa.ini')"
     ],
     "language": "python",
     "metadata": {},
     "outputs": [],
     "prompt_number": 48
    },
    {
     "cell_type": "code",
     "collapsed": false,
     "input": [
      "source_models = list(readinput.get_source_models(usparam))  # slow\n",
      "source_models"
     ],
     "language": "python",
     "metadata": {},
     "outputs": [
      {
       "metadata": {},
       "output_type": "pyout",
       "prompt_number": 49,
       "text": [
        "[SourceModel(name='NSHMP2008US_micro.xml', weight=Decimal('1.00'), path=('b1',), trt_models=[<TrtModel Active Shallow Crust, 1008 source(s)>], ordinal=0)]"
       ]
      }
     ],
     "prompt_number": 49
    },
    {
     "cell_type": "code",
     "collapsed": false,
     "input": [
      "trt_model = source_models[0].trt_models[0]\n",
      "trt_model.min_mag, trt_model.max_mag, trt_model.num_ruptures"
     ],
     "language": "python",
     "metadata": {},
     "outputs": [
      {
       "metadata": {},
       "output_type": "pyout",
       "prompt_number": 50,
       "text": [
        "(5.369, 8.42, 0)"
       ]
      }
     ],
     "prompt_number": 50
    },
    {
     "cell_type": "code",
     "collapsed": false,
     "input": [
      "trt_model.sources[:3], trt_model.sources[-3:]"
     ],
     "language": "python",
     "metadata": {},
     "outputs": [
      {
       "metadata": {},
       "output_type": "pyout",
       "prompt_number": 51,
       "text": [
        "([<CharacteristicFaultSource 1>,\n",
        "  <CharacteristicFaultSource 2>,\n",
        "  <CharacteristicFaultSource 3>],\n",
        " [<CharacteristicFaultSource 1006>,\n",
        "  <CharacteristicFaultSource 1007>,\n",
        "  <CharacteristicFaultSource 1008>])"
       ]
      }
     ],
     "prompt_number": 51
    },
    {
     "cell_type": "code",
     "collapsed": false,
     "input": [
      "list(trt_model.sources[0].iter_ruptures())"
     ],
     "language": "python",
     "metadata": {},
     "outputs": [
      {
       "metadata": {},
       "output_type": "pyout",
       "prompt_number": 52,
       "text": [
        "[<openquake.hazardlib.source.rupture.ParametricProbabilisticRupture at 0x4000bb0>,\n",
        " <openquake.hazardlib.source.rupture.ParametricProbabilisticRupture at 0x404e520>,\n",
        " <openquake.hazardlib.source.rupture.ParametricProbabilisticRupture at 0x3ee3fa0>,\n",
        " <openquake.hazardlib.source.rupture.ParametricProbabilisticRupture at 0x4047de0>,\n",
        " <openquake.hazardlib.source.rupture.ParametricProbabilisticRupture at 0x46833d0>,\n",
        " <openquake.hazardlib.source.rupture.ParametricProbabilisticRupture at 0x4683440>,\n",
        " <openquake.hazardlib.source.rupture.ParametricProbabilisticRupture at 0x46834b0>,\n",
        " <openquake.hazardlib.source.rupture.ParametricProbabilisticRupture at 0x4683520>,\n",
        " <openquake.hazardlib.source.rupture.ParametricProbabilisticRupture at 0x4683590>,\n",
        " <openquake.hazardlib.source.rupture.ParametricProbabilisticRupture at 0x4683600>,\n",
        " <openquake.hazardlib.source.rupture.ParametricProbabilisticRupture at 0x4683670>,\n",
        " <openquake.hazardlib.source.rupture.ParametricProbabilisticRupture at 0x46836e0>,\n",
        " <openquake.hazardlib.source.rupture.ParametricProbabilisticRupture at 0x4683750>,\n",
        " <openquake.hazardlib.source.rupture.ParametricProbabilisticRupture at 0x46837c0>,\n",
        " <openquake.hazardlib.source.rupture.ParametricProbabilisticRupture at 0x4683830>]"
       ]
      }
     ],
     "prompt_number": 52
    },
    {
     "cell_type": "code",
     "collapsed": false,
     "input": [
      "src = trt_model.sources[0]\n",
      "src.mfd"
     ],
     "language": "python",
     "metadata": {},
     "outputs": [
      {
       "metadata": {},
       "output_type": "pyout",
       "prompt_number": 53,
       "text": [
        "<openquake.hazardlib.mfd.evenly_discretized.EvenlyDiscretizedMFD at 0x448aaa0>"
       ]
      }
     ],
     "prompt_number": 53
    },
    {
     "cell_type": "heading",
     "level": 1,
     "metadata": {},
     "source": [
      "Reading CSV files"
     ]
    },
    {
     "cell_type": "code",
     "collapsed": false,
     "input": [
      "o = readinput.get_oqparam('job_gmvs_from_csv.ini')\n",
      "readinput.get_sitecol_gmfs(o)"
     ],
     "language": "python",
     "metadata": {},
     "outputs": [
      {
       "metadata": {},
       "output_type": "pyout",
       "prompt_number": 54,
       "text": [
        "(<SiteCollection with 3 sites>,\n",
        " {'PGA': array([[ 0.489966,  0.455252,  0.393138],\n",
        "         [ 0.207681,  0.240424,  0.300524],\n",
        "         [ 0.099697,  0.087133,  0.092085]]),\n",
        "  'PGV': array([[ 41.4227 ,  26.7931 ,  33.1676 ],\n",
        "         [ 17.4768 ,   9.054  ,  13.2879 ],\n",
        "         [  8.19412,   8.41794,   6.5504 ]])})"
       ]
      }
     ],
     "prompt_number": 54
    },
    {
     "cell_type": "code",
     "collapsed": false,
     "input": [
      "o = readinput.get_oqparam('job_hc_from_csv.ini')\n",
      "readinput.get_sitecol_hcurves(o)"
     ],
     "language": "python",
     "metadata": {},
     "outputs": [
      {
       "ename": "ValueError",
       "evalue": "The probabilities 0.14227 0.1068149 0.16322619 are not in decreasing order: file <open file '/home/ubuntu/oq-commonlib/docs/hazard_curves_damage.csv', mode 'r' at 0x3ee0c00>, line 1",
       "output_type": "pyerr",
       "traceback": [
        "\u001b[1;31m---------------------------------------------------------------------------\u001b[0m\n\u001b[1;31mValueError\u001b[0m                                Traceback (most recent call last)",
        "\u001b[1;32m<ipython-input-55-0376d797fe92>\u001b[0m in \u001b[0;36m<module>\u001b[1;34m()\u001b[0m\n\u001b[0;32m      1\u001b[0m \u001b[0mo\u001b[0m \u001b[1;33m=\u001b[0m \u001b[0mreadinput\u001b[0m\u001b[1;33m.\u001b[0m\u001b[0mget_oqparam\u001b[0m\u001b[1;33m(\u001b[0m\u001b[1;34m'job_hc_from_csv.ini'\u001b[0m\u001b[1;33m)\u001b[0m\u001b[1;33m\u001b[0m\u001b[0m\n\u001b[1;32m----> 2\u001b[1;33m \u001b[0mreadinput\u001b[0m\u001b[1;33m.\u001b[0m\u001b[0mget_sitecol_hcurves\u001b[0m\u001b[1;33m(\u001b[0m\u001b[0mo\u001b[0m\u001b[1;33m)\u001b[0m\u001b[1;33m\u001b[0m\u001b[0m\n\u001b[0m",
        "\u001b[1;32m/home/ubuntu/oq-commonlib/openquake/commonlib/readinput.pyc\u001b[0m in \u001b[0;36mget_sitecol_hcurves\u001b[1;34m(oqparam)\u001b[0m\n\u001b[0;32m    626\u001b[0m     \u001b[1;32mwith\u001b[0m \u001b[0mopen\u001b[0m\u001b[1;33m(\u001b[0m\u001b[0moqparam\u001b[0m\u001b[1;33m.\u001b[0m\u001b[0minputs\u001b[0m\u001b[1;33m[\u001b[0m\u001b[1;34m'hazard_curves'\u001b[0m\u001b[1;33m]\u001b[0m\u001b[1;33m)\u001b[0m \u001b[1;32mas\u001b[0m \u001b[0mcsvfile\u001b[0m\u001b[1;33m:\u001b[0m\u001b[1;33m\u001b[0m\u001b[0m\n\u001b[0;32m    627\u001b[0m         mesh, hcurves_by_imt = get_mesh_csvdata(\n\u001b[1;32m--> 628\u001b[1;33m             csvfile, imts, num_values, valid.decreasing_probabilities)\n\u001b[0m\u001b[0;32m    629\u001b[0m     \u001b[0msitecol\u001b[0m \u001b[1;33m=\u001b[0m \u001b[0mget_site_collection\u001b[0m\u001b[1;33m(\u001b[0m\u001b[0moqparam\u001b[0m\u001b[1;33m,\u001b[0m \u001b[0mmesh\u001b[0m\u001b[1;33m)\u001b[0m\u001b[1;33m\u001b[0m\u001b[0m\n\u001b[0;32m    630\u001b[0m     \u001b[1;32mreturn\u001b[0m \u001b[0msitecol\u001b[0m\u001b[1;33m,\u001b[0m \u001b[0mhcurves_by_imt\u001b[0m\u001b[1;33m\u001b[0m\u001b[0m\n",
        "\u001b[1;32m/home/ubuntu/oq-commonlib/openquake/commonlib/readinput.pyc\u001b[0m in \u001b[0;36mget_mesh_csvdata\u001b[1;34m(csvfile, imts, num_values, validvalues)\u001b[0m\n\u001b[0;32m    602\u001b[0m                                  (len(values), number_of_values[imt]))\n\u001b[0;32m    603\u001b[0m         \u001b[1;32mexcept\u001b[0m \u001b[1;33m(\u001b[0m\u001b[0mValueError\u001b[0m\u001b[1;33m,\u001b[0m \u001b[0mDuplicatedPoint\u001b[0m\u001b[1;33m)\u001b[0m \u001b[1;32mas\u001b[0m \u001b[0merr\u001b[0m\u001b[1;33m:\u001b[0m\u001b[1;33m\u001b[0m\u001b[0m\n\u001b[1;32m--> 604\u001b[1;33m             \u001b[1;32mraise\u001b[0m \u001b[0merr\u001b[0m\u001b[1;33m.\u001b[0m\u001b[0m__class__\u001b[0m\u001b[1;33m(\u001b[0m\u001b[1;34m'%s: file %s, line %d'\u001b[0m \u001b[1;33m%\u001b[0m \u001b[1;33m(\u001b[0m\u001b[0merr\u001b[0m\u001b[1;33m,\u001b[0m \u001b[0mcsvfile\u001b[0m\u001b[1;33m,\u001b[0m \u001b[0mline\u001b[0m\u001b[1;33m)\u001b[0m\u001b[1;33m)\u001b[0m\u001b[1;33m\u001b[0m\u001b[0m\n\u001b[0m\u001b[0;32m    605\u001b[0m         \u001b[0mdata\u001b[0m \u001b[1;33m+=\u001b[0m \u001b[1;33m{\u001b[0m\u001b[0mimt\u001b[0m\u001b[1;33m:\u001b[0m \u001b[1;33m[\u001b[0m\u001b[0mnumpy\u001b[0m\u001b[1;33m.\u001b[0m\u001b[0marray\u001b[0m\u001b[1;33m(\u001b[0m\u001b[0mvalues\u001b[0m\u001b[1;33m)\u001b[0m\u001b[1;33m]\u001b[0m\u001b[1;33m}\u001b[0m\u001b[1;33m\u001b[0m\u001b[0m\n\u001b[0;32m    606\u001b[0m     \u001b[0mpoints\u001b[0m \u001b[1;33m=\u001b[0m \u001b[0mlon_lats\u001b[0m\u001b[1;33m.\u001b[0m\u001b[0mpop\u001b[0m\u001b[1;33m(\u001b[0m\u001b[0mimts\u001b[0m\u001b[1;33m[\u001b[0m\u001b[1;36m0\u001b[0m\u001b[1;33m]\u001b[0m\u001b[1;33m)\u001b[0m\u001b[1;33m\u001b[0m\u001b[0m\n",
        "\u001b[1;31mValueError\u001b[0m: The probabilities 0.14227 0.1068149 0.16322619 are not in decreasing order: file <open file '/home/ubuntu/oq-commonlib/docs/hazard_curves_damage.csv', mode 'r' at 0x3ee0c00>, line 1"
       ]
      }
     ],
     "prompt_number": 55
    },
    {
     "cell_type": "heading",
     "level": 1,
     "metadata": {},
     "source": [
      "Writing a HelloWorld calculator"
     ]
    },
    {
     "cell_type": "code",
     "collapsed": false,
     "input": [
      "from openquake.commonlib.calculators import calculators"
     ],
     "language": "python",
     "metadata": {},
     "outputs": [],
     "prompt_number": 56
    },
    {
     "cell_type": "code",
     "collapsed": false,
     "input": [
      "HelloCalculator = calculators['hello']; HelloCalculator"
     ],
     "language": "python",
     "metadata": {},
     "outputs": [
      {
       "metadata": {},
       "output_type": "pyout",
       "prompt_number": 62,
       "text": [
        "my_calculators.hello.HelloCalculator"
       ]
      }
     ],
     "prompt_number": 62
    },
    {
     "cell_type": "code",
     "collapsed": false,
     "input": [
      "print open('hello.ini').read()\n",
      "oqp = readinput.get_oqparam('hello.ini')"
     ],
     "language": "python",
     "metadata": {},
     "outputs": [
      {
       "output_type": "stream",
       "stream": "stdout",
       "text": [
        "[general]\n",
        "calculation_mode = hello\n",
        "maximum_distance = 200\n",
        "intensity_measure_types = PGA\n",
        "export_dir = /tmp\n",
        "\n"
       ]
      }
     ],
     "prompt_number": 63
    },
    {
     "cell_type": "code",
     "collapsed": false,
     "input": [
      "from openquake.commonlib.parallel import PerformanceMonitor\n",
      "calc = HelloCalculator(oqp, PerformanceMonitor('hello'))"
     ],
     "language": "python",
     "metadata": {},
     "outputs": [],
     "prompt_number": 64
    },
    {
     "cell_type": "code",
     "collapsed": false,
     "input": [
      "calc.run()"
     ],
     "language": "python",
     "metadata": {},
     "outputs": [
      {
       "metadata": {},
       "output_type": "pyout",
       "prompt_number": 65,
       "text": [
        "{'hello': '/tmp/hello.txt'}"
       ]
      }
     ],
     "prompt_number": 65
    },
    {
     "cell_type": "markdown",
     "metadata": {},
     "source": [
      "In the export_dir there will be a file `performance.csv` with some interesting information about time spent and memory allocated"
     ]
    },
    {
     "cell_type": "heading",
     "level": 2,
     "metadata": {},
     "source": [
      "Testing the calculator"
     ]
    },
    {
     "cell_type": "code",
     "collapsed": false,
     "input": [
      "from hello_test import HelloTestCase\n",
      "HelloTestCase??"
     ],
     "language": "python",
     "metadata": {},
     "outputs": [],
     "prompt_number": 66
    },
    {
     "cell_type": "markdown",
     "metadata": {},
     "source": [
      "==================================================================================================================================="
     ]
    },
    {
     "cell_type": "heading",
     "level": 1,
     "metadata": {},
     "source": [
      "    Parallel execution with apply_reduce"
     ]
    },
    {
     "cell_type": "markdown",
     "metadata": {},
     "source": [
      "Example: building a frequency hystogram"
     ]
    },
    {
     "cell_type": "code",
     "collapsed": false,
     "input": [
      "from collections import Counter"
     ],
     "language": "python",
     "metadata": {},
     "outputs": [],
     "prompt_number": 67
    },
    {
     "cell_type": "code",
     "collapsed": false,
     "input": [
      "Counter('pippolippo')"
     ],
     "language": "python",
     "metadata": {},
     "outputs": [
      {
       "metadata": {},
       "output_type": "pyout",
       "prompt_number": 68,
       "text": [
        "Counter({'p': 5, 'i': 2, 'o': 2, 'l': 1})"
       ]
      }
     ],
     "prompt_number": 68
    },
    {
     "cell_type": "code",
     "collapsed": false,
     "input": [
      "def frequencyhisto(fnames):\n",
      "    \"Compute the character frequency hystogram of a set of files\"\n",
      "    c = Counter()\n",
      "    for fname in fnames:\n",
      "        c += Counter(open(fname).read().upper())\n",
      "    return c"
     ],
     "language": "python",
     "metadata": {},
     "outputs": [],
     "prompt_number": 69
    },
    {
     "cell_type": "code",
     "collapsed": false,
     "input": [
      "from openquake.commonlib import nrml_examples"
     ],
     "language": "python",
     "metadata": {},
     "outputs": [],
     "prompt_number": 70
    },
    {
     "cell_type": "code",
     "collapsed": false,
     "input": [
      "DIR = nrml_examples.__path__[0]"
     ],
     "language": "python",
     "metadata": {},
     "outputs": [],
     "prompt_number": 71
    },
    {
     "cell_type": "code",
     "collapsed": false,
     "input": [
      "DIR"
     ],
     "language": "python",
     "metadata": {},
     "outputs": [
      {
       "metadata": {},
       "output_type": "pyout",
       "prompt_number": 72,
       "text": [
        "'/home/ubuntu/oq-commonlib/openquake/commonlib/nrml_examples'"
       ]
      }
     ],
     "prompt_number": 72
    },
    {
     "cell_type": "code",
     "collapsed": false,
     "input": [
      "import os; xmlfiles = [os.path.join(DIR, f) for f in os.listdir(DIR) if f.endswith('.xml')]; xmlfiles"
     ],
     "language": "python",
     "metadata": {},
     "outputs": [
      {
       "metadata": {},
       "output_type": "pyout",
       "prompt_number": 73,
       "text": [
        "['/home/ubuntu/oq-commonlib/openquake/commonlib/nrml_examples/logic-tree-gmpe.xml',\n",
        " '/home/ubuntu/oq-commonlib/openquake/commonlib/nrml_examples/logic-tree-source-model.xml',\n",
        " '/home/ubuntu/oq-commonlib/openquake/commonlib/nrml_examples/complex-fault-rupture.xml',\n",
        " '/home/ubuntu/oq-commonlib/openquake/commonlib/nrml_examples/loss-fractions-taxonomies.xml',\n",
        " '/home/ubuntu/oq-commonlib/openquake/commonlib/nrml_examples/hazard-curves-mean.xml',\n",
        " '/home/ubuntu/oq-commonlib/openquake/commonlib/nrml_examples/uhs-quantile.xml',\n",
        " '/home/ubuntu/oq-commonlib/openquake/commonlib/nrml_examples/collapse-map.xml',\n",
        " '/home/ubuntu/oq-commonlib/openquake/commonlib/nrml_examples/ses.xml',\n",
        " '/home/ubuntu/oq-commonlib/openquake/commonlib/nrml_examples/site_model.xml',\n",
        " '/home/ubuntu/oq-commonlib/openquake/commonlib/nrml_examples/dmg-dist-total.xml',\n",
        " '/home/ubuntu/oq-commonlib/openquake/commonlib/nrml_examples/hazard-curves-multi.xml',\n",
        " '/home/ubuntu/oq-commonlib/openquake/commonlib/nrml_examples/exposure-population.xml',\n",
        " '/home/ubuntu/oq-commonlib/openquake/commonlib/nrml_examples/vulnerability-model-discrete.xml',\n",
        " '/home/ubuntu/oq-commonlib/openquake/commonlib/nrml_examples/hazard-map-mean.xml',\n",
        " '/home/ubuntu/oq-commonlib/openquake/commonlib/nrml_examples/hazard-curves-sa.xml',\n",
        " '/home/ubuntu/oq-commonlib/openquake/commonlib/nrml_examples/bcr-map.xml',\n",
        " '/home/ubuntu/oq-commonlib/openquake/commonlib/nrml_examples/loss-map-quantile.xml',\n",
        " '/home/ubuntu/oq-commonlib/openquake/commonlib/nrml_examples/hazard-curves-pga.xml',\n",
        " '/home/ubuntu/oq-commonlib/openquake/commonlib/nrml_examples/gmf-event-based.xml',\n",
        " '/home/ubuntu/oq-commonlib/openquake/commonlib/nrml_examples/fragm_c.xml',\n",
        " '/home/ubuntu/oq-commonlib/openquake/commonlib/nrml_examples/disaggregation.xml',\n",
        " '/home/ubuntu/oq-commonlib/openquake/commonlib/nrml_examples/bcr-map-quantile.xml',\n",
        " '/home/ubuntu/oq-commonlib/openquake/commonlib/nrml_examples/loss-map-scenario-risk.xml',\n",
        " '/home/ubuntu/oq-commonlib/openquake/commonlib/nrml_examples/loss-curves-quantile.xml',\n",
        " '/home/ubuntu/oq-commonlib/openquake/commonlib/nrml_examples/exposure-portfolio.xml',\n",
        " '/home/ubuntu/oq-commonlib/openquake/commonlib/nrml_examples/agg-loss-curve.xml',\n",
        " '/home/ubuntu/oq-commonlib/openquake/commonlib/nrml_examples/uhs-mean.xml',\n",
        " '/home/ubuntu/oq-commonlib/openquake/commonlib/nrml_examples/uhs.xml',\n",
        " '/home/ubuntu/oq-commonlib/openquake/commonlib/nrml_examples/fragm_d.xml',\n",
        " '/home/ubuntu/oq-commonlib/openquake/commonlib/nrml_examples/loss-map.xml',\n",
        " '/home/ubuntu/oq-commonlib/openquake/commonlib/nrml_examples/dmg-dist-per-taxonomy.xml',\n",
        " '/home/ubuntu/oq-commonlib/openquake/commonlib/nrml_examples/loss-curves.xml',\n",
        " '/home/ubuntu/oq-commonlib/openquake/commonlib/nrml_examples/dmg-dist-per-asset.xml',\n",
        " '/home/ubuntu/oq-commonlib/openquake/commonlib/nrml_examples/hazard-curves-quantile.xml',\n",
        " '/home/ubuntu/oq-commonlib/openquake/commonlib/nrml_examples/hazard-map-quantile.xml',\n",
        " '/home/ubuntu/oq-commonlib/openquake/commonlib/nrml_examples/simple-fault-rupture.xml',\n",
        " '/home/ubuntu/oq-commonlib/openquake/commonlib/nrml_examples/hazard-map.xml']"
       ]
      }
     ],
     "prompt_number": 73
    },
    {
     "cell_type": "code",
     "collapsed": false,
     "input": [
      "len(xmlfiles)"
     ],
     "language": "python",
     "metadata": {},
     "outputs": [
      {
       "metadata": {},
       "output_type": "pyout",
       "prompt_number": 74,
       "text": [
        "37"
       ]
      }
     ],
     "prompt_number": 74
    },
    {
     "cell_type": "code",
     "collapsed": false,
     "input": [
      "apply(frequencyhisto, (xmlfiles,))"
     ],
     "language": "python",
     "metadata": {},
     "outputs": [
      {
       "metadata": {},
       "output_type": "pyout",
       "prompt_number": 75,
       "text": [
        "Counter({' ': 11692, 'E': 2142, 'T': 1773, '\"': 1726, 'S': 1539, 'N': 1394, 'L': 1363, 'O': 1358, '0': 1336, 'A': 1331, 'I': 1284, 'R': 1153, '\\n': 1125, 'M': 1088, '<': 1038, '>': 1038, '.': 1022, '=': 940, '/': 854, 'D': 755, 'G': 755, 'P': 749, 'C': 695, 'U': 557, '1': 553, '2': 378, 'H': 357, '-': 353, 'V': 329, 'F': 308, ':': 274, 'B': 267, '3': 260, '5': 235, '4': 222, 'X': 215, 'Y': 211, '9': 165, '8': 165, '6': 156, '7': 152, 'W': 149, '_': 94, \"'\": 92, '?': 72, 'Z': 70, ',': 53, 'Q': 53, 'K': 52, '!': 40, '|': 30, '+': 28, '`': 16, ')': 6, '(': 6})"
       ]
      }
     ],
     "prompt_number": 75
    },
    {
     "cell_type": "code",
     "collapsed": false,
     "input": [
      "from openquake.commonlib.parallel import apply_reduce\n",
      "import operator"
     ],
     "language": "python",
     "metadata": {},
     "outputs": [],
     "prompt_number": 76
    },
    {
     "cell_type": "code",
     "collapsed": false,
     "input": [
      "apply_reduce(frequencyhisto, (xmlfiles,), agg=operator.add, acc=Counter(), concurrent_tasks=4)"
     ],
     "language": "python",
     "metadata": {},
     "outputs": [
      {
       "metadata": {},
       "output_type": "pyout",
       "prompt_number": 77,
       "text": [
        "Counter({' ': 11692, 'E': 2142, 'T': 1773, '\"': 1726, 'S': 1539, 'N': 1394, 'L': 1363, 'O': 1358, '0': 1336, 'A': 1331, 'I': 1284, 'R': 1153, '\\n': 1125, 'M': 1088, '<': 1038, '>': 1038, '.': 1022, '=': 940, '/': 854, 'D': 755, 'G': 755, 'P': 749, 'C': 695, 'U': 557, '1': 553, '2': 378, 'H': 357, '-': 353, 'V': 329, 'F': 308, ':': 274, 'B': 267, '3': 260, '5': 235, '4': 222, 'X': 215, 'Y': 211, '9': 165, '8': 165, '6': 156, '7': 152, 'W': 149, '_': 94, \"'\": 92, '?': 72, 'Z': 70, ',': 53, 'Q': 53, 'K': 52, '!': 40, '|': 30, '+': 28, '`': 16, ')': 6, '(': 6})"
       ]
      }
     ],
     "prompt_number": 77
    },
    {
     "cell_type": "code",
     "collapsed": false,
     "input": [
      "[len(chunk) for chunk in apply_reduce._chunks]"
     ],
     "language": "python",
     "metadata": {},
     "outputs": [
      {
       "metadata": {},
       "output_type": "pyout",
       "prompt_number": 78,
       "text": [
        "[10, 10, 10, 7]"
       ]
      }
     ],
     "prompt_number": 78
    },
    {
     "cell_type": "code",
     "collapsed": false,
     "input": [
      "apply_reduce(frequencyhisto, (xmlfiles,), agg=operator.add, acc=Counter(), concurrent_tasks=4,\n",
      "             weight=os.path.getsize)"
     ],
     "language": "python",
     "metadata": {},
     "outputs": [
      {
       "metadata": {},
       "output_type": "pyout",
       "prompt_number": 79,
       "text": [
        "Counter({' ': 11692, 'E': 2142, 'T': 1773, '\"': 1726, 'S': 1539, 'N': 1394, 'L': 1363, 'O': 1358, '0': 1336, 'A': 1331, 'I': 1284, 'R': 1153, '\\n': 1125, 'M': 1088, '<': 1038, '>': 1038, '.': 1022, '=': 940, '/': 854, 'D': 755, 'G': 755, 'P': 749, 'C': 695, 'U': 557, '1': 553, '2': 378, 'H': 357, '-': 353, 'V': 329, 'F': 308, ':': 274, 'B': 267, '3': 260, '5': 235, '4': 222, 'X': 215, 'Y': 211, '9': 165, '8': 165, '6': 156, '7': 152, 'W': 149, '_': 94, \"'\": 92, '?': 72, 'Z': 70, ',': 53, 'Q': 53, 'K': 52, '!': 40, '|': 30, '+': 28, '`': 16, ')': 6, '(': 6})"
       ]
      }
     ],
     "prompt_number": 79
    },
    {
     "cell_type": "code",
     "collapsed": false,
     "input": [
      "[chunk.weight for chunk in apply_reduce._chunks]"
     ],
     "language": "python",
     "metadata": {},
     "outputs": [
      {
       "metadata": {},
       "output_type": "pyout",
       "prompt_number": 80,
       "text": [
        "[8742, 10390, 9610, 10360, 4966]"
       ]
      }
     ],
     "prompt_number": 80
    },
    {
     "cell_type": "code",
     "collapsed": false,
     "input": [
      "[len(chunk) for chunk in apply_reduce._chunks]"
     ],
     "language": "python",
     "metadata": {},
     "outputs": [
      {
       "metadata": {},
       "output_type": "pyout",
       "prompt_number": 81,
       "text": [
        "[7, 9, 8, 8, 5]"
       ]
      }
     ],
     "prompt_number": 81
    },
    {
     "cell_type": "code",
     "collapsed": false,
     "input": [
      "apply_reduce._chunks[0]"
     ],
     "language": "python",
     "metadata": {},
     "outputs": [
      {
       "metadata": {},
       "output_type": "pyout",
       "prompt_number": 82,
       "text": [
        "<WeightedSequence ['/home/ubuntu/oq-commonlib/openquake/commonlib/nrml_examples/logic-tree-gmpe.xml', '/home/ubuntu/oq-commonlib/openquake/commonlib/nrml_examples/logic-tree-source-model.xml', '/home/ubuntu/oq-commonlib/openquake/commonlib/nrml_examples/complex-fault-rupture.xml', '/home/ubuntu/oq-commonlib/openquake/commonlib/nrml_examples/loss-fractions-taxonomies.xml', '/home/ubuntu/oq-commonlib/openquake/commonlib/nrml_examples/hazard-curves-mean.xml', '/home/ubuntu/oq-commonlib/openquake/commonlib/nrml_examples/uhs-quantile.xml', '/home/ubuntu/oq-commonlib/openquake/commonlib/nrml_examples/collapse-map.xml'], weight=8742>"
       ]
      }
     ],
     "prompt_number": 82
    },
    {
     "cell_type": "code",
     "collapsed": false,
     "input": [
      "from openquake.baselib.general import split_in_blocks"
     ],
     "language": "python",
     "metadata": {},
     "outputs": [],
     "prompt_number": 83
    },
    {
     "cell_type": "code",
     "collapsed": false,
     "input": [
      "split_in_blocks??"
     ],
     "language": "python",
     "metadata": {},
     "outputs": [],
     "prompt_number": 84
    },
    {
     "cell_type": "heading",
     "level": 1,
     "metadata": {},
     "source": [
      "Accumulating dictionaries"
     ]
    },
    {
     "cell_type": "code",
     "collapsed": false,
     "input": [
      "from openquake.baselib.general import AccumDict\n",
      "AccumDict??"
     ],
     "language": "python",
     "metadata": {},
     "outputs": [],
     "prompt_number": 85
    },
    {
     "cell_type": "code",
     "collapsed": false,
     "input": [
      "acc = AccumDict()\n",
      "acc"
     ],
     "language": "python",
     "metadata": {},
     "outputs": [
      {
       "metadata": {},
       "output_type": "pyout",
       "prompt_number": 86,
       "text": [
        "{}"
       ]
      }
     ],
     "prompt_number": 86
    },
    {
     "cell_type": "code",
     "collapsed": false,
     "input": [
      "acc2 = acc + {'a': 1}"
     ],
     "language": "python",
     "metadata": {},
     "outputs": [],
     "prompt_number": 87
    },
    {
     "cell_type": "code",
     "collapsed": false,
     "input": [
      "acc3 = acc2 + {'a': 1}"
     ],
     "language": "python",
     "metadata": {},
     "outputs": [],
     "prompt_number": 88
    },
    {
     "cell_type": "code",
     "collapsed": false,
     "input": [
      "acc3"
     ],
     "language": "python",
     "metadata": {},
     "outputs": [
      {
       "metadata": {},
       "output_type": "pyout",
       "prompt_number": 89,
       "text": [
        "{'a': 2}"
       ]
      }
     ],
     "prompt_number": 89
    },
    {
     "cell_type": "code",
     "collapsed": false,
     "input": [
      "acc4 = acc3 + {'b': 0}\n",
      "acc4"
     ],
     "language": "python",
     "metadata": {},
     "outputs": [
      {
       "metadata": {},
       "output_type": "pyout",
       "prompt_number": 90,
       "text": [
        "{'a': 2, 'b': 0}"
       ]
      }
     ],
     "prompt_number": 90
    },
    {
     "cell_type": "heading",
     "level": 1,
     "metadata": {},
     "source": [
      "Sequential scenario hazard calculator"
     ]
    },
    {
     "cell_type": "code",
     "collapsed": false,
     "input": [
      "from my_calculators import scenario\n",
      "scenario??"
     ],
     "language": "python",
     "metadata": {},
     "outputs": [],
     "prompt_number": 91
    },
    {
     "cell_type": "heading",
     "level": 1,
     "metadata": {},
     "source": [
      "Parallel scenario hazard calculator"
     ]
    },
    {
     "cell_type": "code",
     "collapsed": false,
     "input": [
      "from openquake.commonlib.calculators.hazard import ScenarioCalculator"
     ],
     "language": "python",
     "metadata": {},
     "outputs": [],
     "prompt_number": 92
    },
    {
     "cell_type": "code",
     "collapsed": false,
     "input": [
      "ScenarioCalculator??"
     ],
     "language": "python",
     "metadata": {},
     "outputs": [],
     "prompt_number": 93
    },
    {
     "cell_type": "heading",
     "level": 1,
     "metadata": {},
     "source": [
      "Caveats and notes"
     ]
    },
    {
     "cell_type": "markdown",
     "metadata": {},
     "source": [
      "1. is the parallel calculator faster than the sequential one?\n",
      "2. is the export faster than the calculation?\n",
      "3. how much the results depend on the seed?\n",
      "4. is the memory occupation an issue?\n",
      "5. do we really need a scenario hazard calculator?"
     ]
    },
    {
     "cell_type": "code",
     "collapsed": false,
     "input": [
      "from openquake.commonlib.parallel import PerformanceMonitor\n",
      "PerformanceMonitor?"
     ],
     "language": "python",
     "metadata": {},
     "outputs": [],
     "prompt_number": 94
    },
    {
     "cell_type": "heading",
     "level": 1,
     "metadata": {},
     "source": [
      "Towards a Scenario Damage Calculator"
     ]
    },
    {
     "cell_type": "code",
     "collapsed": false,
     "input": [
      "from openquake.commonlib import readinput\n",
      "from openquake.commonlib.calculators.calc import calc_gmfs"
     ],
     "language": "python",
     "metadata": {},
     "outputs": [],
     "prompt_number": 95
    },
    {
     "cell_type": "code",
     "collapsed": false,
     "input": [
      "o = readinput.get_oqparam('job_damage.ini')\n",
      "exposure = readinput.get_exposure(o)\n",
      "sitecol, assets_by_site = readinput.get_sitecol_assets(o, exposure)\n",
      "risk_model = readinput.get_risk_model(o)\n",
      "gmfs_by_imt = calc_gmfs(o, sitecol)"
     ],
     "language": "python",
     "metadata": {},
     "outputs": [],
     "prompt_number": 96
    },
    {
     "cell_type": "code",
     "collapsed": false,
     "input": [
      "ri = risk_model.build_input('PGA', gmfs_by_imt['PGA'], assets_by_site)\n",
      "ri"
     ],
     "language": "python",
     "metadata": {},
     "outputs": [
      {
       "metadata": {},
       "output_type": "pyout",
       "prompt_number": 97,
       "text": [
        "<RiskInput IMT=PGA, taxonomy=RM, weight=1>"
       ]
      }
     ],
     "prompt_number": 97
    },
    {
     "cell_type": "code",
     "collapsed": false,
     "input": [
      "assets, hazards, epsilons = ri.get_all()\n",
      "print assets\n",
      "print hazards\n",
      "print epsilons"
     ],
     "language": "python",
     "metadata": {},
     "outputs": [
      {
       "output_type": "stream",
       "stream": "stdout",
       "text": [
        "{'RM': [<Asset a1>]}\n",
        "{'RM': [array([ 0.06108985,  0.02149156,  0.09326082,  0.017891  ,  0.06110326])]}\n",
        "{'RM': [None]}\n"
       ]
      }
     ],
     "prompt_number": 98
    },
    {
     "cell_type": "code",
     "collapsed": false,
     "input": [
      "from openquake.risklib.workflows import RiskInput; RiskInput"
     ],
     "language": "python",
     "metadata": {},
     "outputs": [
      {
       "metadata": {},
       "output_type": "pyout",
       "prompt_number": 100,
       "text": [
        "openquake.risklib.workflows.RiskInput"
       ]
      }
     ],
     "prompt_number": 100
    }
   ],
   "metadata": {}
  }
 ]
}