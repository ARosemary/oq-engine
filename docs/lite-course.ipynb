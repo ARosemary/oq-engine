{
 "metadata": {
  "name": "",
  "signature": "sha256:5fb2c222e25d3d745f6b428b6b6c44d19ab139da19b1e68b1cb04c97cd562ee6"
 },
 "nbformat": 3,
 "nbformat_minor": 0,
 "worksheets": [
  {
   "cells": [
    {
     "cell_type": "heading",
     "level": 1,
     "metadata": {},
     "source": [
      "Origin and goals of commonlib"
     ]
    },
    {
     "cell_type": "markdown",
     "metadata": {},
     "source": [
      "1. commonlib was written as a basis for a future lite version of the engine, with no dependency on Postgresql, Django and Celery\n",
      "2. the idea is to move in commonlib *everything* which does not depend on Postgresql, Django and Celery\n",
      "3. the engine *must* become small\n",
      "4. it must be possible to write hazard/risk calculators entirely in commonlib\n",
      "5. sooner or later the engine QA test will be moved in commonlib\n",
      "6. hazardlib, risklib, commonlib might become a single repository (oq-lite)"
     ]
    },
    {
     "cell_type": "heading",
     "level": 1,
     "metadata": {},
     "source": [
      "Use of commonlib: reading the engine input files"
     ]
    },
    {
     "cell_type": "code",
     "collapsed": false,
     "input": [
      "import os; print os.getcwd()\n",
      "print [f for f in os.listdir('.') if f.endswith(('.py', '.ini', '.xml'))]"
     ],
     "language": "python",
     "metadata": {},
     "outputs": [
      {
       "output_type": "stream",
       "stream": "stdout",
       "text": [
        "/home/ubuntu/oq-commonlib/docs\n",
        "['fault_rupture.xml', 'test.py', 'job_hc_from_csv.ini', 'classical.ini', 'job_gmvs_from_csv.ini', 'job_damage.ini', 'job.ini', 'source_model.xml', 'vulnerability_model.xml', 'job_risk.ini', 'rupture_model.xml', 'fragility_model.xml', 'expected.xml', 'classical.py', 'hello_test.py', 'hello.ini', 'exposure_model.xml', 'distribute_epsilons.py']\n"
       ]
      }
     ],
     "prompt_number": 128
    },
    {
     "cell_type": "code",
     "collapsed": false,
     "input": [
      "print open('job.ini').read()"
     ],
     "language": "python",
     "metadata": {},
     "outputs": [
      {
       "output_type": "stream",
       "stream": "stdout",
       "text": [
        "[general]\n",
        "description = Scenario QA Test, Case 1\n",
        "calculation_mode = scenario\n",
        "export_dir = /tmp\n",
        "random_seed = 3\n",
        "sites = 0.0 0.0, 0.0 0.1, 0.0 0.2\n",
        "rupture_mesh_spacing = 1.0\n",
        "reference_vs30_type = measured\n",
        "reference_vs30_value = 800.0\n",
        "reference_depth_to_2pt5km_per_sec = 2.5\n",
        "reference_depth_to_1pt0km_per_sec = 100.0\n",
        "rupture_model_file = rupture_model.xml\n",
        "intensity_measure_types = PGA\n",
        "truncation_level = 1.0\n",
        "maximum_distance = 200\n",
        "gsim = BooreAtkinson2008\n",
        "number_of_ground_motion_fields = 5\n"
       ]
      }
     ],
     "prompt_number": 129
    },
    {
     "cell_type": "code",
     "collapsed": false,
     "input": [
      "from openquake.commonlib import readinput"
     ],
     "language": "python",
     "metadata": {},
     "outputs": [],
     "prompt_number": 71
    },
    {
     "cell_type": "code",
     "collapsed": false,
     "input": [
      "oqparam = readinput.get_oqparam(open('job.ini')); oqparam"
     ],
     "language": "python",
     "metadata": {},
     "outputs": [
      {
       "metadata": {},
       "output_type": "pyout",
       "prompt_number": 133,
       "text": [
        "<OqParam base_path=/home/ubuntu/oq-commonlib/docs, calculation_mode=scenario, description=Scenario QA Test, Case 1, export_dir=/tmp, gsim=BooreAtkinson2008, inputs={'rupture_model': '/home/ubuntu/oq-commonlib/docs/rupture_model.xml'}, intensity_measure_types_and_levels={'PGA': None}, maximum_distance=200.0, number_of_ground_motion_fields=5, random_seed=3, reference_depth_to_1pt0km_per_sec=100.0, reference_depth_to_2pt5km_per_sec=2.5, reference_vs30_type=measured, reference_vs30_value=800.0, rupture_mesh_spacing=1.0, sites=[(0.0, 0.0), (0.0, 0.1), (0.0, 0.2)], truncation_level=1.0>"
       ]
      }
     ],
     "prompt_number": 133
    },
    {
     "cell_type": "code",
     "collapsed": false,
     "input": [
      "for name, value in oqparam:\n",
      "    print name, '=', repr(value)"
     ],
     "language": "python",
     "metadata": {},
     "outputs": [
      {
       "output_type": "stream",
       "stream": "stdout",
       "text": [
        "base_path = '/home/ubuntu/oq-commonlib/docs'\n",
        "calculation_mode = 'scenario'\n",
        "description = 'Scenario QA Test, Case 1'\n",
        "export_dir = '/tmp'\n",
        "gsim = 'BooreAtkinson2008'\n",
        "inputs = {'rupture_model': '/home/ubuntu/oq-commonlib/docs/rupture_model.xml'}\n",
        "intensity_measure_types_and_levels = {'PGA': None}\n",
        "maximum_distance = 200.0\n",
        "number_of_ground_motion_fields = 5\n",
        "random_seed = 3\n",
        "reference_depth_to_1pt0km_per_sec = 100.0\n",
        "reference_depth_to_2pt5km_per_sec = 2.5\n",
        "reference_vs30_type = 'measured'\n",
        "reference_vs30_value = 800.0\n",
        "rupture_mesh_spacing = 1.0\n",
        "sites = [(0.0, 0.0), (0.0, 0.1), (0.0, 0.2)]\n",
        "truncation_level = 1.0\n"
       ]
      }
     ],
     "prompt_number": 131
    },
    {
     "cell_type": "code",
     "collapsed": true,
     "input": [
      "for coords in oqparam.sites: print coords"
     ],
     "language": "python",
     "metadata": {},
     "outputs": [
      {
       "output_type": "stream",
       "stream": "stdout",
       "text": [
        "(0.0, 0.0)\n",
        "(0.0, 0.1)\n",
        "(0.0, 0.2)\n"
       ]
      }
     ],
     "prompt_number": 137
    },
    {
     "cell_type": "code",
     "collapsed": false,
     "input": [
      "mesh = readinput.get_mesh(oqparam)\n",
      "for site in mesh: print site"
     ],
     "language": "python",
     "metadata": {},
     "outputs": [
      {
       "output_type": "stream",
       "stream": "stdout",
       "text": [
        "<Latitude=0.000000, Longitude=0.000000, Depth=0.0000>\n",
        "<Latitude=0.100000, Longitude=0.000000, Depth=0.0000>\n",
        "<Latitude=0.200000, Longitude=0.000000, Depth=0.0000>\n"
       ]
      },
      {
       "metadata": {},
       "output_type": "pyout",
       "prompt_number": 139,
       "text": [
        "<openquake.hazardlib.geo.mesh.Mesh at 0x362fb90>"
       ]
      }
     ],
     "prompt_number": 139
    },
    {
     "cell_type": "code",
     "collapsed": false,
     "input": [
      "gsim = readinput.get_gsim(oqparam); gsim"
     ],
     "language": "python",
     "metadata": {},
     "outputs": [
      {
       "metadata": {},
       "output_type": "pyout",
       "prompt_number": 76,
       "text": [
        "<openquake.hazardlib.gsim.boore_atkinson_2008.BooreAtkinson2008 at 0x362f110>"
       ]
      }
     ],
     "prompt_number": 76
    },
    {
     "cell_type": "code",
     "collapsed": false,
     "input": [
      "print open('rupture_model.xml').read()"
     ],
     "language": "python",
     "metadata": {},
     "outputs": [
      {
       "output_type": "stream",
       "stream": "stdout",
       "text": [
        "<?xml version='1.0' encoding='utf-8'?>\n",
        "<nrml xmlns:gml=\"http://www.opengis.net/gml\"\n",
        "      xmlns=\"http://openquake.org/xmlns/nrml/0.4\">\n",
        "\n",
        "    <simpleFaultRupture>\n",
        "        <magnitude>6.5</magnitude>\n",
        "        <rake>0</rake>\n",
        "        <hypocenter lat=\"0.0\" lon=\"0.0\" depth=\"6.0\"/>\n",
        "        <simpleFaultGeometry>\n",
        "                <gml:LineString>\n",
        "                    <gml:posList>\n",
        "                        -0.104328 -0.104328\n",
        "                         0.104328  0.104328\n",
        "                    </gml:posList>\n",
        "                </gml:LineString>\n",
        "            <dip>90.0</dip>\n",
        "            <upperSeismoDepth>2.0</upperSeismoDepth>\n",
        "            <lowerSeismoDepth>10.0</lowerSeismoDepth>\n",
        "        </simpleFaultGeometry>\n",
        "    </simpleFaultRupture>\n",
        "</nrml>\n",
        "\n"
       ]
      }
     ],
     "prompt_number": 77
    },
    {
     "cell_type": "code",
     "collapsed": false,
     "input": [
      "rupture = readinput.get_rupture(oqparam); rupture"
     ],
     "language": "python",
     "metadata": {},
     "outputs": [
      {
       "metadata": {},
       "output_type": "pyout",
       "prompt_number": 78,
       "text": [
        "<openquake.hazardlib.source.rupture.Rupture at 0x35f8ef0>"
       ]
      }
     ],
     "prompt_number": 78
    },
    {
     "cell_type": "code",
     "collapsed": false,
     "input": [
      "rupture.mag, rupture.rake, rupture.surface"
     ],
     "language": "python",
     "metadata": {},
     "outputs": [
      {
       "metadata": {},
       "output_type": "pyout",
       "prompt_number": 140,
       "text": [
        "(6.5,\n",
        " 0.0,\n",
        " <openquake.hazardlib.geo.surface.simple_fault.SimpleFaultSurface at 0x362f650>)"
       ]
      }
     ],
     "prompt_number": 140
    },
    {
     "cell_type": "code",
     "collapsed": false,
     "input": [
      "imts = readinput.get_imts(oqparam); imts"
     ],
     "language": "python",
     "metadata": {},
     "outputs": [
      {
       "metadata": {},
       "output_type": "pyout",
       "prompt_number": 141,
       "text": [
        "[PGA()]"
       ]
      }
     ],
     "prompt_number": 141
    },
    {
     "cell_type": "code",
     "collapsed": false,
     "input": [
      "type(imts[0])"
     ],
     "language": "python",
     "metadata": {},
     "outputs": [
      {
       "metadata": {},
       "output_type": "pyout",
       "prompt_number": 142,
       "text": [
        "openquake.hazardlib.imt.PGA"
       ]
      }
     ],
     "prompt_number": 142
    },
    {
     "cell_type": "code",
     "collapsed": false,
     "input": [
      "sitecol = readinput.get_site_collection(oqparam); sitecol"
     ],
     "language": "python",
     "metadata": {},
     "outputs": [
      {
       "metadata": {},
       "output_type": "pyout",
       "prompt_number": 143,
       "text": [
        "<SiteCollection with 3 sites>"
       ]
      }
     ],
     "prompt_number": 143
    },
    {
     "cell_type": "code",
     "collapsed": false,
     "input": [
      "list(sitecol)"
     ],
     "language": "python",
     "metadata": {},
     "outputs": [
      {
       "metadata": {},
       "output_type": "pyout",
       "prompt_number": 144,
       "text": [
        "[<Location=<Latitude=0.000000, Longitude=0.000000, Depth=0.0000>, Vs30=800.0000, Vs30Measured=True, Depth1.0km=100.0000, Depth2.5km=2.5000>,\n",
        " <Location=<Latitude=0.100000, Longitude=0.000000, Depth=0.0000>, Vs30=800.0000, Vs30Measured=True, Depth1.0km=100.0000, Depth2.5km=2.5000>,\n",
        " <Location=<Latitude=0.200000, Longitude=0.000000, Depth=0.0000>, Vs30=800.0000, Vs30Measured=True, Depth1.0km=100.0000, Depth2.5km=2.5000>]"
       ]
      }
     ],
     "prompt_number": 144
    },
    {
     "cell_type": "heading",
     "level": 2,
     "metadata": {},
     "source": [
      "This is enough for performing simple hazard calculations"
     ]
    },
    {
     "cell_type": "code",
     "collapsed": false,
     "input": [
      "from openquake.hazardlib.calc.gmf import ground_motion_fields"
     ],
     "language": "python",
     "metadata": {},
     "outputs": [],
     "prompt_number": 83
    },
    {
     "cell_type": "code",
     "collapsed": false,
     "input": [
      "ground_motion_fields?"
     ],
     "language": "python",
     "metadata": {},
     "outputs": [],
     "prompt_number": 84
    },
    {
     "cell_type": "code",
     "collapsed": false,
     "input": [
      "ground_motion_fields(rupture, sitecol, imts, gsim, oqparam.truncation_level, \n",
      "                     oqparam.number_of_ground_motion_fields,\n",
      "                     correlation_model=readinput.get_correl_model(oqparam),\n",
      "                     seed=oqparam.random_seed) "
     ],
     "language": "python",
     "metadata": {},
     "outputs": [
      {
       "metadata": {},
       "output_type": "pyout",
       "prompt_number": 145,
       "text": [
        "OrderedDict([(PGA(), array([[ 0.52390294,  0.45342236,  0.4114201 ,  0.43527812,  0.6699121 ],\n",
        "       [ 0.31904892,  0.1170354 ,  0.16668904,  0.12259405,  0.19327389],\n",
        "       [ 0.0951002 ,  0.10946327,  0.1692617 ,  0.10672339,  0.16264115]]))])"
       ]
      }
     ],
     "prompt_number": 145
    },
    {
     "cell_type": "heading",
     "level": 1,
     "metadata": {},
     "source": [
      "Reading risk input files"
     ]
    },
    {
     "cell_type": "code",
     "collapsed": true,
     "input": [
      "oqp = readinput.get_oqparam(open('job_damage.ini'))\n",
      "for name, value in oqp:\n",
      "    print name, value"
     ],
     "language": "python",
     "metadata": {},
     "outputs": [
      {
       "output_type": "stream",
       "stream": "stdout",
       "text": [
        "base_path /home/ubuntu/oq-commonlib/docs\n",
        "calculation_mode scenario_damage\n",
        "description QA Scenario Risk\n",
        "export_dir /tmp\n",
        "ground_motion_correlation_model None\n",
        "ground_motion_correlation_params {}\n",
        "gsim ChiouYoungs2008\n",
        "inputs {'rupture_model': '/home/ubuntu/oq-commonlib/docs/fault_rupture.xml', 'fragility': '/home/ubuntu/oq-commonlib/docs/fragility_model.xml', 'exposure': '/home/ubuntu/oq-commonlib/docs/exposure_model.xml'}\n",
        "intensity_measure_types_and_levels {'SA(0.5)': None, 'SA(0.2)': None, 'PGA': None}\n",
        "maximum_distance 300.0\n",
        "number_of_ground_motion_fields 5\n",
        "random_seed 3\n",
        "reference_depth_to_1pt0km_per_sec 100.0\n",
        "reference_depth_to_2pt5km_per_sec 5.0\n",
        "reference_vs30_type measured\n",
        "reference_vs30_value 760.0\n",
        "region_constraint POLYGON((78.0 31.5, 89.5 31.5, 89.5 25.5, 78.0 25.5, 78.0 31.5))\n",
        "rupture_mesh_spacing 10.0\n",
        "truncation_level 3.0\n"
       ]
      }
     ],
     "prompt_number": 146
    },
    {
     "cell_type": "code",
     "collapsed": false,
     "input": [
      "exposure = readinput.get_exposure(oqp); exposure"
     ],
     "language": "python",
     "metadata": {},
     "outputs": [
      {
       "metadata": {},
       "output_type": "pyout",
       "prompt_number": 147,
       "text": [
        "Exposure(description='Exposure model for buildings', cost_types=[{'type': 'per_asset', 'name': 'structural', 'unit': 'USD'}], insurance_limit_is_absolute=None, deductible_is_absolute=None, assets=[<Asset a1>, <Asset a2>, <Asset a3>])"
       ]
      }
     ],
     "prompt_number": 147
    },
    {
     "cell_type": "code",
     "collapsed": false,
     "input": [
      "a1 = exposure.assets[0]"
     ],
     "language": "python",
     "metadata": {},
     "outputs": [],
     "prompt_number": 149
    },
    {
     "cell_type": "code",
     "collapsed": false,
     "input": [
      "a1.number"
     ],
     "language": "python",
     "metadata": {},
     "outputs": [
      {
       "metadata": {},
       "output_type": "pyout",
       "prompt_number": 154,
       "text": [
        "3000.0"
       ]
      }
     ],
     "prompt_number": 154
    },
    {
     "cell_type": "code",
     "collapsed": false,
     "input": [
      "    a1.location"
     ],
     "language": "python",
     "metadata": {},
     "outputs": [
      {
       "metadata": {},
       "output_type": "pyout",
       "prompt_number": 155,
       "text": [
        "(81.2985, 29.1098)"
       ]
      }
     ],
     "prompt_number": 155
    },
    {
     "cell_type": "code",
     "collapsed": true,
     "input": [
      "help(readinput.get_exposure)"
     ],
     "language": "python",
     "metadata": {},
     "outputs": [
      {
       "output_type": "stream",
       "stream": "stdout",
       "text": [
        "Help on function get_exposure in module openquake.commonlib.readinput:\n",
        "\n",
        "get_exposure(oqparam)\n",
        "    Read the full exposure in memory and build a list of\n",
        "    :class:`openquake.risklib.workflows.Asset` instances.\n",
        "    If you don't want to keep everything in memory, use\n",
        "    get_exposure_lazy instead (for experts only).\n",
        "    \n",
        "    :param oqparam:\n",
        "        an :class:`openquake.commonlib.oqvalidation.OqParam` instance\n",
        "    :returns:\n",
        "        an :class:`Exposure` instance\n",
        "\n"
       ]
      }
     ],
     "prompt_number": 156
    },
    {
     "cell_type": "code",
     "collapsed": false,
     "input": [
      "sitecol, assets_by_site = readinput.get_sitecol_assets(oqp)\n",
      "sitecol, assets_by_site"
     ],
     "language": "python",
     "metadata": {},
     "outputs": [
      {
       "metadata": {},
       "output_type": "pyout",
       "prompt_number": 157,
       "text": [
        "(<SiteCollection with 3 sites>, [[<Asset a1>], [<Asset a2>], [<Asset a3>]])"
       ]
      }
     ],
     "prompt_number": 157
    },
    {
     "cell_type": "code",
     "collapsed": false,
     "input": [
      "risk_model = readinput.get_risk_model(oqp); risk_model"
     ],
     "language": "python",
     "metadata": {},
     "outputs": [
      {
       "metadata": {},
       "output_type": "pyout",
       "prompt_number": 158,
       "text": [
        "<openquake.risklib.workflows.RiskModel at 0x3695450>"
       ]
      }
     ],
     "prompt_number": 158
    },
    {
     "cell_type": "code",
     "collapsed": false,
     "input": [
      "risk_model.keys()"
     ],
     "language": "python",
     "metadata": {},
     "outputs": [
      {
       "metadata": {},
       "output_type": "pyout",
       "prompt_number": 91,
       "text": [
        "[('PGA', 'RM'), ('SA(0.2)', 'RC'), ('SA(0.5)', 'W')]"
       ]
      }
     ],
     "prompt_number": 91
    },
    {
     "cell_type": "code",
     "collapsed": false,
     "input": [
      "workflow = risk_model['PGA', 'RM']; workflow"
     ],
     "language": "python",
     "metadata": {},
     "outputs": [
      {
       "metadata": {},
       "output_type": "pyout",
       "prompt_number": 159,
       "text": [
        "<openquake.risklib.workflows.Damage at 0x365c590>"
       ]
      }
     ],
     "prompt_number": 159
    },
    {
     "cell_type": "code",
     "collapsed": false,
     "input": [
      "workflow.risk_functions"
     ],
     "language": "python",
     "metadata": {},
     "outputs": [
      {
       "metadata": {},
       "output_type": "pyout",
       "prompt_number": 93,
       "text": [
        "{'damage': <FragilityFunctionList imls=None, imt=PGA>}"
       ]
      }
     ],
     "prompt_number": 93
    },
    {
     "cell_type": "code",
     "collapsed": false,
     "input": [
      "print open('fragility_model.xml').read()"
     ],
     "language": "python",
     "metadata": {},
     "outputs": [
      {
       "output_type": "stream",
       "stream": "stdout",
       "text": [
        "<?xml version='1.0' encoding='utf-8'?>\r\n",
        "<nrml xmlns=\"http://openquake.org/xmlns/nrml/0.4\">\r\n",
        "\t<fragilityModel format=\"continuous\">\r\n",
        "\t\t<description>Fragility model for buildings</description>\r\n",
        "\t\t<limitStates>\r\n",
        "\t\t\tLS1\r\n",
        "\t\t\tLS2\r\n",
        "\t\t</limitStates>\r\n",
        "\t\t<ffs type=\"lognormal\">\r\n",
        "      <taxonomy>RM</taxonomy>\r\n",
        "      <IML IMT=\"PGA\" imlUnit=\"g\" minIML=\"0.02\" maxIML=\"1.5\"/>\r\n",
        "\t\t\t<ffc ls=\"LS1\">\r\n",
        "\t\t\t\t<params mean=\"0.15\" stddev=\"0.10\" />\r\n",
        "\t\t\t</ffc>\r\n",
        "\t\t\t<ffc ls=\"LS2\">\r\n",
        "\t\t\t\t<params mean=\"0.30\" stddev=\"0.16\" />\r\n",
        "\t\t\t</ffc>\r\n",
        "\t\t</ffs>\r\n",
        "\t\t<ffs type=\"lognormal\">\r\n",
        "      <taxonomy>RC</taxonomy>\r\n",
        "      <IML IMT=\"SA(0.2)\" imlUnit=\"g\" minIML=\"0.02\" maxIML=\"1.5\"/>\r\n",
        "\t\t\t<ffc ls=\"LS1\">\r\n",
        "\t\t\t\t<params mean=\"0.25\" stddev=\"0.08\" />\r\n",
        "\t\t\t</ffc>\r\n",
        "\t\t\t<ffc ls=\"LS2\">\r\n",
        "\t\t\t\t<params mean=\"0.55\" stddev=\"0.16\" />\r\n",
        "\t\t\t</ffc>\r\n",
        "\t\t</ffs>\r\n",
        "\t\t<ffs type=\"lognormal\">\r\n",
        "      <taxonomy>W</taxonomy>\r\n",
        "      <IML IMT=\"SA(0.5)\" imlUnit=\"g\" minIML=\"0.02\" maxIML=\"1.5\"/>\r\n",
        "\t\t\t<ffc ls=\"LS1\">\r\n",
        "\t\t\t\t<params mean=\"0.35\" stddev=\"0.12\" />\r\n",
        "\t\t\t</ffc>\r\n",
        "\t\t\t<ffc ls=\"LS2\">\r\n",
        "\t\t\t\t<params mean=\"0.70\" stddev=\"0.20\" />\r\n",
        "\t\t\t</ffc>\r\n",
        "\t\t</ffs>\r\n",
        "\t</fragilityModel>\r\n",
        "</nrml>\r\n",
        "\n"
       ]
      }
     ],
     "prompt_number": 94
    },
    {
     "cell_type": "code",
     "collapsed": false,
     "input": [
      "workflow.risk_functions['damage'][0], workflow.risk_functions['damage'][1]"
     ],
     "language": "python",
     "metadata": {},
     "outputs": [
      {
       "metadata": {},
       "output_type": "pyout",
       "prompt_number": 95,
       "text": [
        "(<FragilityFunctionContinuous(LS1, 0.15, 0.1)>,\n",
        " <FragilityFunctionContinuous(LS2, 0.3, 0.16)>)"
       ]
      }
     ],
     "prompt_number": 95
    },
    {
     "cell_type": "code",
     "collapsed": false,
     "input": [
      "risk_model.damage_states"
     ],
     "language": "python",
     "metadata": {},
     "outputs": [
      {
       "metadata": {},
       "output_type": "pyout",
       "prompt_number": 96,
       "text": [
        "['no_damage', 'LS1', 'LS2']"
       ]
      }
     ],
     "prompt_number": 96
    },
    {
     "cell_type": "code",
     "collapsed": false,
     "input": [
      "?workflow"
     ],
     "language": "python",
     "metadata": {},
     "outputs": [],
     "prompt_number": 97
    },
    {
     "cell_type": "code",
     "collapsed": true,
     "input": [
      "oqr = readinput.get_oqparam(open('job_risk.ini'))\n",
      "rm = readinput.get_risk_model(oqr)\n",
      "rm.keys()"
     ],
     "language": "python",
     "metadata": {},
     "outputs": [
      {
       "metadata": {},
       "output_type": "pyout",
       "prompt_number": 160,
       "text": [
        "[('PGA', 'RM'), ('SA(0.2)', 'RC'), ('SA(0.5)', 'W')]"
       ]
      }
     ],
     "prompt_number": 160
    },
    {
     "cell_type": "code",
     "collapsed": false,
     "input": [
      "rm['SA(0.2)', 'RC'].risk_functions"
     ],
     "language": "python",
     "metadata": {},
     "outputs": [
      {
       "metadata": {},
       "output_type": "pyout",
       "prompt_number": 161,
       "text": [
        "{'structural': <VulnerabilityFunction(SA(0.2))>}"
       ]
      }
     ],
     "prompt_number": 161
    },
    {
     "cell_type": "heading",
     "level": 1,
     "metadata": {},
     "source": [
      "Reading CSV files"
     ]
    },
    {
     "cell_type": "code",
     "collapsed": false,
     "input": [
      "o = readinput.get_oqparam(open('job_gmvs_from_csv.ini'))\n",
      "readinput.get_sitecol_gmfs(o)"
     ],
     "language": "python",
     "metadata": {},
     "outputs": [
      {
       "metadata": {},
       "output_type": "pyout",
       "prompt_number": 164,
       "text": [
        "(<SiteCollection with 3 sites>,\n",
        " {'PGA': [array([ 0.489966,  0.455252,  0.393138]),\n",
        "   array([ 0.207681,  0.240424,  0.300524]),\n",
        "   array([ 0.099697,  0.087133,  0.092085])],\n",
        "  'PGV': [array([ 41.4227,  26.7931,  33.1676]),\n",
        "   array([ 17.4768,   9.054 ,  13.2879]),\n",
        "   array([ 8.19412,  8.41794,  6.5504 ])]})"
       ]
      }
     ],
     "prompt_number": 164
    },
    {
     "cell_type": "code",
     "collapsed": false,
     "input": [
      "o = readinput.get_oqparam(open('job_hc_from_csv.ini'))\n",
      "readinput.get_sitecol_hcurves(o)"
     ],
     "language": "python",
     "metadata": {},
     "outputs": [
      {
       "metadata": {},
       "output_type": "pyout",
       "prompt_number": 101,
       "text": [
        "(<SiteCollection with 3 sites>,\n",
        " {'PGA': [array([ 0.4891846 ,  0.45525296,  0.39313824]),\n",
        "   array([ 0.20783781,  0.24033782,  0.30052459]),\n",
        "   array([ 0.09977148,  0.08767915,  0.09208522])],\n",
        "  'PGV': [array([ 0.414227  ,  0.79310681,  0.16763226]),\n",
        "   array([ 0.17196265,  0.05421363,  0.28797482]),\n",
        "   array([ 0.81992743,  0.41794658,  0.55046728])]})"
       ]
      }
     ],
     "prompt_number": 101
    },
    {
     "cell_type": "heading",
     "level": 1,
     "metadata": {},
     "source": [
      "Writing a HelloWorld calculator"
     ]
    },
    {
     "cell_type": "code",
     "collapsed": false,
     "input": [
      "from openquake.commonlib.calculators import BaseCalculator, calculators"
     ],
     "language": "python",
     "metadata": {},
     "outputs": [],
     "prompt_number": 102
    },
    {
     "cell_type": "code",
     "collapsed": false,
     "input": [
      "calculators"
     ],
     "language": "python",
     "metadata": {},
     "outputs": [
      {
       "metadata": {},
       "output_type": "pyout",
       "prompt_number": 103,
       "text": [
        "CallableDict([('classical', <class 'openquake.commonlib.calculators.hazard.ClassicalCalculator'>), ('event_based', <class 'openquake.commonlib.calculators.hazard.EventBasedCalculator'>), ('disaggregation', <class 'openquake.commonlib.calculators.hazard.DisaggregationCalculator'>), ('scenario', <class 'openquake.commonlib.calculators.hazard.ScenarioCalculator'>), ('hello', <class 'openquake.commonlib.calculators.hello.HelloCalculator'>), ('scenario_damage', <class 'openquake.commonlib.calculators.scenario_damage.ScenarioDamageCalculator'>), ('scenario_risk', <class 'openquake.commonlib.calculators.scenario_risk.ScenarioRiskCalculator'>), ('classical_damage', <class 'openquake.commonlib.calculators.classical_damage.ClassicalDamageCalculator'>), ('classical_risk', <class 'openquake.commonlib.calculators.classical_risk.ClassicalRiskCalculator'>)])"
       ]
      }
     ],
     "prompt_number": 103
    },
    {
     "cell_type": "code",
     "collapsed": false,
     "input": [
      "print open('hello.ini').read()\n",
      "oqp = readinput.get_oqparam(open('hello.ini'))"
     ],
     "language": "python",
     "metadata": {},
     "outputs": [
      {
       "output_type": "stream",
       "stream": "stdout",
       "text": [
        "[general]\n",
        "calculation_mode = hello\n",
        "maximum_distance = 200\n",
        "intensity_measure_types = PGA\n",
        "export_dir = /tmp\n",
        "\n"
       ]
      }
     ],
     "prompt_number": 104
    },
    {
     "cell_type": "code",
     "collapsed": false,
     "input": [
      "from openquake.commonlib.calculators import hello\n",
      "calc = hello.HelloCalculator(oqp)"
     ],
     "language": "python",
     "metadata": {},
     "outputs": [],
     "prompt_number": 105
    },
    {
     "cell_type": "code",
     "collapsed": false,
     "input": [
      "calc.run()"
     ],
     "language": "python",
     "metadata": {},
     "outputs": [
      {
       "metadata": {},
       "output_type": "pyout",
       "prompt_number": 106,
       "text": [
        "{'hello': '/tmp/hello.txt'}"
       ]
      }
     ],
     "prompt_number": 106
    },
    {
     "cell_type": "heading",
     "level": 2,
     "metadata": {},
     "source": [
      "Testing the calculator"
     ]
    },
    {
     "cell_type": "code",
     "collapsed": false,
     "input": [
      "from openquake.commonlib.tests.calculators import CalculatorTestCase\n",
      "\n",
      "class HelloTestCase(CalculatorTestCase):\n",
      "    def test(self):\n",
      "        out = run_calc(__file__, 'hello.ini')\n",
      "        self.assertGot('hello world', out['hello'])"
     ],
     "language": "python",
     "metadata": {},
     "outputs": [],
     "prompt_number": 107
    },
    {
     "cell_type": "markdown",
     "metadata": {},
     "source": [
      "==================================================================================================================================="
     ]
    },
    {
     "cell_type": "heading",
     "level": 1,
     "metadata": {},
     "source": [
      "    Parallel execution with apply_reduce"
     ]
    },
    {
     "cell_type": "markdown",
     "metadata": {},
     "source": [
      "Example: building a frequency hystogram"
     ]
    },
    {
     "cell_type": "code",
     "collapsed": false,
     "input": [
      "from collections import Counter"
     ],
     "language": "python",
     "metadata": {},
     "outputs": [],
     "prompt_number": 165
    },
    {
     "cell_type": "code",
     "collapsed": false,
     "input": [
      "Counter('pippolippo')"
     ],
     "language": "python",
     "metadata": {},
     "outputs": [
      {
       "metadata": {},
       "output_type": "pyout",
       "prompt_number": 166,
       "text": [
        "Counter({'p': 5, 'i': 2, 'o': 2, 'l': 1})"
       ]
      }
     ],
     "prompt_number": 166
    },
    {
     "cell_type": "code",
     "collapsed": false,
     "input": [
      "def frequencyhisto(fnames):\n",
      "    \"Compute the character frequency hystogram of a set of files\"\n",
      "    c = Counter()\n",
      "    for fname in fnames:\n",
      "        c += Counter(open(fname).read().upper())\n",
      "    return c"
     ],
     "language": "python",
     "metadata": {},
     "outputs": [],
     "prompt_number": 167
    },
    {
     "cell_type": "code",
     "collapsed": false,
     "input": [
      "from openquake.commonlib import nrml_examples"
     ],
     "language": "python",
     "metadata": {},
     "outputs": [],
     "prompt_number": 168
    },
    {
     "cell_type": "code",
     "collapsed": false,
     "input": [
      "DIR = nrml_examples.__path__[0]"
     ],
     "language": "python",
     "metadata": {},
     "outputs": [],
     "prompt_number": 169
    },
    {
     "cell_type": "code",
     "collapsed": false,
     "input": [
      "DIR"
     ],
     "language": "python",
     "metadata": {},
     "outputs": [
      {
       "metadata": {},
       "output_type": "pyout",
       "prompt_number": 170,
       "text": [
        "'/home/ubuntu/oq-commonlib/openquake/commonlib/nrml_examples'"
       ]
      }
     ],
     "prompt_number": 170
    },
    {
     "cell_type": "code",
     "collapsed": false,
     "input": [
      "import os; xmlfiles = [os.path.join(DIR, f) for f in os.listdir(DIR) if f.endswith('.xml')]; xmlfiles"
     ],
     "language": "python",
     "metadata": {},
     "outputs": [
      {
       "metadata": {},
       "output_type": "pyout",
       "prompt_number": 114,
       "text": [
        "['/home/ubuntu/oq-commonlib/openquake/commonlib/nrml_examples/logic-tree-gmpe.xml',\n",
        " '/home/ubuntu/oq-commonlib/openquake/commonlib/nrml_examples/logic-tree-source-model.xml',\n",
        " '/home/ubuntu/oq-commonlib/openquake/commonlib/nrml_examples/complex-fault-rupture.xml',\n",
        " '/home/ubuntu/oq-commonlib/openquake/commonlib/nrml_examples/loss-fractions-taxonomies.xml',\n",
        " '/home/ubuntu/oq-commonlib/openquake/commonlib/nrml_examples/hazard-curves-mean.xml',\n",
        " '/home/ubuntu/oq-commonlib/openquake/commonlib/nrml_examples/uhs-quantile.xml',\n",
        " '/home/ubuntu/oq-commonlib/openquake/commonlib/nrml_examples/collapse-map.xml',\n",
        " '/home/ubuntu/oq-commonlib/openquake/commonlib/nrml_examples/ses.xml',\n",
        " '/home/ubuntu/oq-commonlib/openquake/commonlib/nrml_examples/site_model.xml',\n",
        " '/home/ubuntu/oq-commonlib/openquake/commonlib/nrml_examples/dmg-dist-total.xml',\n",
        " '/home/ubuntu/oq-commonlib/openquake/commonlib/nrml_examples/hazard-curves-multi.xml',\n",
        " '/home/ubuntu/oq-commonlib/openquake/commonlib/nrml_examples/exposure-population.xml',\n",
        " '/home/ubuntu/oq-commonlib/openquake/commonlib/nrml_examples/vulnerability-model-discrete.xml',\n",
        " '/home/ubuntu/oq-commonlib/openquake/commonlib/nrml_examples/hazard-map-mean.xml',\n",
        " '/home/ubuntu/oq-commonlib/openquake/commonlib/nrml_examples/hazard-curves-sa.xml',\n",
        " '/home/ubuntu/oq-commonlib/openquake/commonlib/nrml_examples/bcr-map.xml',\n",
        " '/home/ubuntu/oq-commonlib/openquake/commonlib/nrml_examples/loss-map-quantile.xml',\n",
        " '/home/ubuntu/oq-commonlib/openquake/commonlib/nrml_examples/hazard-curves-pga.xml',\n",
        " '/home/ubuntu/oq-commonlib/openquake/commonlib/nrml_examples/gmf-event-based.xml',\n",
        " '/home/ubuntu/oq-commonlib/openquake/commonlib/nrml_examples/fragm_c.xml',\n",
        " '/home/ubuntu/oq-commonlib/openquake/commonlib/nrml_examples/disaggregation.xml',\n",
        " '/home/ubuntu/oq-commonlib/openquake/commonlib/nrml_examples/bcr-map-quantile.xml',\n",
        " '/home/ubuntu/oq-commonlib/openquake/commonlib/nrml_examples/loss-map-scenario-risk.xml',\n",
        " '/home/ubuntu/oq-commonlib/openquake/commonlib/nrml_examples/loss-curves-quantile.xml',\n",
        " '/home/ubuntu/oq-commonlib/openquake/commonlib/nrml_examples/exposure-portfolio.xml',\n",
        " '/home/ubuntu/oq-commonlib/openquake/commonlib/nrml_examples/agg-loss-curve.xml',\n",
        " '/home/ubuntu/oq-commonlib/openquake/commonlib/nrml_examples/uhs-mean.xml',\n",
        " '/home/ubuntu/oq-commonlib/openquake/commonlib/nrml_examples/uhs.xml',\n",
        " '/home/ubuntu/oq-commonlib/openquake/commonlib/nrml_examples/fragm_d.xml',\n",
        " '/home/ubuntu/oq-commonlib/openquake/commonlib/nrml_examples/loss-map.xml',\n",
        " '/home/ubuntu/oq-commonlib/openquake/commonlib/nrml_examples/dmg-dist-per-taxonomy.xml',\n",
        " '/home/ubuntu/oq-commonlib/openquake/commonlib/nrml_examples/loss-curves.xml',\n",
        " '/home/ubuntu/oq-commonlib/openquake/commonlib/nrml_examples/dmg-dist-per-asset.xml',\n",
        " '/home/ubuntu/oq-commonlib/openquake/commonlib/nrml_examples/hazard-curves-quantile.xml',\n",
        " '/home/ubuntu/oq-commonlib/openquake/commonlib/nrml_examples/hazard-map-quantile.xml',\n",
        " '/home/ubuntu/oq-commonlib/openquake/commonlib/nrml_examples/simple-fault-rupture.xml',\n",
        " '/home/ubuntu/oq-commonlib/openquake/commonlib/nrml_examples/hazard-map.xml']"
       ]
      }
     ],
     "prompt_number": 114
    },
    {
     "cell_type": "code",
     "collapsed": false,
     "input": [
      "len(xmlfiles)"
     ],
     "language": "python",
     "metadata": {},
     "outputs": [
      {
       "metadata": {},
       "output_type": "pyout",
       "prompt_number": 171,
       "text": [
        "37"
       ]
      }
     ],
     "prompt_number": 171
    },
    {
     "cell_type": "code",
     "collapsed": false,
     "input": [
      "apply(frequencyhisto, (xmlfiles,))"
     ],
     "language": "python",
     "metadata": {},
     "outputs": [
      {
       "metadata": {},
       "output_type": "pyout",
       "prompt_number": 172,
       "text": [
        "Counter({' ': 11692, 'E': 2142, 'T': 1773, '\"': 1726, 'S': 1539, 'N': 1394, 'L': 1363, 'O': 1358, '0': 1336, 'A': 1331, 'I': 1284, 'R': 1153, '\\n': 1125, 'M': 1088, '<': 1038, '>': 1038, '.': 1022, '=': 940, '/': 854, 'D': 755, 'G': 755, 'P': 749, 'C': 695, 'U': 557, '1': 553, '2': 378, 'H': 357, '-': 353, 'V': 329, 'F': 308, ':': 274, 'B': 267, '3': 260, '5': 235, '4': 222, 'X': 215, 'Y': 211, '9': 165, '8': 165, '6': 156, '7': 152, 'W': 149, '_': 94, \"'\": 92, '?': 72, 'Z': 70, ',': 53, 'Q': 53, 'K': 52, '!': 40, '|': 30, '+': 28, '`': 16, ')': 6, '(': 6})"
       ]
      }
     ],
     "prompt_number": 172
    },
    {
     "cell_type": "code",
     "collapsed": false,
     "input": [
      "from openquake.commonlib.parallel import apply_reduce\n",
      "import operator"
     ],
     "language": "python",
     "metadata": {},
     "outputs": [],
     "prompt_number": 173
    },
    {
     "cell_type": "code",
     "collapsed": false,
     "input": [
      "apply_reduce(frequencyhisto, (xmlfiles,), agg=operator.add, acc=Counter(), concurrent_tasks=4)"
     ],
     "language": "python",
     "metadata": {},
     "outputs": [
      {
       "metadata": {},
       "output_type": "pyout",
       "prompt_number": 174,
       "text": [
        "Counter({' ': 11692, 'E': 2142, 'T': 1773, '\"': 1726, 'S': 1539, 'N': 1394, 'L': 1363, 'O': 1358, '0': 1336, 'A': 1331, 'I': 1284, 'R': 1153, '\\n': 1125, 'M': 1088, '<': 1038, '>': 1038, '.': 1022, '=': 940, '/': 854, 'D': 755, 'G': 755, 'P': 749, 'C': 695, 'U': 557, '1': 553, '2': 378, 'H': 357, '-': 353, 'V': 329, 'F': 308, ':': 274, 'B': 267, '3': 260, '5': 235, '4': 222, 'X': 215, 'Y': 211, '9': 165, '8': 165, '6': 156, '7': 152, 'W': 149, '_': 94, \"'\": 92, '?': 72, 'Z': 70, ',': 53, 'Q': 53, 'K': 52, '!': 40, '|': 30, '+': 28, '`': 16, ')': 6, '(': 6})"
       ]
      }
     ],
     "prompt_number": 174
    },
    {
     "cell_type": "code",
     "collapsed": false,
     "input": [
      "[len(chunk) for chunk in apply_reduce._chunks]"
     ],
     "language": "python",
     "metadata": {},
     "outputs": [
      {
       "metadata": {},
       "output_type": "pyout",
       "prompt_number": 175,
       "text": [
        "[10, 10, 10, 7]"
       ]
      }
     ],
     "prompt_number": 175
    },
    {
     "cell_type": "code",
     "collapsed": false,
     "input": [
      "apply_reduce(frequencyhisto, (xmlfiles,), agg=operator.add, acc=Counter(), concurrent_tasks=4,\n",
      "             weight=os.path.getsize)"
     ],
     "language": "python",
     "metadata": {},
     "outputs": [
      {
       "metadata": {},
       "output_type": "pyout",
       "prompt_number": 176,
       "text": [
        "Counter({' ': 11692, 'E': 2142, 'T': 1773, '\"': 1726, 'S': 1539, 'N': 1394, 'L': 1363, 'O': 1358, '0': 1336, 'A': 1331, 'I': 1284, 'R': 1153, '\\n': 1125, 'M': 1088, '<': 1038, '>': 1038, '.': 1022, '=': 940, '/': 854, 'D': 755, 'G': 755, 'P': 749, 'C': 695, 'U': 557, '1': 553, '2': 378, 'H': 357, '-': 353, 'V': 329, 'F': 308, ':': 274, 'B': 267, '3': 260, '5': 235, '4': 222, 'X': 215, 'Y': 211, '9': 165, '8': 165, '6': 156, '7': 152, 'W': 149, '_': 94, \"'\": 92, '?': 72, 'Z': 70, ',': 53, 'Q': 53, 'K': 52, '!': 40, '|': 30, '+': 28, '`': 16, ')': 6, '(': 6})"
       ]
      }
     ],
     "prompt_number": 176
    },
    {
     "cell_type": "code",
     "collapsed": false,
     "input": [
      "[chunk.weight for chunk in apply_reduce._chunks]"
     ],
     "language": "python",
     "metadata": {},
     "outputs": [
      {
       "metadata": {},
       "output_type": "pyout",
       "prompt_number": 177,
       "text": [
        "[8742, 10390, 9610, 10360, 4966]"
       ]
      }
     ],
     "prompt_number": 177
    },
    {
     "cell_type": "code",
     "collapsed": false,
     "input": [
      "[len(chunk) for chunk in apply_reduce._chunks]"
     ],
     "language": "python",
     "metadata": {},
     "outputs": [
      {
       "metadata": {},
       "output_type": "pyout",
       "prompt_number": 178,
       "text": [
        "[7, 9, 8, 8, 5]"
       ]
      }
     ],
     "prompt_number": 178
    },
    {
     "cell_type": "code",
     "collapsed": false,
     "input": [
      "apply_reduce._chunks[0]"
     ],
     "language": "python",
     "metadata": {},
     "outputs": [
      {
       "metadata": {},
       "output_type": "pyout",
       "prompt_number": 179,
       "text": [
        "<WeightedSequence ['/home/ubuntu/oq-commonlib/openquake/commonlib/nrml_examples/logic-tree-gmpe.xml', '/home/ubuntu/oq-commonlib/openquake/commonlib/nrml_examples/logic-tree-source-model.xml', '/home/ubuntu/oq-commonlib/openquake/commonlib/nrml_examples/complex-fault-rupture.xml', '/home/ubuntu/oq-commonlib/openquake/commonlib/nrml_examples/loss-fractions-taxonomies.xml', '/home/ubuntu/oq-commonlib/openquake/commonlib/nrml_examples/hazard-curves-mean.xml', '/home/ubuntu/oq-commonlib/openquake/commonlib/nrml_examples/uhs-quantile.xml', '/home/ubuntu/oq-commonlib/openquake/commonlib/nrml_examples/collapse-map.xml'], weight=8742>"
       ]
      }
     ],
     "prompt_number": 179
    },
    {
     "cell_type": "code",
     "collapsed": false,
     "input": [
      "from openquake.commonlib.general import split_in_blocks"
     ],
     "language": "python",
     "metadata": {},
     "outputs": [],
     "prompt_number": 180
    },
    {
     "cell_type": "code",
     "collapsed": false,
     "input": [
      "split_in_blocks??"
     ],
     "language": "python",
     "metadata": {},
     "outputs": [],
     "prompt_number": 181
    },
    {
     "cell_type": "heading",
     "level": 1,
     "metadata": {},
     "source": [
      "Sequential scenario hazard calculator"
     ]
    },
    {
     "cell_type": "code",
     "collapsed": false,
     "input": [
      "from openquake.commonlib import readinput\n",
      "from openquake.commonlib.export import export\n",
      "from openquake.commonlib.calculators import calc\n",
      "from openquake.commonlib.tests.calculators import CalculatorTestCase\n",
      "\n",
      "\n",
      "class GmfsFastTestCase(CalculatorTestCase):\n",
      "    def test_gmfs_fast(self):\n",
      "        oqparam = self.get_calc(__file__, 'job.ini').oqparam\n",
      "        sitecol = readinput.get_site_collection(oqparam)\n",
      "        gmfs = calc.calc_gmfs_fast(oqparam, sitecol)\n",
      "        rupture_tags = ['s%d' % i for i in xrange(\n",
      "            oqparam.number_of_ground_motion_fields)]\n",
      "        out = export('gmf_csv', oqparam.export_dir, sitecol,\n",
      "                     rupture_tags, gmfs)\n",
      "        self.assertEqualFiles('expected_gmf.csv', out['gmf_csv'])"
     ],
     "language": "python",
     "metadata": {},
     "outputs": [],
     "prompt_number": 123
    },
    {
     "cell_type": "heading",
     "level": 1,
     "metadata": {},
     "source": [
      "Parallel scenario hazard calculator"
     ]
    },
    {
     "cell_type": "code",
     "collapsed": false,
     "input": [
      "from openquake.commonlib.calculators.hazard import ScenarioCalculator"
     ],
     "language": "python",
     "metadata": {},
     "outputs": [],
     "prompt_number": 125
    },
    {
     "cell_type": "code",
     "collapsed": false,
     "input": [
      "ScenarioCalculator??"
     ],
     "language": "python",
     "metadata": {},
     "outputs": [],
     "prompt_number": 127
    },
    {
     "cell_type": "code",
     "collapsed": false,
     "input": [],
     "language": "python",
     "metadata": {},
     "outputs": []
    }
   ],
   "metadata": {}
  }
 ]
}