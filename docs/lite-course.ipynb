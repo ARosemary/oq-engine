{
 "metadata": {
  "name": "",
  "signature": "sha256:ea3eaba049dcd56803df2a69785a324739b6b754b2ead41e14cfb0292b84ba8b"
 },
 "nbformat": 3,
 "nbformat_minor": 0,
 "worksheets": [
  {
   "cells": [
    {
     "cell_type": "heading",
     "level": 1,
     "metadata": {},
     "source": [
      "Origin and goals of commonlib"
     ]
    },
    {
     "cell_type": "markdown",
     "metadata": {},
     "source": [
      "1. commonlib was written as a basis for a future lite version of the engine, with no dependency on Postgresql, Django and Celery\n",
      "2. the idea is to move in commonlib *everything* which does not depend on Postgresql, Django and Celery\n",
      "3. the engine *must* become small\n",
      "4. it must be possible to write hazard/risk calculators entirely in commonlib\n",
      "5. sooner or later the engine QA test will be moved in commonlib\n",
      "6. hazardlib, risklib, commonlib might become a single repository (oq-lite)"
     ]
    },
    {
     "cell_type": "heading",
     "level": 1,
     "metadata": {},
     "source": [
      "Use of commonlib: reading the engine input files"
     ]
    },
    {
     "cell_type": "code",
     "collapsed": false,
     "input": [
      "import os; print os.getcwd()\n",
      "print [f for f in os.listdir('.') if f.endswith(('.py', '.ini', '.xml'))]"
     ],
     "language": "python",
     "metadata": {},
     "outputs": [
      {
       "output_type": "stream",
       "stream": "stdout",
       "text": [
        "/home/ubuntu/oq-commonlib/docs\n",
        "['fault_rupture.xml', 'NSHMP2008US_micro.xml', 'test.py', 'job_usa.ini', 'job_hc_from_csv.ini', 'source_model_logic_tree.xml', 'classical.ini', 'classical_risk_from_csv.ini', 'job_gmvs_from_csv.ini', 'job_damage.ini', 'job.ini', 'source_model.xml', 'freqhisto.py', 'vulnerability_model.xml', 'conf.py', 'job_risk.ini', 'rupture_model.xml', 'fragility_model.xml', 'expected.xml', 'classical.py', 'hello_test.py', 'hello.ini', 'exposure_model.xml', 'distribute_epsilons.py']\n"
       ]
      }
     ],
     "prompt_number": 58
    },
    {
     "cell_type": "code",
     "collapsed": false,
     "input": [
      "print open('job.ini').read()"
     ],
     "language": "python",
     "metadata": {},
     "outputs": [
      {
       "output_type": "stream",
       "stream": "stdout",
       "text": [
        "[general]\n",
        "description = Scenario QA Test, Case 1\n",
        "calculation_mode = my_scenario\n",
        "export_dir = /tmp\n",
        "random_seed = 3\n",
        "sites = 0.0 0.0, 0.0 0.1, 0.0 0.2\n",
        "rupture_mesh_spacing = 1.0\n",
        "reference_vs30_type = measured\n",
        "reference_vs30_value = 800.0\n",
        "reference_depth_to_2pt5km_per_sec = 2.5\n",
        "reference_depth_to_1pt0km_per_sec = 100.0\n",
        "rupture_model_file = rupture_model.xml\n",
        "intensity_measure_types = PGA\n",
        "truncation_level = 1.0\n",
        "maximum_distance = 200\n",
        "gsim = BooreAtkinson2008\n",
        "number_of_ground_motion_fields = 5\n",
        "\n"
       ]
      }
     ],
     "prompt_number": 59
    },
    {
     "cell_type": "code",
     "collapsed": false,
     "input": [
      "from openquake.commonlib.general import import_all; import_all('my_calculators')"
     ],
     "language": "python",
     "metadata": {},
     "outputs": [
      {
       "metadata": {},
       "output_type": "pyout",
       "prompt_number": 60,
       "text": [
        "set()"
       ]
      }
     ],
     "prompt_number": 60
    },
    {
     "cell_type": "code",
     "collapsed": false,
     "input": [
      "from openquake.commonlib import readinput"
     ],
     "language": "python",
     "metadata": {},
     "outputs": [],
     "prompt_number": 61
    },
    {
     "cell_type": "code",
     "collapsed": false,
     "input": [
      "oqparam = readinput.get_oqparam(open('job.ini')); oqparam"
     ],
     "language": "python",
     "metadata": {},
     "outputs": [
      {
       "metadata": {},
       "output_type": "pyout",
       "prompt_number": 62,
       "text": [
        "<OqParam base_path=/home/ubuntu/oq-commonlib/docs, calculation_mode=my_scenario, description=Scenario QA Test, Case 1, export_dir=/tmp, gsim=BooreAtkinson2008, inputs={'rupture_model': '/home/ubuntu/oq-commonlib/docs/rupture_model.xml'}, intensity_measure_types_and_levels={'PGA': None}, maximum_distance=200.0, number_of_ground_motion_fields=5, random_seed=3, reference_depth_to_1pt0km_per_sec=100.0, reference_depth_to_2pt5km_per_sec=2.5, reference_vs30_type=measured, reference_vs30_value=800.0, rupture_mesh_spacing=1.0, sites=[(0.0, 0.0), (0.0, 0.1), (0.0, 0.2)], truncation_level=1.0>"
       ]
      }
     ],
     "prompt_number": 62
    },
    {
     "cell_type": "code",
     "collapsed": false,
     "input": [
      "for name, value in oqparam:\n",
      "    print name, '=', repr(value)"
     ],
     "language": "python",
     "metadata": {},
     "outputs": [
      {
       "output_type": "stream",
       "stream": "stdout",
       "text": [
        "base_path = '/home/ubuntu/oq-commonlib/docs'\n",
        "calculation_mode = 'my_scenario'\n",
        "description = 'Scenario QA Test, Case 1'\n",
        "export_dir = '/tmp'\n",
        "gsim = 'BooreAtkinson2008'\n",
        "inputs = {'rupture_model': '/home/ubuntu/oq-commonlib/docs/rupture_model.xml'}\n",
        "intensity_measure_types_and_levels = {'PGA': None}\n",
        "maximum_distance = 200.0\n",
        "number_of_ground_motion_fields = 5\n",
        "random_seed = 3\n",
        "reference_depth_to_1pt0km_per_sec = 100.0\n",
        "reference_depth_to_2pt5km_per_sec = 2.5\n",
        "reference_vs30_type = 'measured'\n",
        "reference_vs30_value = 800.0\n",
        "rupture_mesh_spacing = 1.0\n",
        "sites = [(0.0, 0.0), (0.0, 0.1), (0.0, 0.2)]\n",
        "truncation_level = 1.0\n"
       ]
      }
     ],
     "prompt_number": 63
    },
    {
     "cell_type": "code",
     "collapsed": true,
     "input": [
      "for coords in oqparam.sites: print coords"
     ],
     "language": "python",
     "metadata": {},
     "outputs": [
      {
       "output_type": "stream",
       "stream": "stdout",
       "text": [
        "(0.0, 0.0)\n",
        "(0.0, 0.1)\n",
        "(0.0, 0.2)\n"
       ]
      }
     ],
     "prompt_number": 64
    },
    {
     "cell_type": "code",
     "collapsed": false,
     "input": [
      "mesh = readinput.get_mesh(oqparam)\n",
      "for site in mesh: print site"
     ],
     "language": "python",
     "metadata": {},
     "outputs": [
      {
       "output_type": "stream",
       "stream": "stdout",
       "text": [
        "<Latitude=0.000000, Longitude=0.000000, Depth=0.0000>\n",
        "<Latitude=0.100000, Longitude=0.000000, Depth=0.0000>\n",
        "<Latitude=0.200000, Longitude=0.000000, Depth=0.0000>\n"
       ]
      }
     ],
     "prompt_number": 65
    },
    {
     "cell_type": "code",
     "collapsed": false,
     "input": [
      "gsim = readinput.get_gsim(oqparam); gsim"
     ],
     "language": "python",
     "metadata": {},
     "outputs": [
      {
       "metadata": {},
       "output_type": "pyout",
       "prompt_number": 66,
       "text": [
        "<openquake.hazardlib.gsim.boore_atkinson_2008.BooreAtkinson2008 at 0x32c7dd0>"
       ]
      }
     ],
     "prompt_number": 66
    },
    {
     "cell_type": "code",
     "collapsed": false,
     "input": [
      "print open('rupture_model.xml').read()"
     ],
     "language": "python",
     "metadata": {},
     "outputs": [
      {
       "output_type": "stream",
       "stream": "stdout",
       "text": [
        "<?xml version='1.0' encoding='utf-8'?>\n",
        "<nrml xmlns:gml=\"http://www.opengis.net/gml\"\n",
        "      xmlns=\"http://openquake.org/xmlns/nrml/0.4\">\n",
        "\n",
        "    <simpleFaultRupture>\n",
        "        <magnitude>6.5</magnitude>\n",
        "        <rake>0</rake>\n",
        "        <hypocenter lat=\"0.0\" lon=\"0.0\" depth=\"6.0\"/>\n",
        "        <simpleFaultGeometry>\n",
        "                <gml:LineString>\n",
        "                    <gml:posList>\n",
        "                        -0.104328 -0.104328\n",
        "                         0.104328  0.104328\n",
        "                    </gml:posList>\n",
        "                </gml:LineString>\n",
        "            <dip>90.0</dip>\n",
        "            <upperSeismoDepth>2.0</upperSeismoDepth>\n",
        "            <lowerSeismoDepth>10.0</lowerSeismoDepth>\n",
        "        </simpleFaultGeometry>\n",
        "    </simpleFaultRupture>\n",
        "</nrml>\n",
        "\n"
       ]
      }
     ],
     "prompt_number": 67
    },
    {
     "cell_type": "code",
     "collapsed": false,
     "input": [
      "rupture = readinput.get_rupture(oqparam); rupture"
     ],
     "language": "python",
     "metadata": {},
     "outputs": [
      {
       "metadata": {},
       "output_type": "pyout",
       "prompt_number": 68,
       "text": [
        "<openquake.hazardlib.source.rupture.Rupture at 0x397db30>"
       ]
      }
     ],
     "prompt_number": 68
    },
    {
     "cell_type": "code",
     "collapsed": false,
     "input": [
      "rupture.mag, rupture.rake, rupture.surface"
     ],
     "language": "python",
     "metadata": {},
     "outputs": [
      {
       "metadata": {},
       "output_type": "pyout",
       "prompt_number": 69,
       "text": [
        "(6.5,\n",
        " 0.0,\n",
        " <openquake.hazardlib.geo.surface.simple_fault.SimpleFaultSurface at 0x32c7fd0>)"
       ]
      }
     ],
     "prompt_number": 69
    },
    {
     "cell_type": "code",
     "collapsed": false,
     "input": [
      "imts = readinput.get_imts(oqparam); imts"
     ],
     "language": "python",
     "metadata": {},
     "outputs": [
      {
       "metadata": {},
       "output_type": "pyout",
       "prompt_number": 70,
       "text": [
        "[PGA()]"
       ]
      }
     ],
     "prompt_number": 70
    },
    {
     "cell_type": "code",
     "collapsed": false,
     "input": [
      "type(imts[0])"
     ],
     "language": "python",
     "metadata": {},
     "outputs": [
      {
       "metadata": {},
       "output_type": "pyout",
       "prompt_number": 71,
       "text": [
        "openquake.hazardlib.imt.PGA"
       ]
      }
     ],
     "prompt_number": 71
    },
    {
     "cell_type": "code",
     "collapsed": false,
     "input": [
      "sitecol = readinput.get_site_collection(oqparam); sitecol"
     ],
     "language": "python",
     "metadata": {},
     "outputs": [
      {
       "metadata": {},
       "output_type": "pyout",
       "prompt_number": 72,
       "text": [
        "<SiteCollection with 3 sites>"
       ]
      }
     ],
     "prompt_number": 72
    },
    {
     "cell_type": "code",
     "collapsed": false,
     "input": [
      "list(sitecol)"
     ],
     "language": "python",
     "metadata": {},
     "outputs": [
      {
       "metadata": {},
       "output_type": "pyout",
       "prompt_number": 73,
       "text": [
        "[<Location=<Latitude=0.000000, Longitude=0.000000, Depth=0.0000>, Vs30=800.0000, Vs30Measured=True, Depth1.0km=100.0000, Depth2.5km=2.5000>,\n",
        " <Location=<Latitude=0.100000, Longitude=0.000000, Depth=0.0000>, Vs30=800.0000, Vs30Measured=True, Depth1.0km=100.0000, Depth2.5km=2.5000>,\n",
        " <Location=<Latitude=0.200000, Longitude=0.000000, Depth=0.0000>, Vs30=800.0000, Vs30Measured=True, Depth1.0km=100.0000, Depth2.5km=2.5000>]"
       ]
      }
     ],
     "prompt_number": 73
    },
    {
     "cell_type": "heading",
     "level": 2,
     "metadata": {},
     "source": [
      "This is enough for performing simple hazard calculations"
     ]
    },
    {
     "cell_type": "code",
     "collapsed": false,
     "input": [
      "from openquake.hazardlib.calc.gmf import ground_motion_fields"
     ],
     "language": "python",
     "metadata": {},
     "outputs": [],
     "prompt_number": 74
    },
    {
     "cell_type": "code",
     "collapsed": false,
     "input": [
      "ground_motion_fields?"
     ],
     "language": "python",
     "metadata": {},
     "outputs": [],
     "prompt_number": 75
    },
    {
     "cell_type": "code",
     "collapsed": false,
     "input": [
      "ground_motion_fields(rupture, sitecol, imts, gsim, oqparam.truncation_level, \n",
      "                     oqparam.number_of_ground_motion_fields,\n",
      "                     correlation_model=readinput.get_correl_model(oqparam),\n",
      "                     seed=oqparam.random_seed) "
     ],
     "language": "python",
     "metadata": {},
     "outputs": [
      {
       "metadata": {},
       "output_type": "pyout",
       "prompt_number": 76,
       "text": [
        "OrderedDict([(PGA(), array([[ 0.52390294,  0.45342236,  0.4114201 ,  0.43527812,  0.6699121 ],\n",
        "       [ 0.31904892,  0.1170354 ,  0.16668904,  0.12259405,  0.19327389],\n",
        "       [ 0.0951002 ,  0.10946327,  0.1692617 ,  0.10672339,  0.16264115]]))])"
       ]
      }
     ],
     "prompt_number": 76
    },
    {
     "cell_type": "heading",
     "level": 1,
     "metadata": {},
     "source": [
      "Reading risk input files"
     ]
    },
    {
     "cell_type": "code",
     "collapsed": true,
     "input": [
      "oqp = readinput.get_oqparam(open('job_damage.ini'))\n",
      "for name, value in oqp:\n",
      "    print name, value"
     ],
     "language": "python",
     "metadata": {},
     "outputs": [
      {
       "output_type": "stream",
       "stream": "stdout",
       "text": [
        "base_path /home/ubuntu/oq-commonlib/docs\n",
        "calculation_mode scenario_damage\n",
        "description QA Scenario Risk\n",
        "export_dir /tmp\n",
        "ground_motion_correlation_model None\n",
        "ground_motion_correlation_params {}\n",
        "gsim ChiouYoungs2008\n",
        "inputs {'rupture_model': '/home/ubuntu/oq-commonlib/docs/fault_rupture.xml', 'fragility': '/home/ubuntu/oq-commonlib/docs/fragility_model.xml', 'exposure': '/home/ubuntu/oq-commonlib/docs/exposure_model.xml'}\n",
        "intensity_measure_types_and_levels {'SA(0.5)': None, 'SA(0.2)': None, 'PGA': None}\n",
        "maximum_distance 300.0\n",
        "number_of_ground_motion_fields 5\n",
        "random_seed 3\n",
        "reference_depth_to_1pt0km_per_sec 100.0\n",
        "reference_depth_to_2pt5km_per_sec 5.0\n",
        "reference_vs30_type measured\n",
        "reference_vs30_value 760.0\n",
        "region_constraint POLYGON((78.0 31.5, 89.5 31.5, 89.5 25.5, 78.0 25.5, 78.0 31.5))\n",
        "rupture_mesh_spacing 10.0\n",
        "truncation_level 3.0\n"
       ]
      }
     ],
     "prompt_number": 77
    },
    {
     "cell_type": "code",
     "collapsed": false,
     "input": [
      "exposure = readinput.get_exposure(oqp); exposure"
     ],
     "language": "python",
     "metadata": {},
     "outputs": [
      {
       "metadata": {},
       "output_type": "pyout",
       "prompt_number": 78,
       "text": [
        "Exposure(description='Exposure model for buildings', cost_types=[{'type': 'per_asset', 'name': 'structural', 'unit': 'USD'}], insurance_limit_is_absolute=None, deductible_is_absolute=None, assets=[<Asset a1>, <Asset a2>, <Asset a3>], taxonomies=set(['RM', 'W', 'RC']))"
       ]
      }
     ],
     "prompt_number": 78
    },
    {
     "cell_type": "code",
     "collapsed": false,
     "input": [
      "a1 = exposure.assets[0]"
     ],
     "language": "python",
     "metadata": {},
     "outputs": [],
     "prompt_number": 79
    },
    {
     "cell_type": "code",
     "collapsed": false,
     "input": [
      "a1.number"
     ],
     "language": "python",
     "metadata": {},
     "outputs": [
      {
       "metadata": {},
       "output_type": "pyout",
       "prompt_number": 80,
       "text": [
        "3000.0"
       ]
      }
     ],
     "prompt_number": 80
    },
    {
     "cell_type": "code",
     "collapsed": false,
     "input": [
      "a1.location"
     ],
     "language": "python",
     "metadata": {},
     "outputs": [
      {
       "metadata": {},
       "output_type": "pyout",
       "prompt_number": 81,
       "text": [
        "(81.2985, 29.1098)"
       ]
      }
     ],
     "prompt_number": 81
    },
    {
     "cell_type": "code",
     "collapsed": true,
     "input": [
      "help(readinput.get_exposure)"
     ],
     "language": "python",
     "metadata": {},
     "outputs": [
      {
       "output_type": "stream",
       "stream": "stdout",
       "text": [
        "Help on function get_exposure in module openquake.commonlib.readinput:\n",
        "\n",
        "get_exposure(oqparam)\n",
        "    Read the full exposure in memory and build a list of\n",
        "    :class:`openquake.risklib.workflows.Asset` instances.\n",
        "    If you don't want to keep everything in memory, use\n",
        "    get_exposure_lazy instead (for experts only).\n",
        "    \n",
        "    :param oqparam:\n",
        "        an :class:`openquake.commonlib.oqvalidation.OqParam` instance\n",
        "    :returns:\n",
        "        an :class:`Exposure` instance\n",
        "\n"
       ]
      }
     ],
     "prompt_number": 82
    },
    {
     "cell_type": "code",
     "collapsed": false,
     "input": [
      "sitecol, assets_by_site = readinput.get_sitecol_assets(oqp, exposure)\n",
      "sitecol, assets_by_site"
     ],
     "language": "python",
     "metadata": {},
     "outputs": [
      {
       "metadata": {},
       "output_type": "pyout",
       "prompt_number": 85,
       "text": [
        "(<SiteCollection with 3 sites>, array([[<Asset a1>],\n",
        "        [<Asset a2>],\n",
        "        [<Asset a3>]], dtype=object))"
       ]
      }
     ],
     "prompt_number": 85
    },
    {
     "cell_type": "code",
     "collapsed": false,
     "input": [
      "risk_model = readinput.get_risk_model(oqp); risk_model"
     ],
     "language": "python",
     "metadata": {},
     "outputs": [
      {
       "metadata": {},
       "output_type": "pyout",
       "prompt_number": 86,
       "text": [
        "<openquake.risklib.workflows.RiskModel at 0x51b8590>"
       ]
      }
     ],
     "prompt_number": 86
    },
    {
     "cell_type": "code",
     "collapsed": false,
     "input": [
      "risk_model.keys()"
     ],
     "language": "python",
     "metadata": {},
     "outputs": [
      {
       "metadata": {},
       "output_type": "pyout",
       "prompt_number": 87,
       "text": [
        "[('PGA', 'RM'), ('SA(0.2)', 'RC'), ('SA(0.5)', 'W')]"
       ]
      }
     ],
     "prompt_number": 87
    },
    {
     "cell_type": "code",
     "collapsed": false,
     "input": [
      "workflow = risk_model['PGA', 'RM']; workflow"
     ],
     "language": "python",
     "metadata": {},
     "outputs": [
      {
       "metadata": {},
       "output_type": "pyout",
       "prompt_number": 88,
       "text": [
        "<openquake.risklib.workflows.Damage at 0x32b8f50>"
       ]
      }
     ],
     "prompt_number": 88
    },
    {
     "cell_type": "code",
     "collapsed": false,
     "input": [
      "workflow.risk_functions"
     ],
     "language": "python",
     "metadata": {},
     "outputs": [
      {
       "metadata": {},
       "output_type": "pyout",
       "prompt_number": 89,
       "text": [
        "{'damage': <FragilityFunctionList imls=None, imt=PGA>}"
       ]
      }
     ],
     "prompt_number": 89
    },
    {
     "cell_type": "code",
     "collapsed": false,
     "input": [
      "print open('fragility_model.xml').read()"
     ],
     "language": "python",
     "metadata": {},
     "outputs": [
      {
       "output_type": "stream",
       "stream": "stdout",
       "text": [
        "<?xml version='1.0' encoding='utf-8'?>\r\n",
        "<nrml xmlns=\"http://openquake.org/xmlns/nrml/0.4\">\r\n",
        "\t<fragilityModel format=\"continuous\">\r\n",
        "\t\t<description>Fragility model for buildings</description>\r\n",
        "\t\t<limitStates>\r\n",
        "\t\t\tLS1\r\n",
        "\t\t\tLS2\r\n",
        "\t\t</limitStates>\r\n",
        "\t\t<ffs type=\"lognormal\">\r\n",
        "      <taxonomy>RM</taxonomy>\r\n",
        "      <IML IMT=\"PGA\" imlUnit=\"g\" minIML=\"0.02\" maxIML=\"1.5\"/>\r\n",
        "\t\t\t<ffc ls=\"LS1\">\r\n",
        "\t\t\t\t<params mean=\"0.15\" stddev=\"0.10\" />\r\n",
        "\t\t\t</ffc>\r\n",
        "\t\t\t<ffc ls=\"LS2\">\r\n",
        "\t\t\t\t<params mean=\"0.30\" stddev=\"0.16\" />\r\n",
        "\t\t\t</ffc>\r\n",
        "\t\t</ffs>\r\n",
        "\t\t<ffs type=\"lognormal\">\r\n",
        "      <taxonomy>RC</taxonomy>\r\n",
        "      <IML IMT=\"SA(0.2)\" imlUnit=\"g\" minIML=\"0.02\" maxIML=\"1.5\"/>\r\n",
        "\t\t\t<ffc ls=\"LS1\">\r\n",
        "\t\t\t\t<params mean=\"0.25\" stddev=\"0.08\" />\r\n",
        "\t\t\t</ffc>\r\n",
        "\t\t\t<ffc ls=\"LS2\">\r\n",
        "\t\t\t\t<params mean=\"0.55\" stddev=\"0.16\" />\r\n",
        "\t\t\t</ffc>\r\n",
        "\t\t</ffs>\r\n",
        "\t\t<ffs type=\"lognormal\">\r\n",
        "      <taxonomy>W</taxonomy>\r\n",
        "      <IML IMT=\"SA(0.5)\" imlUnit=\"g\" minIML=\"0.02\" maxIML=\"1.5\"/>\r\n",
        "\t\t\t<ffc ls=\"LS1\">\r\n",
        "\t\t\t\t<params mean=\"0.35\" stddev=\"0.12\" />\r\n",
        "\t\t\t</ffc>\r\n",
        "\t\t\t<ffc ls=\"LS2\">\r\n",
        "\t\t\t\t<params mean=\"0.70\" stddev=\"0.20\" />\r\n",
        "\t\t\t</ffc>\r\n",
        "\t\t</ffs>\r\n",
        "\t</fragilityModel>\r\n",
        "</nrml>\r\n",
        "\n"
       ]
      }
     ],
     "prompt_number": 90
    },
    {
     "cell_type": "code",
     "collapsed": false,
     "input": [
      "workflow.risk_functions['damage'][0], workflow.risk_functions['damage'][1]"
     ],
     "language": "python",
     "metadata": {},
     "outputs": [
      {
       "metadata": {},
       "output_type": "pyout",
       "prompt_number": 91,
       "text": [
        "(<FragilityFunctionContinuous(LS1, 0.15, 0.1)>,\n",
        " <FragilityFunctionContinuous(LS2, 0.3, 0.16)>)"
       ]
      }
     ],
     "prompt_number": 91
    },
    {
     "cell_type": "code",
     "collapsed": false,
     "input": [
      "risk_model.damage_states"
     ],
     "language": "python",
     "metadata": {},
     "outputs": [
      {
       "metadata": {},
       "output_type": "pyout",
       "prompt_number": 92,
       "text": [
        "['no_damage', 'LS1', 'LS2']"
       ]
      }
     ],
     "prompt_number": 92
    },
    {
     "cell_type": "code",
     "collapsed": false,
     "input": [
      "?workflow"
     ],
     "language": "python",
     "metadata": {},
     "outputs": [],
     "prompt_number": 93
    },
    {
     "cell_type": "code",
     "collapsed": true,
     "input": [
      "oqr = readinput.get_oqparam(open('job_risk.ini'))\n",
      "rm = readinput.get_risk_model(oqr)\n",
      "rm.keys()"
     ],
     "language": "python",
     "metadata": {},
     "outputs": [
      {
       "metadata": {},
       "output_type": "pyout",
       "prompt_number": 94,
       "text": [
        "[('PGA', 'RM'), ('SA(0.2)', 'RC'), ('SA(0.5)', 'W')]"
       ]
      }
     ],
     "prompt_number": 94
    },
    {
     "cell_type": "code",
     "collapsed": false,
     "input": [
      "rm['SA(0.2)', 'RC'].risk_functions"
     ],
     "language": "python",
     "metadata": {},
     "outputs": [
      {
       "metadata": {},
       "output_type": "pyout",
       "prompt_number": 95,
       "text": [
        "{'structural': <VulnerabilityFunction(SA(0.2))>}"
       ]
      }
     ],
     "prompt_number": 95
    },
    {
     "cell_type": "heading",
     "level": 1,
     "metadata": {},
     "source": [
      "Reading sources"
     ]
    },
    {
     "cell_type": "code",
     "collapsed": false,
     "input": [
      "usparam = readinput.get_oqparam(open('job_usa.ini'))\n",
      "trt_models = readinput.get_trt_models(usparam, 'NSHMP2008US_micro.xml')"
     ],
     "language": "python",
     "metadata": {},
     "outputs": [],
     "prompt_number": 96
    },
    {
     "cell_type": "code",
     "collapsed": false,
     "input": [
      "trt_models = list(trt_models)  # slow\n",
      "trt_models"
     ],
     "language": "python",
     "metadata": {},
     "outputs": [
      {
       "metadata": {},
       "output_type": "pyout",
       "prompt_number": 97,
       "text": [
        "[<TrtModel Active Shallow Crust, 1008 source(s)>]"
       ]
      }
     ],
     "prompt_number": 97
    },
    {
     "cell_type": "code",
     "collapsed": false,
     "input": [
      "trt_model = trt_models[0]\n",
      "trt_model.min_mag, trt_model.max_mag, trt_model.num_ruptures"
     ],
     "language": "python",
     "metadata": {},
     "outputs": [
      {
       "metadata": {},
       "output_type": "pyout",
       "prompt_number": 98,
       "text": [
        "(5.369, 8.42, 58602)"
       ]
      }
     ],
     "prompt_number": 98
    },
    {
     "cell_type": "code",
     "collapsed": false,
     "input": [
      "trt_model.sources[:3], trt_model.sources[-3:]"
     ],
     "language": "python",
     "metadata": {},
     "outputs": [
      {
       "metadata": {},
       "output_type": "pyout",
       "prompt_number": 99,
       "text": [
        "([<CharacteristicFaultSource 1>,\n",
        "  <CharacteristicFaultSource 2>,\n",
        "  <CharacteristicFaultSource 3>],\n",
        " [<CharacteristicFaultSource 1006>,\n",
        "  <CharacteristicFaultSource 1007>,\n",
        "  <CharacteristicFaultSource 1008>])"
       ]
      }
     ],
     "prompt_number": 99
    },
    {
     "cell_type": "code",
     "collapsed": false,
     "input": [
      "list(trt_model.sources[0].iter_ruptures())"
     ],
     "language": "python",
     "metadata": {},
     "outputs": [
      {
       "metadata": {},
       "output_type": "pyout",
       "prompt_number": 100,
       "text": [
        "[<openquake.hazardlib.source.rupture.ParametricProbabilisticRupture at 0x32d0440>,\n",
        " <openquake.hazardlib.source.rupture.ParametricProbabilisticRupture at 0x32d0130>,\n",
        " <openquake.hazardlib.source.rupture.ParametricProbabilisticRupture at 0x32d0600>,\n",
        " <openquake.hazardlib.source.rupture.ParametricProbabilisticRupture at 0x32d02f0>,\n",
        " <openquake.hazardlib.source.rupture.ParametricProbabilisticRupture at 0x32d0590>,\n",
        " <openquake.hazardlib.source.rupture.ParametricProbabilisticRupture at 0x32d03d0>,\n",
        " <openquake.hazardlib.source.rupture.ParametricProbabilisticRupture at 0x32d0360>,\n",
        " <openquake.hazardlib.source.rupture.ParametricProbabilisticRupture at 0x32d0210>,\n",
        " <openquake.hazardlib.source.rupture.ParametricProbabilisticRupture at 0x32d04b0>,\n",
        " <openquake.hazardlib.source.rupture.ParametricProbabilisticRupture at 0x32d06e0>,\n",
        " <openquake.hazardlib.source.rupture.ParametricProbabilisticRupture at 0x32d0750>,\n",
        " <openquake.hazardlib.source.rupture.ParametricProbabilisticRupture at 0x32d07c0>,\n",
        " <openquake.hazardlib.source.rupture.ParametricProbabilisticRupture at 0x32d0830>,\n",
        " <openquake.hazardlib.source.rupture.ParametricProbabilisticRupture at 0x32d08a0>,\n",
        " <openquake.hazardlib.source.rupture.ParametricProbabilisticRupture at 0x32d0910>]"
       ]
      }
     ],
     "prompt_number": 100
    },
    {
     "cell_type": "heading",
     "level": 1,
     "metadata": {},
     "source": [
      "Reading CSV files"
     ]
    },
    {
     "cell_type": "code",
     "collapsed": false,
     "input": [
      "o = readinput.get_oqparam(open('job_gmvs_from_csv.ini'))\n",
      "readinput.get_sitecol_gmfs(o)"
     ],
     "language": "python",
     "metadata": {},
     "outputs": [
      {
       "metadata": {},
       "output_type": "pyout",
       "prompt_number": 101,
       "text": [
        "(<SiteCollection with 3 sites>,\n",
        " {'PGA': array([[ 0.489966,  0.455252,  0.393138],\n",
        "         [ 0.207681,  0.240424,  0.300524],\n",
        "         [ 0.099697,  0.087133,  0.092085]]),\n",
        "  'PGV': array([[ 41.4227 ,  26.7931 ,  33.1676 ],\n",
        "         [ 17.4768 ,   9.054  ,  13.2879 ],\n",
        "         [  8.19412,   8.41794,   6.5504 ]])})"
       ]
      }
     ],
     "prompt_number": 101
    },
    {
     "cell_type": "code",
     "collapsed": false,
     "input": [
      "o = readinput.get_oqparam(open('job_hc_from_csv.ini'))\n",
      "readinput.get_sitecol_hcurves(o)"
     ],
     "language": "python",
     "metadata": {},
     "outputs": [
      {
       "metadata": {},
       "output_type": "pyout",
       "prompt_number": 102,
       "text": [
        "(<SiteCollection with 3 sites>,\n",
        " {'PGA': array([[ 0.4891846 ,  0.45525296,  0.39313824],\n",
        "         [ 0.20783781,  0.24033782,  0.30052459],\n",
        "         [ 0.09977148,  0.08767915,  0.09208522]]),\n",
        "  'SA(0.2)': array([[ 0.14227   ,  0.1068149 ,  0.16322619],\n",
        "         [ 0.171265  ,  0.05421363,  0.2874822 ],\n",
        "         [ 0.8197431 ,  0.4658166 ,  0.5504752 ]]),\n",
        "  'SA(0.5)': array([[ 0.414227  ,  0.79310681,  0.16763226],\n",
        "         [ 0.17196265,  0.05421363,  0.28797482],\n",
        "         [ 0.81992743,  0.41794658,  0.55046728]])})"
       ]
      }
     ],
     "prompt_number": 102
    },
    {
     "cell_type": "heading",
     "level": 1,
     "metadata": {},
     "source": [
      "Writing a HelloWorld calculator"
     ]
    },
    {
     "cell_type": "code",
     "collapsed": false,
     "input": [
      "from openquake.commonlib.calculators import calculators"
     ],
     "language": "python",
     "metadata": {},
     "outputs": [],
     "prompt_number": 103
    },
    {
     "cell_type": "code",
     "collapsed": false,
     "input": [
      "HelloCalculator = calculators['hello']; HelloCalculator??"
     ],
     "language": "python",
     "metadata": {},
     "outputs": [
      {
       "output_type": "stream",
       "stream": "stdout",
       "text": [
        "Object `HelloCalculator` not found.\n"
       ]
      }
     ],
     "prompt_number": 104
    },
    {
     "cell_type": "code",
     "collapsed": false,
     "input": [
      "HelloCalculator = calculators['hello']; HelloCalculator"
     ],
     "language": "python",
     "metadata": {},
     "outputs": []
    },
    {
     "cell_type": "code",
     "collapsed": false,
     "input": [
      "HelloCalculator = calculators['hello']; HelloCalculator"
     ],
     "language": "python",
     "metadata": {},
     "outputs": [
      {
       "metadata": {},
       "output_type": "pyout",
       "prompt_number": 105,
       "text": [
        "my_calculators.hello.HelloCalculator"
       ]
      }
     ],
     "prompt_number": 105
    },
    {
     "cell_type": "code",
     "collapsed": false,
     "input": [
      "print open('hello.ini').read()\n",
      "oqp = readinput.get_oqparam(open('hello.ini'))"
     ],
     "language": "python",
     "metadata": {},
     "outputs": [
      {
       "output_type": "stream",
       "stream": "stdout",
       "text": [
        "[general]\n",
        "calculation_mode = hello\n",
        "maximum_distance = 200\n",
        "intensity_measure_types = PGA\n",
        "export_dir = /tmp\n",
        "\n"
       ]
      }
     ],
     "prompt_number": 109
    },
    {
     "cell_type": "code",
     "collapsed": false,
     "input": [
      "from openquake.commonlib.parallel import PerformanceMonitor\n",
      "calc = HelloCalculator(oqp, PerformanceMonitor('hello'))"
     ],
     "language": "python",
     "metadata": {},
     "outputs": [],
     "prompt_number": 110
    },
    {
     "cell_type": "code",
     "collapsed": false,
     "input": [
      "calc.run()"
     ],
     "language": "python",
     "metadata": {},
     "outputs": [
      {
       "metadata": {},
       "output_type": "pyout",
       "prompt_number": 111,
       "text": [
        "{'hello': '/tmp/hello.txt'}"
       ]
      }
     ],
     "prompt_number": 111
    },
    {
     "cell_type": "markdown",
     "metadata": {},
     "source": [
      "In the export_dir there will be a file `performance.csv` with some interesting information about time spent and memory allocated"
     ]
    },
    {
     "cell_type": "heading",
     "level": 2,
     "metadata": {},
     "source": [
      "Testing the calculator"
     ]
    },
    {
     "cell_type": "code",
     "collapsed": false,
     "input": [
      "from hello_test import HelloTestCase\n",
      "HelloTestCase??"
     ],
     "language": "python",
     "metadata": {},
     "outputs": [],
     "prompt_number": 53
    },
    {
     "cell_type": "markdown",
     "metadata": {},
     "source": [
      "==================================================================================================================================="
     ]
    },
    {
     "cell_type": "heading",
     "level": 1,
     "metadata": {},
     "source": [
      "    Parallel execution with apply_reduce"
     ]
    },
    {
     "cell_type": "markdown",
     "metadata": {},
     "source": [
      "Example: building a frequency hystogram"
     ]
    },
    {
     "cell_type": "code",
     "collapsed": false,
     "input": [
      "from collections import Counter"
     ],
     "language": "python",
     "metadata": {},
     "outputs": [],
     "prompt_number": 54
    },
    {
     "cell_type": "code",
     "collapsed": false,
     "input": [
      "Counter('pippolippo')"
     ],
     "language": "python",
     "metadata": {},
     "outputs": [
      {
       "metadata": {},
       "output_type": "pyout",
       "prompt_number": 55,
       "text": [
        "Counter({'p': 5, 'i': 2, 'o': 2, 'l': 1})"
       ]
      }
     ],
     "prompt_number": 55
    },
    {
     "cell_type": "code",
     "collapsed": false,
     "input": [
      "def frequencyhisto(fnames):\n",
      "    \"Compute the character frequency hystogram of a set of files\"\n",
      "    c = Counter()\n",
      "    for fname in fnames:\n",
      "        c += Counter(open(fname).read().upper())\n",
      "    return c"
     ],
     "language": "python",
     "metadata": {},
     "outputs": [],
     "prompt_number": 56
    },
    {
     "cell_type": "code",
     "collapsed": false,
     "input": [
      "from openquake.commonlib import nrml_examples"
     ],
     "language": "python",
     "metadata": {},
     "outputs": [],
     "prompt_number": 57
    },
    {
     "cell_type": "code",
     "collapsed": false,
     "input": [
      "DIR = nrml_examples.__path__[0]"
     ],
     "language": "python",
     "metadata": {},
     "outputs": [],
     "prompt_number": 58
    },
    {
     "cell_type": "code",
     "collapsed": false,
     "input": [
      "DIR"
     ],
     "language": "python",
     "metadata": {},
     "outputs": [
      {
       "metadata": {},
       "output_type": "pyout",
       "prompt_number": 59,
       "text": [
        "'/home/ubuntu/oq-commonlib/openquake/commonlib/nrml_examples'"
       ]
      }
     ],
     "prompt_number": 59
    },
    {
     "cell_type": "code",
     "collapsed": false,
     "input": [
      "import os; xmlfiles = [os.path.join(DIR, f) for f in os.listdir(DIR) if f.endswith('.xml')]; xmlfiles"
     ],
     "language": "python",
     "metadata": {},
     "outputs": [
      {
       "metadata": {},
       "output_type": "pyout",
       "prompt_number": 60,
       "text": [
        "['/home/ubuntu/oq-commonlib/openquake/commonlib/nrml_examples/logic-tree-gmpe.xml',\n",
        " '/home/ubuntu/oq-commonlib/openquake/commonlib/nrml_examples/logic-tree-source-model.xml',\n",
        " '/home/ubuntu/oq-commonlib/openquake/commonlib/nrml_examples/complex-fault-rupture.xml',\n",
        " '/home/ubuntu/oq-commonlib/openquake/commonlib/nrml_examples/loss-fractions-taxonomies.xml',\n",
        " '/home/ubuntu/oq-commonlib/openquake/commonlib/nrml_examples/hazard-curves-mean.xml',\n",
        " '/home/ubuntu/oq-commonlib/openquake/commonlib/nrml_examples/uhs-quantile.xml',\n",
        " '/home/ubuntu/oq-commonlib/openquake/commonlib/nrml_examples/collapse-map.xml',\n",
        " '/home/ubuntu/oq-commonlib/openquake/commonlib/nrml_examples/ses.xml',\n",
        " '/home/ubuntu/oq-commonlib/openquake/commonlib/nrml_examples/site_model.xml',\n",
        " '/home/ubuntu/oq-commonlib/openquake/commonlib/nrml_examples/dmg-dist-total.xml',\n",
        " '/home/ubuntu/oq-commonlib/openquake/commonlib/nrml_examples/hazard-curves-multi.xml',\n",
        " '/home/ubuntu/oq-commonlib/openquake/commonlib/nrml_examples/exposure-population.xml',\n",
        " '/home/ubuntu/oq-commonlib/openquake/commonlib/nrml_examples/vulnerability-model-discrete.xml',\n",
        " '/home/ubuntu/oq-commonlib/openquake/commonlib/nrml_examples/hazard-map-mean.xml',\n",
        " '/home/ubuntu/oq-commonlib/openquake/commonlib/nrml_examples/hazard-curves-sa.xml',\n",
        " '/home/ubuntu/oq-commonlib/openquake/commonlib/nrml_examples/bcr-map.xml',\n",
        " '/home/ubuntu/oq-commonlib/openquake/commonlib/nrml_examples/loss-map-quantile.xml',\n",
        " '/home/ubuntu/oq-commonlib/openquake/commonlib/nrml_examples/hazard-curves-pga.xml',\n",
        " '/home/ubuntu/oq-commonlib/openquake/commonlib/nrml_examples/gmf-event-based.xml',\n",
        " '/home/ubuntu/oq-commonlib/openquake/commonlib/nrml_examples/fragm_c.xml',\n",
        " '/home/ubuntu/oq-commonlib/openquake/commonlib/nrml_examples/disaggregation.xml',\n",
        " '/home/ubuntu/oq-commonlib/openquake/commonlib/nrml_examples/bcr-map-quantile.xml',\n",
        " '/home/ubuntu/oq-commonlib/openquake/commonlib/nrml_examples/loss-map-scenario-risk.xml',\n",
        " '/home/ubuntu/oq-commonlib/openquake/commonlib/nrml_examples/loss-curves-quantile.xml',\n",
        " '/home/ubuntu/oq-commonlib/openquake/commonlib/nrml_examples/exposure-portfolio.xml',\n",
        " '/home/ubuntu/oq-commonlib/openquake/commonlib/nrml_examples/agg-loss-curve.xml',\n",
        " '/home/ubuntu/oq-commonlib/openquake/commonlib/nrml_examples/uhs-mean.xml',\n",
        " '/home/ubuntu/oq-commonlib/openquake/commonlib/nrml_examples/uhs.xml',\n",
        " '/home/ubuntu/oq-commonlib/openquake/commonlib/nrml_examples/fragm_d.xml',\n",
        " '/home/ubuntu/oq-commonlib/openquake/commonlib/nrml_examples/loss-map.xml',\n",
        " '/home/ubuntu/oq-commonlib/openquake/commonlib/nrml_examples/dmg-dist-per-taxonomy.xml',\n",
        " '/home/ubuntu/oq-commonlib/openquake/commonlib/nrml_examples/loss-curves.xml',\n",
        " '/home/ubuntu/oq-commonlib/openquake/commonlib/nrml_examples/dmg-dist-per-asset.xml',\n",
        " '/home/ubuntu/oq-commonlib/openquake/commonlib/nrml_examples/hazard-curves-quantile.xml',\n",
        " '/home/ubuntu/oq-commonlib/openquake/commonlib/nrml_examples/hazard-map-quantile.xml',\n",
        " '/home/ubuntu/oq-commonlib/openquake/commonlib/nrml_examples/simple-fault-rupture.xml',\n",
        " '/home/ubuntu/oq-commonlib/openquake/commonlib/nrml_examples/hazard-map.xml']"
       ]
      }
     ],
     "prompt_number": 60
    },
    {
     "cell_type": "code",
     "collapsed": false,
     "input": [
      "len(xmlfiles)"
     ],
     "language": "python",
     "metadata": {},
     "outputs": [
      {
       "metadata": {},
       "output_type": "pyout",
       "prompt_number": 61,
       "text": [
        "37"
       ]
      }
     ],
     "prompt_number": 61
    },
    {
     "cell_type": "code",
     "collapsed": false,
     "input": [
      "apply(frequencyhisto, (xmlfiles,))"
     ],
     "language": "python",
     "metadata": {},
     "outputs": [
      {
       "metadata": {},
       "output_type": "pyout",
       "prompt_number": 62,
       "text": [
        "Counter({' ': 11692, 'E': 2142, 'T': 1773, '\"': 1726, 'S': 1539, 'N': 1394, 'L': 1363, 'O': 1358, '0': 1336, 'A': 1331, 'I': 1284, 'R': 1153, '\\n': 1125, 'M': 1088, '<': 1038, '>': 1038, '.': 1022, '=': 940, '/': 854, 'D': 755, 'G': 755, 'P': 749, 'C': 695, 'U': 557, '1': 553, '2': 378, 'H': 357, '-': 353, 'V': 329, 'F': 308, ':': 274, 'B': 267, '3': 260, '5': 235, '4': 222, 'X': 215, 'Y': 211, '9': 165, '8': 165, '6': 156, '7': 152, 'W': 149, '_': 94, \"'\": 92, '?': 72, 'Z': 70, ',': 53, 'Q': 53, 'K': 52, '!': 40, '|': 30, '+': 28, '`': 16, ')': 6, '(': 6})"
       ]
      }
     ],
     "prompt_number": 62
    },
    {
     "cell_type": "code",
     "collapsed": false,
     "input": [
      "from openquake.commonlib.parallel import apply_reduce\n",
      "import operator"
     ],
     "language": "python",
     "metadata": {},
     "outputs": [],
     "prompt_number": 63
    },
    {
     "cell_type": "code",
     "collapsed": false,
     "input": [
      "apply_reduce(frequencyhisto, (xmlfiles,), agg=operator.add, acc=Counter(), concurrent_tasks=4)"
     ],
     "language": "python",
     "metadata": {},
     "outputs": [
      {
       "metadata": {},
       "output_type": "pyout",
       "prompt_number": 64,
       "text": [
        "Counter({' ': 11692, 'E': 2142, 'T': 1773, '\"': 1726, 'S': 1539, 'N': 1394, 'L': 1363, 'O': 1358, '0': 1336, 'A': 1331, 'I': 1284, 'R': 1153, '\\n': 1125, 'M': 1088, '<': 1038, '>': 1038, '.': 1022, '=': 940, '/': 854, 'D': 755, 'G': 755, 'P': 749, 'C': 695, 'U': 557, '1': 553, '2': 378, 'H': 357, '-': 353, 'V': 329, 'F': 308, ':': 274, 'B': 267, '3': 260, '5': 235, '4': 222, 'X': 215, 'Y': 211, '9': 165, '8': 165, '6': 156, '7': 152, 'W': 149, '_': 94, \"'\": 92, '?': 72, 'Z': 70, ',': 53, 'Q': 53, 'K': 52, '!': 40, '|': 30, '+': 28, '`': 16, ')': 6, '(': 6})"
       ]
      }
     ],
     "prompt_number": 64
    },
    {
     "cell_type": "code",
     "collapsed": false,
     "input": [
      "[len(chunk) for chunk in apply_reduce._chunks]"
     ],
     "language": "python",
     "metadata": {},
     "outputs": [
      {
       "metadata": {},
       "output_type": "pyout",
       "prompt_number": 65,
       "text": [
        "[10, 10, 10, 7]"
       ]
      }
     ],
     "prompt_number": 65
    },
    {
     "cell_type": "code",
     "collapsed": false,
     "input": [
      "apply_reduce(frequencyhisto, (xmlfiles,), agg=operator.add, acc=Counter(), concurrent_tasks=4,\n",
      "             weight=os.path.getsize)"
     ],
     "language": "python",
     "metadata": {},
     "outputs": [
      {
       "metadata": {},
       "output_type": "pyout",
       "prompt_number": 66,
       "text": [
        "Counter({' ': 11692, 'E': 2142, 'T': 1773, '\"': 1726, 'S': 1539, 'N': 1394, 'L': 1363, 'O': 1358, '0': 1336, 'A': 1331, 'I': 1284, 'R': 1153, '\\n': 1125, 'M': 1088, '<': 1038, '>': 1038, '.': 1022, '=': 940, '/': 854, 'D': 755, 'G': 755, 'P': 749, 'C': 695, 'U': 557, '1': 553, '2': 378, 'H': 357, '-': 353, 'V': 329, 'F': 308, ':': 274, 'B': 267, '3': 260, '5': 235, '4': 222, 'X': 215, 'Y': 211, '9': 165, '8': 165, '6': 156, '7': 152, 'W': 149, '_': 94, \"'\": 92, '?': 72, 'Z': 70, ',': 53, 'Q': 53, 'K': 52, '!': 40, '|': 30, '+': 28, '`': 16, ')': 6, '(': 6})"
       ]
      }
     ],
     "prompt_number": 66
    },
    {
     "cell_type": "code",
     "collapsed": false,
     "input": [
      "[chunk.weight for chunk in apply_reduce._chunks]"
     ],
     "language": "python",
     "metadata": {},
     "outputs": [
      {
       "metadata": {},
       "output_type": "pyout",
       "prompt_number": 67,
       "text": [
        "[8742, 10390, 9610, 10360, 4966]"
       ]
      }
     ],
     "prompt_number": 67
    },
    {
     "cell_type": "code",
     "collapsed": false,
     "input": [
      "[len(chunk) for chunk in apply_reduce._chunks]"
     ],
     "language": "python",
     "metadata": {},
     "outputs": [
      {
       "metadata": {},
       "output_type": "pyout",
       "prompt_number": 68,
       "text": [
        "[7, 9, 8, 8, 5]"
       ]
      }
     ],
     "prompt_number": 68
    },
    {
     "cell_type": "code",
     "collapsed": false,
     "input": [
      "apply_reduce._chunks[0]"
     ],
     "language": "python",
     "metadata": {},
     "outputs": [
      {
       "metadata": {},
       "output_type": "pyout",
       "prompt_number": 69,
       "text": [
        "<WeightedSequence ['/home/ubuntu/oq-commonlib/openquake/commonlib/nrml_examples/logic-tree-gmpe.xml', '/home/ubuntu/oq-commonlib/openquake/commonlib/nrml_examples/logic-tree-source-model.xml', '/home/ubuntu/oq-commonlib/openquake/commonlib/nrml_examples/complex-fault-rupture.xml', '/home/ubuntu/oq-commonlib/openquake/commonlib/nrml_examples/loss-fractions-taxonomies.xml', '/home/ubuntu/oq-commonlib/openquake/commonlib/nrml_examples/hazard-curves-mean.xml', '/home/ubuntu/oq-commonlib/openquake/commonlib/nrml_examples/uhs-quantile.xml', '/home/ubuntu/oq-commonlib/openquake/commonlib/nrml_examples/collapse-map.xml'], weight=8742>"
       ]
      }
     ],
     "prompt_number": 69
    },
    {
     "cell_type": "code",
     "collapsed": false,
     "input": [
      "from openquake.commonlib.general import split_in_blocks"
     ],
     "language": "python",
     "metadata": {},
     "outputs": [],
     "prompt_number": 70
    },
    {
     "cell_type": "heading",
     "level": 1,
     "metadata": {},
     "source": [
      "split_in_blocks??"
     ]
    },
    {
     "cell_type": "heading",
     "level": 1,
     "metadata": {},
     "source": [
      "Sequential scenario hazard calculator"
     ]
    },
    {
     "cell_type": "code",
     "collapsed": false,
     "input": [
      "from my_calculators import scenario\n",
      "scenario??"
     ],
     "language": "python",
     "metadata": {},
     "outputs": [],
     "prompt_number": 78
    },
    {
     "cell_type": "heading",
     "level": 1,
     "metadata": {},
     "source": [
      "Parallel scenario hazard calculator"
     ]
    },
    {
     "cell_type": "code",
     "collapsed": false,
     "input": [
      "from openquake.commonlib.calculators.hazard import ScenarioCalculator"
     ],
     "language": "python",
     "metadata": {},
     "outputs": [],
     "prompt_number": 72
    },
    {
     "cell_type": "code",
     "collapsed": false,
     "input": [
      "ScenarioCalculator??"
     ],
     "language": "python",
     "metadata": {},
     "outputs": [],
     "prompt_number": 73
    },
    {
     "cell_type": "heading",
     "level": 1,
     "metadata": {},
     "source": [
      "Caveats and notes"
     ]
    },
    {
     "cell_type": "markdown",
     "metadata": {},
     "source": [
      "1. is the parallel calculator faster than the sequential one?\n",
      "2. is the export faster than the calculation?\n",
      "3. how much the results depend on the seed?\n",
      "4. is the memory occupation an issue?\n",
      "5. do we really need a hazard scenario calculator?"
     ]
    },
    {
     "cell_type": "code",
     "collapsed": false,
     "input": [],
     "language": "python",
     "metadata": {},
     "outputs": []
    }
   ],
   "metadata": {}
  }
 ]
}