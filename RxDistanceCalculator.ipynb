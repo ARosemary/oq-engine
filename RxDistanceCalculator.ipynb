{
 "metadata": {
  "name": "RxDistanceCalculator"
 },
 "nbformat": 3,
 "nbformat_minor": 0,
 "worksheets": [
  {
   "cells": [
    {
     "cell_type": "code",
     "collapsed": false,
     "input": [
      "from openquake.hazardlib.source import PointSource, CharacteristicFaultSource\n",
      "from openquake.hazardlib.mfd import EvenlyDiscretizedMFD\n",
      "from openquake.hazardlib.scalerel import WC1994\n",
      "from openquake.hazardlib.geo import Point, NodalPlane, Line\n",
      "from openquake.hazardlib.pmf import PMF\n",
      "from openquake.hazardlib.tom import PoissonTOM\n",
      "from openquake.hazardlib.geo import Mesh\n",
      "from openquake.hazardlib.geo import SimpleFaultSurface"
     ],
     "language": "python",
     "metadata": {},
     "outputs": [],
     "prompt_number": 5
    },
    {
     "cell_type": "code",
     "collapsed": false,
     "input": [
      "source_id = '1'\n",
      "name = 'point'\n",
      "tectonic_region_type = 'Active Shallow Crust'\n",
      "mfd = EvenlyDiscretizedMFD(min_mag=6., bin_width=0.1, occurrence_rates=[1])\n",
      "rupture_mesh_spacing = 2.\n",
      "magnitude_scaling_relationship = WC1994()\n",
      "rupture_aspect_ratio = 2.\n",
      "upper_seismogenic_depth = 0.\n",
      "lower_seismogenic_depth = 15.\n",
      "location = Point(0, 0)\n",
      "nodal_plane_distribution = PMF([(1., NodalPlane(45., 50., 0.))])\n",
      "hypocenter_distribution = PMF([(1., 7.5)])\n",
      "src = PointSource(\n",
      "    source_id, name, tectonic_region_type, mfd, rupture_mesh_spacing,\n",
      "    magnitude_scaling_relationship, rupture_aspect_ratio, upper_seismogenic_depth,\n",
      "    lower_seismogenic_depth, location, nodal_plane_distribution, hypocenter_distribution\n",
      ")\n",
      "rupt = [r for r in src.iter_ruptures(PoissonTOM(50.))][0]"
     ],
     "language": "python",
     "metadata": {},
     "outputs": [],
     "prompt_number": 9
    },
    {
     "cell_type": "code",
     "collapsed": false,
     "input": [
      "west, east, north, south = rupt.surface.get_bounding_box()\n",
      "grid_spacing = 0.001\n",
      "lons, lats = mgrid[west: east + grid_spacing: grid_spacing, south: north + grid_spacing: grid_spacing]"
     ],
     "language": "python",
     "metadata": {},
     "outputs": [],
     "prompt_number": 10
    },
    {
     "cell_type": "code",
     "collapsed": false,
     "input": [
      "mesh = Mesh(lons, lats, None)\n",
      "plot(rupt.surface.corner_lons.take([0, 1, 3, 2, 0]), rupt.surface.corner_lats.take([0, 1, 3, 2, 0]), linewidth=3, color='black')\n",
      "dists = rupt.surface.get_rx_distance(mesh)\n",
      "contourf(lons, lats, dists)\n",
      "colorbar()"
     ],
     "language": "python",
     "metadata": {},
     "outputs": [
      {
       "output_type": "pyout",
       "prompt_number": 12,
       "text": [
        "<matplotlib.colorbar.Colorbar instance at 0x1080632d8>"
       ]
      }
     ],
     "prompt_number": 12
    },
    {
     "cell_type": "code",
     "collapsed": false,
     "input": [
      "source_id = '1'\n",
      "name = 'characteristic fault'\n",
      "tectonic_region_type = 'Active Shallow Crust'\n",
      "fault_trace = Line([Point(-0.1, -0.1), Point(0., 0.), Point(0.1, 0.)])\n",
      "dip = 45.\n",
      "rake =  90.\n",
      "mesh_spacing = 3.\n",
      "surface = SimpleFaultSurface.from_fault_data(fault_trace, upper_seismogenic_depth, lower_seismogenic_depth, dip, mesh_spacing)\n",
      "surface_proj = SimpleFaultSurface.surface_projection_from_fault_data(fault_trace, upper_seismogenic_depth, lower_seismogenic_depth, dip)"
     ],
     "language": "python",
     "metadata": {},
     "outputs": [],
     "prompt_number": 13
    },
    {
     "cell_type": "code",
     "collapsed": false,
     "input": [
      "west, east, north, south = surface.get_bounding_box()\n",
      "grid_spacing = 0.001\n",
      "lons, lats = mgrid[west: east + grid_spacing: grid_spacing, south: north + grid_spacing: grid_spacing]"
     ],
     "language": "python",
     "metadata": {},
     "outputs": [],
     "prompt_number": 14
    },
    {
     "cell_type": "code",
     "collapsed": false,
     "input": [
      "mesh = Mesh(lons, lats, None)\n",
      "dists = surface.get_rx_distance(mesh)\n",
      "#boundary = surface.mesh[0, :]\n",
      "contourf(lons, lats, dists)\n",
      "plot(concatenate(surface_proj.lons, surface_proj.lons[0]) , surface_proj.lats, linewidth=2, color='black')\n",
      "colorbar()"
     ],
     "language": "python",
     "metadata": {},
     "outputs": [
      {
       "output_type": "pyout",
       "prompt_number": 15,
       "text": [
        "<matplotlib.colorbar.Colorbar instance at 0x10c58fc68>"
       ]
      }
     ],
     "prompt_number": 15
    },
    {
     "cell_type": "code",
     "collapsed": false,
     "input": [
      "boundary.l"
     ],
     "language": "python",
     "metadata": {},
     "outputs": []
    }
   ],
   "metadata": {}
  }
 ]
}